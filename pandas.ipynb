{
 "cells": [
  {
   "cell_type": "code",
   "execution_count": 28,
   "metadata": {},
   "outputs": [
    {
     "name": "stdout",
     "output_type": "stream",
     "text": [
      "    Name  Age\n",
      "0    Tom   28\n",
      "1   Jack   34\n",
      "2  Steve   29\n",
      "3  Ricky   42\n",
      "----------------------------------------------------------------------\n",
      "    Name  Age  Salary\n",
      "0    Tom   28    2300\n",
      "1   Jack   34    4000\n",
      "2  Steve   29    6000\n",
      "3  Ricky   42    3000\n",
      "----------------------------------------------------------------------\n",
      "    Name  Age  Salary\n",
      "0    Tom   28    2300\n",
      "1   Jack   34    4000\n",
      "2  Steve   29    6000\n",
      "3  Ricky   42    3000\n",
      "4    Bob   22    2100\n",
      "----------------------------------------------------------------------\n",
      "Dataframe Information:\n",
      "<class 'pandas.core.frame.DataFrame'>\n",
      "RangeIndex: 5 entries, 0 to 4\n",
      "Data columns (total 3 columns):\n",
      "Name      5 non-null object\n",
      "Age       5 non-null int64\n",
      "Salary    5 non-null int64\n",
      "dtypes: int64(2), object(1)\n",
      "memory usage: 164.0+ bytes\n",
      "None\n",
      "----------------------------------------------------------------------\n"
     ]
    }
   ],
   "source": [
    "#create dataframe from dict/list\n",
    "import pandas as pd\n",
    "data={'Name':['Tom','Jack','Steve','Ricky'],'Age':[28,34,29,42]}\n",
    "df=pd.DataFrame(data)\n",
    "#By default the index for rows is 0,1,2,....\n",
    "#df=pd.DataFrame(data,index=['rank1','rank2','rank3','rank4'])\n",
    "print(df)\n",
    "\n",
    "print(\"----------------------------------------------------------------------\")\n",
    "\n",
    "#add column salary\n",
    "df['Salary']=pd.Series([2300,4000,6000,3000])\n",
    "print(df)\n",
    "print(\"----------------------------------------------------------------------\")\n",
    "\n",
    "#add row\n",
    "df=df.append({'Name':'Bob','Age':22,'Salary':2100},ignore_index=True)\n",
    "print(df)\n",
    "\n",
    "print(\"----------------------------------------------------------------------\")\n",
    "print(\"Dataframe Information:\")\n",
    "print(df.info())\n",
    "print(\"----------------------------------------------------------------------\")\n",
    "\n"
   ]
  },
  {
   "cell_type": "code",
   "execution_count": 11,
   "metadata": {},
   "outputs": [
    {
     "name": "stdout",
     "output_type": "stream",
     "text": [
      "Below is describe\n",
      "             Age       Salary\n",
      "count   5.000000     5.000000\n",
      "mean   31.000000  3480.000000\n",
      "std     7.483315  1592.796283\n",
      "min    22.000000  2100.000000\n",
      "25%    28.000000  2300.000000\n",
      "50%    29.000000  3000.000000\n",
      "75%    34.000000  4000.000000\n",
      "max    42.000000  6000.000000\n"
     ]
    }
   ],
   "source": [
    "print(\"Below is describe\")\n",
    "#details about each column in data frame \n",
    "print(df.describe())\n"
   ]
  },
  {
   "cell_type": "code",
   "execution_count": 12,
   "metadata": {},
   "outputs": [
    {
     "name": "stdout",
     "output_type": "stream",
     "text": [
      "Name      Steve\n",
      "Age          29\n",
      "Salary     6000\n",
      "Name: 2, dtype: object\n"
     ]
    }
   ],
   "source": [
    "# select row based on integer index0,1,2\n",
    "print(df.iloc[2])"
   ]
  },
  {
   "cell_type": "code",
   "execution_count": 13,
   "metadata": {},
   "outputs": [
    {
     "name": "stdout",
     "output_type": "stream",
     "text": [
      "Name      Jack\n",
      "Age         34\n",
      "Salary    4000\n",
      "Name: 1, dtype: object\n"
     ]
    }
   ],
   "source": [
    "print(df.iloc[1])"
   ]
  },
  {
   "cell_type": "code",
   "execution_count": 17,
   "metadata": {},
   "outputs": [],
   "source": [
    "#select row with index label\n",
    "#df.loc['rank4']"
   ]
  },
  {
   "cell_type": "code",
   "execution_count": 18,
   "metadata": {},
   "outputs": [
    {
     "name": "stdout",
     "output_type": "stream",
     "text": [
      "0    28\n",
      "1    34\n",
      "2    29\n",
      "3    42\n",
      "4    22\n",
      "Name: Age, dtype: int64\n"
     ]
    }
   ],
   "source": [
    "#select column age\n",
    "print(df['Age'])"
   ]
  },
  {
   "cell_type": "code",
   "execution_count": 19,
   "metadata": {},
   "outputs": [
    {
     "data": {
      "text/html": [
       "<div>\n",
       "<style scoped>\n",
       "    .dataframe tbody tr th:only-of-type {\n",
       "        vertical-align: middle;\n",
       "    }\n",
       "\n",
       "    .dataframe tbody tr th {\n",
       "        vertical-align: top;\n",
       "    }\n",
       "\n",
       "    .dataframe thead th {\n",
       "        text-align: right;\n",
       "    }\n",
       "</style>\n",
       "<table border=\"1\" class=\"dataframe\">\n",
       "  <thead>\n",
       "    <tr style=\"text-align: right;\">\n",
       "      <th></th>\n",
       "      <th>Name</th>\n",
       "      <th>Age</th>\n",
       "      <th>Salary</th>\n",
       "    </tr>\n",
       "  </thead>\n",
       "  <tbody>\n",
       "    <tr>\n",
       "      <td>2</td>\n",
       "      <td>Steve</td>\n",
       "      <td>29</td>\n",
       "      <td>NaN</td>\n",
       "    </tr>\n",
       "    <tr>\n",
       "      <td>3</td>\n",
       "      <td>Ricky</td>\n",
       "      <td>42</td>\n",
       "      <td>NaN</td>\n",
       "    </tr>\n",
       "  </tbody>\n",
       "</table>\n",
       "</div>"
      ],
      "text/plain": [
       "    Name  Age  Salary\n",
       "2  Steve   29     NaN\n",
       "3  Ricky   42     NaN"
      ]
     },
     "execution_count": 19,
     "metadata": {},
     "output_type": "execute_result"
    }
   ],
   "source": [
    "df[2:4]"
   ]
  },
  {
   "cell_type": "code",
   "execution_count": 20,
   "metadata": {},
   "outputs": [
    {
     "name": "stdout",
     "output_type": "stream",
     "text": [
      "Describe Age count     5.000000\n",
      "mean     31.000000\n",
      "std       7.483315\n",
      "min      22.000000\n",
      "25%      28.000000\n",
      "50%      29.000000\n",
      "75%      34.000000\n",
      "max      42.000000\n",
      "Name: Age, dtype: float64\n"
     ]
    }
   ],
   "source": [
    "print(\"Describe Age\",df['Age'].describe())"
   ]
  },
  {
   "cell_type": "code",
   "execution_count": 21,
   "metadata": {},
   "outputs": [
    {
     "name": "stdout",
     "output_type": "stream",
     "text": [
      "Sum of age: 155\n"
     ]
    }
   ],
   "source": [
    "print(\"Sum of age:\",df['Age'].sum())"
   ]
  },
  {
   "cell_type": "code",
   "execution_count": 22,
   "metadata": {},
   "outputs": [],
   "source": [
    "# delete column\n",
    "#using del function\n",
    "#del df['Salary']"
   ]
  },
  {
   "cell_type": "code",
   "execution_count": 23,
   "metadata": {},
   "outputs": [
    {
     "data": {
      "text/plain": [
       "0    28\n",
       "1    34\n",
       "2    29\n",
       "3    42\n",
       "4    22\n",
       "Name: Age, dtype: int64"
      ]
     },
     "execution_count": 23,
     "metadata": {},
     "output_type": "execute_result"
    }
   ],
   "source": [
    "#using pop function\n",
    "#df.pop('Age')"
   ]
  },
  {
   "cell_type": "code",
   "execution_count": 29,
   "metadata": {},
   "outputs": [
    {
     "name": "stdout",
     "output_type": "stream",
     "text": [
      "    Name  Age  Salary\n",
      "0    Tom   28    2300\n",
      "1   Jack   34    4000\n",
      "2  Steve   29    6000\n",
      "3  Ricky   42    3000\n",
      "4    Bob   22    2100\n"
     ]
    }
   ],
   "source": [
    "#drop using the row index 1\n",
    "#df=df.drop(columns=['Age','Salary'])\n",
    "print(df)"
   ]
  },
  {
   "cell_type": "code",
   "execution_count": 30,
   "metadata": {},
   "outputs": [
    {
     "name": "stdout",
     "output_type": "stream",
     "text": [
      "    Name  Age  Salary\n",
      "1   Jack   34    4000\n",
      "3  Ricky   42    3000\n"
     ]
    }
   ],
   "source": [
    "#select row Age greater than 30\n",
    "print(df[df.Age>30])"
   ]
  },
  {
   "cell_type": "code",
   "execution_count": 31,
   "metadata": {},
   "outputs": [
    {
     "name": "stdout",
     "output_type": "stream",
     "text": [
      "    Name  Age  Salary\n",
      "0    Tom   28    2300\n",
      "1   Jack   34    4000\n",
      "2  Steve   29    6000\n",
      "3  Ricky   42    3000\n",
      "4    Bob   22    2100\n",
      "   variable  value\n",
      "0      Name    Tom\n",
      "1      Name   Jack\n",
      "2      Name  Steve\n",
      "3      Name  Ricky\n",
      "4      Name    Bob\n",
      "5       Age     28\n",
      "6       Age     34\n",
      "7       Age     29\n",
      "8       Age     42\n",
      "9       Age     22\n",
      "10   Salary   2300\n",
      "11   Salary   4000\n",
      "12   Salary   6000\n",
      "13   Salary   3000\n",
      "14   Salary   2100\n",
      "    Name  Age  Salary\n",
      "3  Ricky   42    3000\n",
      "1   Jack   34    4000\n",
      "2  Steve   29    6000\n",
      "0    Tom   28    2300\n",
      "4    Bob   22    2100\n",
      "    Name  Age   Sal\n",
      "0    Tom   28  2300\n",
      "1   Jack   34  4000\n",
      "2  Steve   29  6000\n",
      "3  Ricky   42  3000\n",
      "4    Bob   22  2100\n"
     ]
    }
   ],
   "source": [
    "# Reshaping the Data\n",
    "print(df)\n",
    "\n"
   ]
  },
  {
   "cell_type": "code",
   "execution_count": 32,
   "metadata": {},
   "outputs": [
    {
     "name": "stdout",
     "output_type": "stream",
     "text": [
      "   variable  value\n",
      "0      Name    Tom\n",
      "1      Name   Jack\n",
      "2      Name  Steve\n",
      "3      Name  Ricky\n",
      "4      Name    Bob\n",
      "5       Age     28\n",
      "6       Age     34\n",
      "7       Age     29\n",
      "8       Age     42\n",
      "9       Age     22\n",
      "10   Salary   2300\n",
      "11   Salary   4000\n",
      "12   Salary   6000\n",
      "13   Salary   3000\n",
      "14   Salary   2100\n"
     ]
    }
   ],
   "source": [
    "print(pd.melt(df))"
   ]
  },
  {
   "cell_type": "code",
   "execution_count": 38,
   "metadata": {},
   "outputs": [
    {
     "name": "stdout",
     "output_type": "stream",
     "text": [
      "    Name  Age  Salary\n",
      "4    Bob   22    2100\n",
      "0    Tom   28    2300\n",
      "2  Steve   29    6000\n",
      "1   Jack   34    4000\n",
      "3  Ricky   42    3000\n"
     ]
    }
   ],
   "source": [
    "print(df.sort_values('Age',ascending=True))"
   ]
  },
  {
   "cell_type": "code",
   "execution_count": 37,
   "metadata": {},
   "outputs": [
    {
     "name": "stdout",
     "output_type": "stream",
     "text": [
      "    Name  Age   Sal\n",
      "0    Tom   28  2300\n",
      "1   Jack   34  4000\n",
      "2  Steve   29  6000\n",
      "3  Ricky   42  3000\n",
      "4    Bob   22  2100\n"
     ]
    }
   ],
   "source": [
    "\n",
    "print(df.rename(columns={'Salary':'Sal'}))\n",
    "#print(df.rename(columns={'Salary':'Sal','Name':'N'}))"
   ]
  },
  {
   "cell_type": "code",
   "execution_count": 42,
   "metadata": {},
   "outputs": [
    {
     "name": "stdout",
     "output_type": "stream",
     "text": [
      "<class 'list'>\n",
      "<class 'pandas.core.frame.DataFrame'>\n",
      "     Names  Births\n",
      "0      Bob     968\n",
      "1  Jessica     155\n",
      "2     Mary      77\n",
      "3     John     578\n",
      "4      Mel     973\n",
      "Sum of Birth Column: 2751\n",
      "Mean of Birth Column: 550.2\n"
     ]
    }
   ],
   "source": [
    "# Creating data frame from combining lists\n",
    "#The inintial set of baby names and births\n",
    "\n",
    "\n",
    "names=['Bob','Jessica','Mary','John','Mel']\n",
    "birth=[968,155,77,578,973]\n",
    "#create data tuples\n",
    "data_tuples=list(zip(names,birth))\n",
    "#create dataframe from tuple\n",
    "print(type(data_tuples))\n",
    "df=pd.DataFrame(data=data_tuples,columns=['Names','Births'])\n",
    "print(type(df))\n",
    "print(df)\n",
    "#sum of rows\n",
    "print('Sum of Birth Column:',df['Births'].sum())\n",
    "#mean of rows\n",
    "print('Mean of Birth Column:',df['Births'].mean())"
   ]
  },
  {
   "cell_type": "code",
   "execution_count": 43,
   "metadata": {},
   "outputs": [],
   "source": [
    "#write df to csv file with header\n",
    "df.to_csv(\"births880.csv\",index=False,header=True)"
   ]
  },
  {
   "cell_type": "code",
   "execution_count": 68,
   "metadata": {},
   "outputs": [
    {
     "name": "stdout",
     "output_type": "stream",
     "text": [
      "     Names  Births\n",
      "0      Bob   968.0\n",
      "1  Jessica   155.0\n",
      "2     Mary    77.0\n",
      "3     John   578.0\n",
      "4      Mel   973.0\n",
      "5    Pappu     NaN\n",
      "6      NaN   350.0\n",
      "<class 'pandas.core.frame.DataFrame'>\n",
      "RangeIndex: 7 entries, 0 to 6\n",
      "Data columns (total 2 columns):\n",
      "Names     6 non-null object\n",
      "Births    6 non-null float64\n",
      "dtypes: float64(1), object(1)\n",
      "memory usage: 148.0+ bytes\n"
     ]
    }
   ],
   "source": [
    "#WARNING change the file before reading\n",
    "#read csv file\n",
    "#Location =r'C:\\\\Data\\birth2.csv\n",
    "df1=pd.read_csv(\"births880.csv\")\n",
    "print(df1)\n",
    "df1.info()"
   ]
  },
  {
   "cell_type": "code",
   "execution_count": 47,
   "metadata": {},
   "outputs": [
    {
     "name": "stdout",
     "output_type": "stream",
     "text": [
      "  Names  Births\n",
      "4   Mel   973.0\n",
      "0   Bob   968.0\n"
     ]
    },
    {
     "data": {
      "text/plain": [
       "973.0"
      ]
     },
     "execution_count": 47,
     "metadata": {},
     "output_type": "execute_result"
    }
   ],
   "source": [
    "#To find the most popular name or the baby name with the higest birth rate\n",
    "#sort the dataframe and select the top row\n",
    "#use the max() attribute to find the maximum value\n",
    "\n",
    "# Method 1:\n",
    "Sorted=df1.sort_values(['Births'],ascending=False)\n",
    "#first two elements\n",
    "print(Sorted.head(2))\n",
    "\n",
    "#Method 2:\n",
    "df1['Births'].max()"
   ]
  },
  {
   "cell_type": "code",
   "execution_count": 49,
   "metadata": {},
   "outputs": [
    {
     "name": "stdout",
     "output_type": "stream",
     "text": [
      "     Names  Births\n",
      "0      Bob   968.0\n",
      "1  Jessica   155.0\n",
      "2     Mary    77.0\n",
      "3     John   578.0\n",
      "4      Mel   973.0\n",
      "5    Pappu     NaN\n",
      "6      NaN   350.0\n"
     ]
    },
    {
     "data": {
      "text/plain": [
       "2    77.0\n",
       "Name: Births, dtype: float64"
      ]
     },
     "execution_count": 49,
     "metadata": {},
     "output_type": "execute_result"
    }
   ],
   "source": [
    "#find no of birth for Name Mary\n",
    "print(df1)\n",
    "df1['Births'][df1['Names']=='Mary']"
   ]
  },
  {
   "cell_type": "code",
   "execution_count": 51,
   "metadata": {},
   "outputs": [
    {
     "data": {
      "text/plain": [
       "516.8333333333334"
      ]
     },
     "execution_count": 51,
     "metadata": {},
     "output_type": "execute_result"
    }
   ],
   "source": [
    "#what is the average no.of births\n",
    "#calculate manually\n",
    "df1['Births'].mean()"
   ]
  },
  {
   "cell_type": "code",
   "execution_count": 66,
   "metadata": {},
   "outputs": [
    {
     "name": "stdout",
     "output_type": "stream",
     "text": [
      "     Names  Births\n",
      "0      Bob   968.0\n",
      "1  Jessica   155.0\n",
      "2     Mary    77.0\n",
      "3     John   578.0\n",
      "4      Mel   973.0\n",
      "5    Pappu   444.0\n",
      "6    Rahul   350.0\n"
     ]
    }
   ],
   "source": [
    "#Extract rows with null values\n",
    "print(df1)"
   ]
  },
  {
   "cell_type": "code",
   "execution_count": 65,
   "metadata": {},
   "outputs": [
    {
     "name": "stdout",
     "output_type": "stream",
     "text": [
      "False\n"
     ]
    },
    {
     "data": {
      "text/html": [
       "<div>\n",
       "<style scoped>\n",
       "    .dataframe tbody tr th:only-of-type {\n",
       "        vertical-align: middle;\n",
       "    }\n",
       "\n",
       "    .dataframe tbody tr th {\n",
       "        vertical-align: top;\n",
       "    }\n",
       "\n",
       "    .dataframe thead th {\n",
       "        text-align: right;\n",
       "    }\n",
       "</style>\n",
       "<table border=\"1\" class=\"dataframe\">\n",
       "  <thead>\n",
       "    <tr style=\"text-align: right;\">\n",
       "      <th></th>\n",
       "      <th>Names</th>\n",
       "      <th>Births</th>\n",
       "    </tr>\n",
       "  </thead>\n",
       "  <tbody>\n",
       "  </tbody>\n",
       "</table>\n",
       "</div>"
      ],
      "text/plain": [
       "Empty DataFrame\n",
       "Columns: [Names, Births]\n",
       "Index: []"
      ]
     },
     "execution_count": 65,
     "metadata": {},
     "output_type": "execute_result"
    }
   ],
   "source": [
    "#check if any NaN values in data frame\n",
    "print(df1.isnull().values.any())\n",
    "#check NaN in columns\n",
    "nan_rows=df1[df1['Names'].isnull()]\n",
    "nan_rows"
   ]
  },
  {
   "cell_type": "code",
   "execution_count": 63,
   "metadata": {},
   "outputs": [
    {
     "data": {
      "text/html": [
       "<div>\n",
       "<style scoped>\n",
       "    .dataframe tbody tr th:only-of-type {\n",
       "        vertical-align: middle;\n",
       "    }\n",
       "\n",
       "    .dataframe tbody tr th {\n",
       "        vertical-align: top;\n",
       "    }\n",
       "\n",
       "    .dataframe thead th {\n",
       "        text-align: right;\n",
       "    }\n",
       "</style>\n",
       "<table border=\"1\" class=\"dataframe\">\n",
       "  <thead>\n",
       "    <tr style=\"text-align: right;\">\n",
       "      <th></th>\n",
       "      <th>Names</th>\n",
       "      <th>Births</th>\n",
       "    </tr>\n",
       "  </thead>\n",
       "  <tbody>\n",
       "    <tr>\n",
       "      <td>0</td>\n",
       "      <td>Bob</td>\n",
       "      <td>968.0</td>\n",
       "    </tr>\n",
       "    <tr>\n",
       "      <td>1</td>\n",
       "      <td>Jessica</td>\n",
       "      <td>155.0</td>\n",
       "    </tr>\n",
       "    <tr>\n",
       "      <td>2</td>\n",
       "      <td>Mary</td>\n",
       "      <td>77.0</td>\n",
       "    </tr>\n",
       "    <tr>\n",
       "      <td>3</td>\n",
       "      <td>John</td>\n",
       "      <td>578.0</td>\n",
       "    </tr>\n",
       "    <tr>\n",
       "      <td>4</td>\n",
       "      <td>Mel</td>\n",
       "      <td>973.0</td>\n",
       "    </tr>\n",
       "    <tr>\n",
       "      <td>5</td>\n",
       "      <td>Pappu</td>\n",
       "      <td>444.0</td>\n",
       "    </tr>\n",
       "    <tr>\n",
       "      <td>6</td>\n",
       "      <td>Rahul</td>\n",
       "      <td>350.0</td>\n",
       "    </tr>\n",
       "  </tbody>\n",
       "</table>\n",
       "</div>"
      ],
      "text/plain": [
       "     Names  Births\n",
       "0      Bob   968.0\n",
       "1  Jessica   155.0\n",
       "2     Mary    77.0\n",
       "3     John   578.0\n",
       "4      Mel   973.0\n",
       "5    Pappu   444.0\n",
       "6    Rahul   350.0"
      ]
     },
     "execution_count": 63,
     "metadata": {},
     "output_type": "execute_result"
    }
   ],
   "source": [
    "#df1['Births'].fillna(444,inplace=True)\n",
    "df1"
   ]
  },
  {
   "cell_type": "code",
   "execution_count": 62,
   "metadata": {},
   "outputs": [
    {
     "name": "stdout",
     "output_type": "stream",
     "text": [
      "     Names  Births\n",
      "0      Bob   968.0\n",
      "1  Jessica   155.0\n",
      "2     Mary    77.0\n",
      "3     John   578.0\n",
      "4      Mel   973.0\n",
      "5    Pappu   444.0\n",
      "6    Rahul   350.0\n"
     ]
    }
   ],
   "source": [
    "#df1['Names'].fillna('Rahul',inplace=True)\n",
    "print(df1)"
   ]
  },
  {
   "cell_type": "code",
   "execution_count": 69,
   "metadata": {},
   "outputs": [
    {
     "name": "stdout",
     "output_type": "stream",
     "text": [
      "     Names  Births\n",
      "0      Bob   968.0\n",
      "1  Jessica   155.0\n",
      "2     Mary    77.0\n",
      "3     John   578.0\n",
      "4      Mel   973.0\n",
      "5    Pappu     NaN\n",
      "6    Pappu   350.0\n"
     ]
    }
   ],
   "source": [
    "#method ffill for forward fill\n",
    "#limit will restrict the replacement\n",
    "df1['Names'].fillna(method='ffill',limit=1,inplace=True)\n",
    "print(df1)"
   ]
  },
  {
   "cell_type": "code",
   "execution_count": 82,
   "metadata": {},
   "outputs": [
    {
     "name": "stdout",
     "output_type": "stream",
     "text": [
      "EST                      object\n",
      "Temperature               int64\n",
      "DewPoint                  int64\n",
      "Humidity                  int64\n",
      "Sea Level PressureIn    float64\n",
      "VisibilityMiles           int64\n",
      "WindSpeedMPH            float64\n",
      "PrecipitationIn          object\n",
      "CloudCover                int64\n",
      "Events                   object\n",
      "WindDirDegrees            int64\n",
      "dtype: object\n",
      "(31, 11)\n",
      "['EST', 'Temperature', 'DewPoint', 'Humidity', 'Sea Level PressureIn', 'VisibilityMiles', 'WindSpeedMPH', 'PrecipitationIn', 'CloudCover', 'Events', 'WindDirDegrees']\n",
      "<bound method IndexOpsMixin.tolist of Index(['EST', 'Temperature', 'DewPoint', 'Humidity', 'Sea Level PressureIn',\n",
      "       'VisibilityMiles', 'WindSpeedMPH', 'PrecipitationIn', 'CloudCover',\n",
      "       'Events', 'WindDirDegrees'],\n",
      "      dtype='object')>\n"
     ]
    },
    {
     "data": {
      "text/plain": [
       "count    31.000000\n",
       "mean     51.677419\n",
       "std      11.634395\n",
       "min      33.000000\n",
       "25%      44.500000\n",
       "50%      50.000000\n",
       "75%      55.000000\n",
       "max      78.000000\n",
       "Name: Humidity, dtype: float64"
      ]
     },
     "execution_count": 82,
     "metadata": {},
     "output_type": "execute_result"
    }
   ],
   "source": [
    "#understand data set\n",
    "import pandas as pd\n",
    "df=pd.read_csv(\"nyc_weather.csv\")\n",
    "#display no. of rows=shape[0] and columns[1]\n",
    "print(df.dtypes)\n",
    "#Display column name and datatype\n",
    "print(df.shape)\n",
    "df.head(5)\n",
    "df.tail(5)\n",
    "#DISPLAY COLUMN NAMES\n",
    "print(list(df))\n",
    "print(df.columns.tolist)\n",
    "df.count()\n",
    "#stats of all the columns\n",
    "df.describe()\n",
    "#Describe only one column\n",
    "df['Humidity'].describe()\n",
    "\n"
   ]
  },
  {
   "cell_type": "code",
   "execution_count": 83,
   "metadata": {},
   "outputs": [
    {
     "data": {
      "text/plain": [
       "pandas.core.series.Series"
      ]
     },
     "execution_count": 83,
     "metadata": {},
     "output_type": "execute_result"
    }
   ],
   "source": [
    "#print(df)\n",
    "type(df['Events'])"
   ]
  },
  {
   "cell_type": "code",
   "execution_count": 85,
   "metadata": {},
   "outputs": [],
   "source": [
    "#change event to categorical\n",
    "df['Events']=df.Events.astype('category')"
   ]
  },
  {
   "cell_type": "code",
   "execution_count": 84,
   "metadata": {},
   "outputs": [
    {
     "data": {
      "text/plain": [
       "pandas.core.series.Series"
      ]
     },
     "execution_count": 84,
     "metadata": {},
     "output_type": "execute_result"
    }
   ],
   "source": [
    "type(df['Events'])"
   ]
  },
  {
   "cell_type": "code",
   "execution_count": 86,
   "metadata": {},
   "outputs": [
    {
     "name": "stdout",
     "output_type": "stream",
     "text": [
      "EST                       object\n",
      "Temperature                int64\n",
      "DewPoint                   int64\n",
      "Humidity                   int64\n",
      "Sea Level PressureIn     float64\n",
      "VisibilityMiles            int64\n",
      "WindSpeedMPH             float64\n",
      "PrecipitationIn           object\n",
      "CloudCover                 int64\n",
      "Events                  category\n",
      "WindDirDegrees             int64\n",
      "dtype: object\n"
     ]
    }
   ],
   "source": [
    "print(df.dtypes)"
   ]
  },
  {
   "cell_type": "code",
   "execution_count": 99,
   "metadata": {},
   "outputs": [],
   "source": [
    "#subsetting of data frame\n",
    "#To select rows whose column values is in list\n",
    "my_list=[1952,2007]\n",
    "#To select rows whose values are in range\n",
    "my_range=range(70,80)\n",
    "#b=df.Humidity.isin(my_range) #this return boolean\n",
    "b=df.Humidity.isin(my_list)\n",
    "#use boolen value for subsetting\n",
    "#subsetting entire df based on column value\n",
    "new_df=df[df.Humidity == 44]\n",
    "#new_df\n",
    "#subsetting column based on value in other col\n",
    "x1=df['Temperature'][df['Humidity']==70]\n",
    "#x1\n",
    "df_no_NA=df[df.Humidity.notnull()]\n",
    "#df_no_NA\n"
   ]
  },
  {
   "cell_type": "code",
   "execution_count": 100,
   "metadata": {},
   "outputs": [
    {
     "data": {
      "text/html": [
       "<div>\n",
       "<style scoped>\n",
       "    .dataframe tbody tr th:only-of-type {\n",
       "        vertical-align: middle;\n",
       "    }\n",
       "\n",
       "    .dataframe tbody tr th {\n",
       "        vertical-align: top;\n",
       "    }\n",
       "\n",
       "    .dataframe thead th {\n",
       "        text-align: right;\n",
       "    }\n",
       "</style>\n",
       "<table border=\"1\" class=\"dataframe\">\n",
       "  <thead>\n",
       "    <tr style=\"text-align: right;\">\n",
       "      <th></th>\n",
       "      <th>Humidity</th>\n",
       "      <th>Sea Level PressureIn</th>\n",
       "      <th>VisibilityMiles</th>\n",
       "    </tr>\n",
       "  </thead>\n",
       "  <tbody>\n",
       "    <tr>\n",
       "      <td>0</td>\n",
       "      <td>52</td>\n",
       "      <td>30.03</td>\n",
       "      <td>10</td>\n",
       "    </tr>\n",
       "    <tr>\n",
       "      <td>1</td>\n",
       "      <td>46</td>\n",
       "      <td>30.02</td>\n",
       "      <td>10</td>\n",
       "    </tr>\n",
       "    <tr>\n",
       "      <td>2</td>\n",
       "      <td>47</td>\n",
       "      <td>29.86</td>\n",
       "      <td>10</td>\n",
       "    </tr>\n",
       "  </tbody>\n",
       "</table>\n",
       "</div>"
      ],
      "text/plain": [
       "   Humidity  Sea Level PressureIn  VisibilityMiles\n",
       "0        52                 30.03               10\n",
       "1        46                 30.02               10\n",
       "2        47                 29.86               10"
      ]
     },
     "execution_count": 100,
     "metadata": {},
     "output_type": "execute_result"
    }
   ],
   "source": [
    "df.iloc[0:3,3:6]"
   ]
  },
  {
   "cell_type": "code",
   "execution_count": 103,
   "metadata": {},
   "outputs": [
    {
     "data": {
      "text/html": [
       "<div>\n",
       "<style scoped>\n",
       "    .dataframe tbody tr th:only-of-type {\n",
       "        vertical-align: middle;\n",
       "    }\n",
       "\n",
       "    .dataframe tbody tr th {\n",
       "        vertical-align: top;\n",
       "    }\n",
       "\n",
       "    .dataframe thead th {\n",
       "        text-align: right;\n",
       "    }\n",
       "</style>\n",
       "<table border=\"1\" class=\"dataframe\">\n",
       "  <thead>\n",
       "    <tr style=\"text-align: right;\">\n",
       "      <th></th>\n",
       "      <th>EST</th>\n",
       "      <th>Temperature</th>\n",
       "      <th>DewPoint</th>\n",
       "      <th>Humidity</th>\n",
       "      <th>Sea Level PressureIn</th>\n",
       "      <th>VisibilityMiles</th>\n",
       "      <th>WindSpeedMPH</th>\n",
       "      <th>PrecipitationIn</th>\n",
       "      <th>CloudCover</th>\n",
       "      <th>Events</th>\n",
       "      <th>WindDirDegrees</th>\n",
       "    </tr>\n",
       "  </thead>\n",
       "  <tbody>\n",
       "    <tr>\n",
       "      <td>0</td>\n",
       "      <td>1/1/2016</td>\n",
       "      <td>38</td>\n",
       "      <td>23</td>\n",
       "      <td>52</td>\n",
       "      <td>30.03</td>\n",
       "      <td>10</td>\n",
       "      <td>8.0</td>\n",
       "      <td>0</td>\n",
       "      <td>5</td>\n",
       "      <td>NaN</td>\n",
       "      <td>281</td>\n",
       "    </tr>\n",
       "    <tr>\n",
       "      <td>3</td>\n",
       "      <td>1/4/2016</td>\n",
       "      <td>25</td>\n",
       "      <td>9</td>\n",
       "      <td>44</td>\n",
       "      <td>30.05</td>\n",
       "      <td>10</td>\n",
       "      <td>9.0</td>\n",
       "      <td>0</td>\n",
       "      <td>3</td>\n",
       "      <td>NaN</td>\n",
       "      <td>345</td>\n",
       "    </tr>\n",
       "  </tbody>\n",
       "</table>\n",
       "</div>"
      ],
      "text/plain": [
       "        EST  Temperature  DewPoint  Humidity  Sea Level PressureIn  \\\n",
       "0  1/1/2016           38        23        52                 30.03   \n",
       "3  1/4/2016           25         9        44                 30.05   \n",
       "\n",
       "   VisibilityMiles  WindSpeedMPH PrecipitationIn  CloudCover Events  \\\n",
       "0               10           8.0               0           5    NaN   \n",
       "3               10           9.0               0           3    NaN   \n",
       "\n",
       "   WindDirDegrees  \n",
       "0             281  \n",
       "3             345  "
      ]
     },
     "execution_count": 103,
     "metadata": {},
     "output_type": "execute_result"
    }
   ],
   "source": [
    "df.loc[[0,3],:]"
   ]
  },
  {
   "cell_type": "code",
   "execution_count": 107,
   "metadata": {},
   "outputs": [
    {
     "name": "stdout",
     "output_type": "stream",
     "text": [
      "   Animal  Max Speed\n",
      "0  Falcon      380.0\n",
      "1  Falcon      370.0\n",
      "2  Parrot       24.0\n",
      "3  Parrot       26.0\n",
      "Falcon    2\n",
      "Parrot    2\n",
      "Name: Animal, dtype: int64\n",
      "        Max Speed\n",
      "Animal           \n",
      "Falcon      750.0\n",
      "Parrot       50.0\n",
      "        Max Speed\n",
      "Animal           \n",
      "Falcon      375.0\n",
      "Parrot       25.0\n"
     ]
    }
   ],
   "source": [
    "df=pd.DataFrame({'Animal':['Falcon','Falcon','Parrot','Parrot'], 'Max Speed':[380.,370.,24.,26.]})\n",
    "print(df)\n",
    "print(df['Animal'].value_counts())# count of animals\n",
    "print(df.groupby(['Animal']).sum())\n",
    "print(df.groupby(['Animal']).mean())"
   ]
  },
  {
   "cell_type": "code",
   "execution_count": 110,
   "metadata": {},
   "outputs": [
    {
     "name": "stdout",
     "output_type": "stream",
     "text": [
      "        Animal  Max Speed\n",
      "Animal                   \n",
      "Falcon  Falcon      380.0\n",
      "Parrot  Parrot       26.0\n"
     ]
    }
   ],
   "source": [
    "df_gr=df.groupby('Animal')\n",
    "print(df_gr['Animal','Max Speed'].max())"
   ]
  },
  {
   "cell_type": "code",
   "execution_count": 113,
   "metadata": {},
   "outputs": [
    {
     "data": {
      "text/plain": [
       "Animal  Animal\n",
       "Falcon  Falcon    2\n",
       "Parrot  Parrot    2\n",
       "Name: Animal, dtype: int64"
      ]
     },
     "execution_count": 113,
     "metadata": {},
     "output_type": "execute_result"
    }
   ],
   "source": [
    "df_gr['Animal'].value_counts()"
   ]
  },
  {
   "cell_type": "code",
   "execution_count": null,
   "metadata": {},
   "outputs": [],
   "source": []
  }
 ],
 "metadata": {
  "kernelspec": {
   "display_name": "Python 3",
   "language": "python",
   "name": "python3"
  },
  "language_info": {
   "codemirror_mode": {
    "name": "ipython",
    "version": 3
   },
   "file_extension": ".py",
   "mimetype": "text/x-python",
   "name": "python",
   "nbconvert_exporter": "python",
   "pygments_lexer": "ipython3",
   "version": "3.7.4"
  }
 },
 "nbformat": 4,
 "nbformat_minor": 2
}
