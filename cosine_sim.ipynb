{
 "cells": [
  {
   "cell_type": "code",
   "execution_count": 101,
   "metadata": {},
   "outputs": [],
   "source": [
    "# Denfine the documents\n",
    "doc_trump = \"Mr. Trump became president after winning the political election. Though he lost the support\"\n",
    "doc_election = \"President Trump says Putin had no political interference is the election outcome. \"\n",
    "doc_putin = \"Post elections, Vladimir Putin became President of Russia. President Putin had served \"\n",
    "#documents=[doc_trump,doc_election,doc_putin]\n",
    "doc_test = \"Post elections, Vladimir Putin became President of India. Prime  sona had served \"\n",
    "documents=[doc_trump,doc_election,doc_putin,doc_test]"
   ]
  },
  {
   "cell_type": "code",
   "execution_count": 102,
   "metadata": {},
   "outputs": [
    {
     "data": {
      "text/plain": [
       "'Mr. Trump became president after winning the political election. Though he lost the support'"
      ]
     },
     "execution_count": 102,
     "metadata": {},
     "output_type": "execute_result"
    }
   ],
   "source": [
    "documents[0]"
   ]
  },
  {
   "cell_type": "code",
   "execution_count": 103,
   "metadata": {},
   "outputs": [
    {
     "data": {
      "text/plain": [
       "'President Trump says Putin had no political interference is the election outcome. '"
      ]
     },
     "execution_count": 103,
     "metadata": {},
     "output_type": "execute_result"
    }
   ],
   "source": [
    "documents[1]"
   ]
  },
  {
   "cell_type": "code",
   "execution_count": 104,
   "metadata": {},
   "outputs": [
    {
     "data": {
      "text/plain": [
       "'Post elections, Vladimir Putin became President of Russia. President Putin had served '"
      ]
     },
     "execution_count": 104,
     "metadata": {},
     "output_type": "execute_result"
    }
   ],
   "source": [
    "documents[2]"
   ]
  },
  {
   "cell_type": "code",
   "execution_count": 105,
   "metadata": {},
   "outputs": [],
   "source": [
    "from sklearn.feature_extraction.text import CountVectorizer\n",
    "import pandas as pd\n",
    "#create the Document Term Matrix\n",
    "count_vectorizer = CountVectorizer(stop_words='english')\n",
    "count_vectorizer=CountVectorizer()\n",
    "sparse_matrix=count_vectorizer.fit_transform(documents)"
   ]
  },
  {
   "cell_type": "code",
   "execution_count": 106,
   "metadata": {},
   "outputs": [
    {
     "data": {
      "text/plain": [
       "(4, 29)"
      ]
     },
     "execution_count": 106,
     "metadata": {},
     "output_type": "execute_result"
    }
   ],
   "source": [
    "sparse_matrix.shape"
   ]
  },
  {
   "cell_type": "code",
   "execution_count": 107,
   "metadata": {},
   "outputs": [
    {
     "data": {
      "text/html": [
       "<div>\n",
       "<style scoped>\n",
       "    .dataframe tbody tr th:only-of-type {\n",
       "        vertical-align: middle;\n",
       "    }\n",
       "\n",
       "    .dataframe tbody tr th {\n",
       "        vertical-align: top;\n",
       "    }\n",
       "\n",
       "    .dataframe thead th {\n",
       "        text-align: right;\n",
       "    }\n",
       "</style>\n",
       "<table border=\"1\" class=\"dataframe\">\n",
       "  <thead>\n",
       "    <tr style=\"text-align: right;\">\n",
       "      <th></th>\n",
       "      <th>after</th>\n",
       "      <th>became</th>\n",
       "      <th>election</th>\n",
       "      <th>elections</th>\n",
       "      <th>had</th>\n",
       "      <th>he</th>\n",
       "      <th>india</th>\n",
       "      <th>interference</th>\n",
       "      <th>is</th>\n",
       "      <th>lost</th>\n",
       "      <th>...</th>\n",
       "      <th>russia</th>\n",
       "      <th>says</th>\n",
       "      <th>served</th>\n",
       "      <th>sona</th>\n",
       "      <th>support</th>\n",
       "      <th>the</th>\n",
       "      <th>though</th>\n",
       "      <th>trump</th>\n",
       "      <th>vladimir</th>\n",
       "      <th>winning</th>\n",
       "    </tr>\n",
       "  </thead>\n",
       "  <tbody>\n",
       "    <tr>\n",
       "      <td>doc_trump</td>\n",
       "      <td>1</td>\n",
       "      <td>1</td>\n",
       "      <td>1</td>\n",
       "      <td>0</td>\n",
       "      <td>0</td>\n",
       "      <td>1</td>\n",
       "      <td>0</td>\n",
       "      <td>0</td>\n",
       "      <td>0</td>\n",
       "      <td>1</td>\n",
       "      <td>...</td>\n",
       "      <td>0</td>\n",
       "      <td>0</td>\n",
       "      <td>0</td>\n",
       "      <td>0</td>\n",
       "      <td>1</td>\n",
       "      <td>2</td>\n",
       "      <td>1</td>\n",
       "      <td>1</td>\n",
       "      <td>0</td>\n",
       "      <td>1</td>\n",
       "    </tr>\n",
       "    <tr>\n",
       "      <td>doc_election</td>\n",
       "      <td>0</td>\n",
       "      <td>0</td>\n",
       "      <td>1</td>\n",
       "      <td>0</td>\n",
       "      <td>1</td>\n",
       "      <td>0</td>\n",
       "      <td>0</td>\n",
       "      <td>1</td>\n",
       "      <td>1</td>\n",
       "      <td>0</td>\n",
       "      <td>...</td>\n",
       "      <td>0</td>\n",
       "      <td>1</td>\n",
       "      <td>0</td>\n",
       "      <td>0</td>\n",
       "      <td>0</td>\n",
       "      <td>1</td>\n",
       "      <td>0</td>\n",
       "      <td>1</td>\n",
       "      <td>0</td>\n",
       "      <td>0</td>\n",
       "    </tr>\n",
       "    <tr>\n",
       "      <td>doc_putin</td>\n",
       "      <td>0</td>\n",
       "      <td>1</td>\n",
       "      <td>0</td>\n",
       "      <td>1</td>\n",
       "      <td>1</td>\n",
       "      <td>0</td>\n",
       "      <td>0</td>\n",
       "      <td>0</td>\n",
       "      <td>0</td>\n",
       "      <td>0</td>\n",
       "      <td>...</td>\n",
       "      <td>1</td>\n",
       "      <td>0</td>\n",
       "      <td>1</td>\n",
       "      <td>0</td>\n",
       "      <td>0</td>\n",
       "      <td>0</td>\n",
       "      <td>0</td>\n",
       "      <td>0</td>\n",
       "      <td>1</td>\n",
       "      <td>0</td>\n",
       "    </tr>\n",
       "    <tr>\n",
       "      <td>doc_test</td>\n",
       "      <td>0</td>\n",
       "      <td>1</td>\n",
       "      <td>0</td>\n",
       "      <td>1</td>\n",
       "      <td>1</td>\n",
       "      <td>0</td>\n",
       "      <td>1</td>\n",
       "      <td>0</td>\n",
       "      <td>0</td>\n",
       "      <td>0</td>\n",
       "      <td>...</td>\n",
       "      <td>0</td>\n",
       "      <td>0</td>\n",
       "      <td>1</td>\n",
       "      <td>1</td>\n",
       "      <td>0</td>\n",
       "      <td>0</td>\n",
       "      <td>0</td>\n",
       "      <td>0</td>\n",
       "      <td>1</td>\n",
       "      <td>0</td>\n",
       "    </tr>\n",
       "  </tbody>\n",
       "</table>\n",
       "<p>4 rows × 29 columns</p>\n",
       "</div>"
      ],
      "text/plain": [
       "              after  became  election  elections  had  he  india  \\\n",
       "doc_trump         1       1         1          0    0   1      0   \n",
       "doc_election      0       0         1          0    1   0      0   \n",
       "doc_putin         0       1         0          1    1   0      0   \n",
       "doc_test          0       1         0          1    1   0      1   \n",
       "\n",
       "              interference  is  lost  ...  russia  says  served  sona  \\\n",
       "doc_trump                0   0     1  ...       0     0       0     0   \n",
       "doc_election             1   1     0  ...       0     1       0     0   \n",
       "doc_putin                0   0     0  ...       1     0       1     0   \n",
       "doc_test                 0   0     0  ...       0     0       1     1   \n",
       "\n",
       "              support  the  though  trump  vladimir  winning  \n",
       "doc_trump           1    2       1      1         0        1  \n",
       "doc_election        0    1       0      1         0        0  \n",
       "doc_putin           0    0       0      0         1        0  \n",
       "doc_test            0    0       0      0         1        0  \n",
       "\n",
       "[4 rows x 29 columns]"
      ]
     },
     "execution_count": 107,
     "metadata": {},
     "output_type": "execute_result"
    }
   ],
   "source": [
    "#optional: Covert Sparse Matrix to Pandas Dataframe if you want to see\n",
    "doc_term_matrix=sparse_matrix.todense()\n",
    "df=pd.DataFrame(doc_term_matrix,columns=count_vectorizer.get_feature_names(),\n",
    "               index=['doc_trump','doc_election','doc_putin','doc_test'])\n",
    "df"
   ]
  },
  {
   "cell_type": "code",
   "execution_count": 108,
   "metadata": {},
   "outputs": [
    {
     "name": "stdout",
     "output_type": "stream",
     "text": [
      "[[1.         0.4330127  0.1875     0.14433757]\n",
      " [0.4330127  1.         0.36084392 0.25      ]\n",
      " [0.1875     0.36084392 1.         0.79385662]\n",
      " [0.14433757 0.25       0.79385662 1.        ]]\n"
     ]
    }
   ],
   "source": [
    "# Compute cosine similarity\n",
    "from sklearn.metrics.pairwise import cosine_similarity\n",
    "print(cosine_similarity(df,df))"
   ]
  },
  {
   "cell_type": "code",
   "execution_count": 109,
   "metadata": {},
   "outputs": [
    {
     "name": "stdout",
     "output_type": "stream",
     "text": [
      "after\n",
      "the\n",
      "he\n",
      "the\n",
      "no of stop words: 4\n"
     ]
    },
    {
     "name": "stderr",
     "output_type": "stream",
     "text": [
      "[nltk_data] Downloading package stopwords to\n",
      "[nltk_data]     C:\\Users\\sonali\\AppData\\Roaming\\nltk_data...\n",
      "[nltk_data]   Package stopwords is already up-to-date!\n"
     ]
    }
   ],
   "source": [
    "#count of stop words\n",
    "#y='you are a very good boy'\n",
    "import nltk\n",
    "nltk.download('stopwords')\n",
    "from nltk.corpus import stopwords\n",
    "stop=stopwords.words('english')\n",
    "i=0\n",
    "for x in documents[0].split():\n",
    "    if x in stop:\n",
    "        print(x)\n",
    "        i+=1\n",
    "print('no of stop words:',i)"
   ]
  },
  {
   "cell_type": "code",
   "execution_count": 130,
   "metadata": {},
   "outputs": [
    {
     "name": "stdout",
     "output_type": "stream",
     "text": [
      "['Mr.Trumpbecamepresidentwinningpoliticalelection.Thoughlostsupport']\n",
      "Mr.Trumpbecamepresidentwinningpoliticalelection.Thoughlostsupport \n"
     ]
    },
    {
     "data": {
      "text/plain": [
       "'Mr.Trumpbecamepresidentwinningpoliticalelection.Thoughlostsupport '"
      ]
     },
     "execution_count": 130,
     "metadata": {},
     "output_type": "execute_result"
    }
   ],
   "source": [
    "from nltk.corpus import stopwords \n",
    "from nltk.tokenize import word_tokenize \n",
    "stop_words = set(stopwords.words('english')) \n",
    "  \n",
    "word_tokens = word_tokenize(documents[0]) \n",
    "  \n",
    "filtered_sentence = [w for w in word_tokens if not w in stop_words] \n",
    "  \n",
    "filtered_sentence = [] \n",
    "  \n",
    "for w in word_tokens: \n",
    "    if w not in stop_words: \n",
    "        filtered_sentence.append(w) \n",
    "  \n",
    " \n",
    "print(filtered_sentence) \n",
    "def listToString(s):  \n",
    "    \n",
    "    # initialize an empty string \n",
    "    str1 = \"\"  \n",
    "    \n",
    "    # traverse in the string   \n",
    "    for ele in s:  \n",
    "        str1 += ele+\" \"   \n",
    "    \n",
    "    # return string   \n",
    "    return str1  \n",
    "        \n",
    "        \n",
    "# Driver code     \n",
    "\n",
    "print(listToString(filtered_sentence))  \n",
    "l1=listToString(filtered_sentence)\n",
    "l1"
   ]
  },
  {
   "cell_type": "code",
   "execution_count": 131,
   "metadata": {},
   "outputs": [
    {
     "name": "stdout",
     "output_type": "stream",
     "text": [
      "['PresidentTrumpsaysPutinpoliticalinterferenceelectionoutcome', '.']\n",
      "PresidentTrumpsaysPutinpoliticalinterferenceelectionoutcome . \n"
     ]
    }
   ],
   "source": [
    "word_tokens = word_tokenize(documents[1]) \n",
    "  \n",
    "filtered_sentence1 = [w for w in word_tokens if not w in stop_words] \n",
    "  \n",
    "filtered_sentence1 = [] \n",
    "  \n",
    "for w in word_tokens: \n",
    "    if w not in stop_words: \n",
    "        filtered_sentence1.append(w) \n",
    "  \n",
    " \n",
    "print(filtered_sentence1) \n",
    "print(listToString(filtered_sentence1))  \n",
    "l2=listToString(filtered_sentence1)"
   ]
  },
  {
   "cell_type": "code",
   "execution_count": 132,
   "metadata": {},
   "outputs": [
    {
     "name": "stdout",
     "output_type": "stream",
     "text": [
      "['Postelections', ',', 'VladimirPutinbecamePresidentRussia.PresidentPutinserved']\n",
      "Postelections , VladimirPutinbecamePresidentRussia.PresidentPutinserved \n"
     ]
    }
   ],
   "source": [
    "word_tokens = word_tokenize(documents[2]) \n",
    "  \n",
    "filtered_sentence2 = [w for w in word_tokens if not w in stop_words] \n",
    "  \n",
    "filtered_sentence2 = [] \n",
    "  \n",
    "for w in word_tokens: \n",
    "    if w not in stop_words: \n",
    "        filtered_sentence2.append(w) \n",
    "  \n",
    " \n",
    "print(filtered_sentence2)\n",
    "print(listToString(filtered_sentence2))  \n",
    "l3=listToString(filtered_sentence2)"
   ]
  },
  {
   "cell_type": "code",
   "execution_count": 133,
   "metadata": {},
   "outputs": [
    {
     "name": "stdout",
     "output_type": "stream",
     "text": [
      "['Postelections', ',', 'VladimirPutinbecamePresidentIndia.Primesonaserved']\n",
      "Postelections , VladimirPutinbecamePresidentIndia.Primesonaserved \n"
     ]
    }
   ],
   "source": [
    "word_tokens = word_tokenize(documents[3]) \n",
    "  \n",
    "filtered_sentence3 = [w for w in word_tokens if not w in stop_words] \n",
    "  \n",
    "filtered_sentence3 = [] \n",
    "  \n",
    "for w in word_tokens: \n",
    "    if w not in stop_words: \n",
    "        filtered_sentence3.append(w) \n",
    "  \n",
    " \n",
    "print(filtered_sentence3) \n",
    "print(listToString(filtered_sentence3))\n",
    "l3=listToString(filtered_sentence3)"
   ]
  },
  {
   "cell_type": "code",
   "execution_count": 134,
   "metadata": {},
   "outputs": [
    {
     "data": {
      "text/plain": [
       "['Mr.Trumpbecamepresidentwinningpoliticalelection.Thoughlostsupport ',\n",
       " 'PresidentTrumpsaysPutinpoliticalinterferenceelectionoutcome . ',\n",
       " 'Postelections , VladimirPutinbecamePresidentRussia.PresidentPutinserved ',\n",
       " 'Postelections , VladimirPutinbecamePresidentIndia.Primesonaserved ']"
      ]
     },
     "execution_count": 134,
     "metadata": {},
     "output_type": "execute_result"
    }
   ],
   "source": [
    "documents=[listToString(filtered_sentence),listToString(filtered_sentence1),listToString(filtered_sentence2),listToString(filtered_sentence3)]\n",
    "documents"
   ]
  },
  {
   "cell_type": "code",
   "execution_count": 135,
   "metadata": {},
   "outputs": [],
   "source": [
    "from sklearn.feature_extraction.text import CountVectorizer\n",
    "import pandas as pd\n",
    "#create the Document Term Matrix\n",
    "count_vectorizer = CountVectorizer(stop_words='english')\n",
    "count_vectorizer=CountVectorizer()\n",
    "sparse_matrix=count_vectorizer.fit_transform(documents)"
   ]
  },
  {
   "cell_type": "code",
   "execution_count": 136,
   "metadata": {},
   "outputs": [
    {
     "data": {
      "text/html": [
       "<div>\n",
       "<style scoped>\n",
       "    .dataframe tbody tr th:only-of-type {\n",
       "        vertical-align: middle;\n",
       "    }\n",
       "\n",
       "    .dataframe tbody tr th {\n",
       "        vertical-align: top;\n",
       "    }\n",
       "\n",
       "    .dataframe thead th {\n",
       "        text-align: right;\n",
       "    }\n",
       "</style>\n",
       "<table border=\"1\" class=\"dataframe\">\n",
       "  <thead>\n",
       "    <tr style=\"text-align: right;\">\n",
       "      <th></th>\n",
       "      <th>mr</th>\n",
       "      <th>postelections</th>\n",
       "      <th>presidentputinserved</th>\n",
       "      <th>presidenttrumpsaysputinpoliticalinterferenceelectionoutcome</th>\n",
       "      <th>primesonaserved</th>\n",
       "      <th>thoughlostsupport</th>\n",
       "      <th>trumpbecamepresidentwinningpoliticalelection</th>\n",
       "      <th>vladimirputinbecamepresidentindia</th>\n",
       "      <th>vladimirputinbecamepresidentrussia</th>\n",
       "    </tr>\n",
       "  </thead>\n",
       "  <tbody>\n",
       "    <tr>\n",
       "      <td>l1</td>\n",
       "      <td>1</td>\n",
       "      <td>0</td>\n",
       "      <td>0</td>\n",
       "      <td>0</td>\n",
       "      <td>0</td>\n",
       "      <td>1</td>\n",
       "      <td>1</td>\n",
       "      <td>0</td>\n",
       "      <td>0</td>\n",
       "    </tr>\n",
       "    <tr>\n",
       "      <td>l2</td>\n",
       "      <td>0</td>\n",
       "      <td>0</td>\n",
       "      <td>0</td>\n",
       "      <td>1</td>\n",
       "      <td>0</td>\n",
       "      <td>0</td>\n",
       "      <td>0</td>\n",
       "      <td>0</td>\n",
       "      <td>0</td>\n",
       "    </tr>\n",
       "    <tr>\n",
       "      <td>l3</td>\n",
       "      <td>0</td>\n",
       "      <td>1</td>\n",
       "      <td>1</td>\n",
       "      <td>0</td>\n",
       "      <td>0</td>\n",
       "      <td>0</td>\n",
       "      <td>0</td>\n",
       "      <td>0</td>\n",
       "      <td>1</td>\n",
       "    </tr>\n",
       "    <tr>\n",
       "      <td>l4</td>\n",
       "      <td>0</td>\n",
       "      <td>1</td>\n",
       "      <td>0</td>\n",
       "      <td>0</td>\n",
       "      <td>1</td>\n",
       "      <td>0</td>\n",
       "      <td>0</td>\n",
       "      <td>1</td>\n",
       "      <td>0</td>\n",
       "    </tr>\n",
       "  </tbody>\n",
       "</table>\n",
       "</div>"
      ],
      "text/plain": [
       "    mr  postelections  presidentputinserved  \\\n",
       "l1   1              0                     0   \n",
       "l2   0              0                     0   \n",
       "l3   0              1                     1   \n",
       "l4   0              1                     0   \n",
       "\n",
       "    presidenttrumpsaysputinpoliticalinterferenceelectionoutcome  \\\n",
       "l1                                                  0             \n",
       "l2                                                  1             \n",
       "l3                                                  0             \n",
       "l4                                                  0             \n",
       "\n",
       "    primesonaserved  thoughlostsupport  \\\n",
       "l1                0                  1   \n",
       "l2                0                  0   \n",
       "l3                0                  0   \n",
       "l4                1                  0   \n",
       "\n",
       "    trumpbecamepresidentwinningpoliticalelection  \\\n",
       "l1                                             1   \n",
       "l2                                             0   \n",
       "l3                                             0   \n",
       "l4                                             0   \n",
       "\n",
       "    vladimirputinbecamepresidentindia  vladimirputinbecamepresidentrussia  \n",
       "l1                                  0                                   0  \n",
       "l2                                  0                                   0  \n",
       "l3                                  0                                   1  \n",
       "l4                                  1                                   0  "
      ]
     },
     "execution_count": 136,
     "metadata": {},
     "output_type": "execute_result"
    }
   ],
   "source": [
    "#optional: Covert Sparse Matrix to Pandas Dataframe if you want to see\n",
    "doc_term_matrix=sparse_matrix.todense()\n",
    "df=pd.DataFrame(doc_term_matrix,columns=count_vectorizer.get_feature_names(),\n",
    "               index=['l1','l2','l3','l4'])\n",
    "df"
   ]
  },
  {
   "cell_type": "code",
   "execution_count": 139,
   "metadata": {},
   "outputs": [
    {
     "data": {
      "text/plain": [
       "(4, 9)"
      ]
     },
     "execution_count": 139,
     "metadata": {},
     "output_type": "execute_result"
    }
   ],
   "source": [
    "df.shape"
   ]
  },
  {
   "cell_type": "code",
   "execution_count": 138,
   "metadata": {},
   "outputs": [
    {
     "name": "stdout",
     "output_type": "stream",
     "text": [
      "[[1.         0.         0.         0.        ]\n",
      " [0.         1.         0.         0.        ]\n",
      " [0.         0.         1.         0.33333333]\n",
      " [0.         0.         0.33333333 1.        ]]\n"
     ]
    }
   ],
   "source": [
    "# Compute cosine similarity\n",
    "from sklearn.metrics.pairwise import cosine_similarity\n",
    "print(cosine_similarity(df,df))"
   ]
  },
  {
   "cell_type": "code",
   "execution_count": null,
   "metadata": {},
   "outputs": [],
   "source": []
  },
  {
   "cell_type": "code",
   "execution_count": null,
   "metadata": {},
   "outputs": [],
   "source": []
  }
 ],
 "metadata": {
  "kernelspec": {
   "display_name": "Python 3",
   "language": "python",
   "name": "python3"
  },
  "language_info": {
   "codemirror_mode": {
    "name": "ipython",
    "version": 3
   },
   "file_extension": ".py",
   "mimetype": "text/x-python",
   "name": "python",
   "nbconvert_exporter": "python",
   "pygments_lexer": "ipython3",
   "version": "3.7.4"
  }
 },
 "nbformat": 4,
 "nbformat_minor": 2
}
