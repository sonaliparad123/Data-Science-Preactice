{
 "cells": [
  {
   "cell_type": "code",
   "execution_count": 3,
   "metadata": {},
   "outputs": [],
   "source": [
    "#pip install gensim\n",
    "import gensim\n",
    "from gensim import models\n",
    "import numpy as np\n",
    "documents=[\"this is the first line\",\n",
    "          \"this is the second sentence\",\n",
    "          \"this is third document third \"]\n"
   ]
  },
  {
   "cell_type": "code",
   "execution_count": 4,
   "metadata": {},
   "outputs": [
    {
     "data": {
      "text/plain": [
       "'this is third document third '"
      ]
     },
     "execution_count": 4,
     "metadata": {},
     "output_type": "execute_result"
    }
   ],
   "source": [
    "documents[2]"
   ]
  },
  {
   "cell_type": "code",
   "execution_count": 5,
   "metadata": {},
   "outputs": [],
   "source": [
    "import nltk"
   ]
  },
  {
   "cell_type": "code",
   "execution_count": null,
   "metadata": {},
   "outputs": [],
   "source": [
    "nltk.download()"
   ]
  },
  {
   "cell_type": "code",
   "execution_count": 6,
   "metadata": {},
   "outputs": [
    {
     "name": "stdout",
     "output_type": "stream",
     "text": [
      "[['this', 'is', 'the', 'first', 'line'], ['this', 'is', 'the', 'second', 'sentence'], ['this', 'is', 'third', 'document', 'third']]\n"
     ]
    }
   ],
   "source": [
    "#tokenization using nltk module\n",
    "\n",
    "from nltk.tokenize import word_tokenize      #natural language toolkit\n",
    "gen_docs=[[w.lower() for w in word_tokenize(text)]\n",
    "         for text in documents]\n",
    "print(gen_docs)"
   ]
  },
  {
   "cell_type": "code",
   "execution_count": 8,
   "metadata": {},
   "outputs": [
    {
     "data": {
      "text/plain": [
       "{'first': 0,\n",
       " 'is': 1,\n",
       " 'line': 2,\n",
       " 'the': 3,\n",
       " 'this': 4,\n",
       " 'second': 5,\n",
       " 'sentence': 6,\n",
       " 'document': 7,\n",
       " 'third': 8}"
      ]
     },
     "execution_count": 8,
     "metadata": {},
     "output_type": "execute_result"
    }
   ],
   "source": [
    "dictionary=gensim.corpora.Dictionary(gen_docs)\n",
    "dictionary.token2id"
   ]
  },
  {
   "cell_type": "code",
   "execution_count": 10,
   "metadata": {},
   "outputs": [
    {
     "name": "stdout",
     "output_type": "stream",
     "text": [
      "[[(0, 1), (1, 1), (2, 1), (3, 1), (4, 1)], [(1, 1), (3, 1), (4, 1), (5, 1), (6, 1)], [(1, 1), (4, 1), (7, 1), (8, 2)]]\n",
      "[['this', 'is', 'the', 'first', 'line'], ['this', 'is', 'the', 'second', 'sentence'], ['this', 'is', 'third', 'document', 'third']]\n"
     ]
    }
   ],
   "source": [
    "#dictionary.token2id\n",
    "corpus=[dictionary.doc2bow(gen_doc) for gen_doc in gen_docs ]\n",
    "print(corpus)\n",
    "print(gen_docs)"
   ]
  },
  {
   "cell_type": "code",
   "execution_count": 16,
   "metadata": {},
   "outputs": [
    {
     "name": "stdout",
     "output_type": "stream",
     "text": [
      "[['first', 0.68], ['line', 0.68], ['the', 0.25]]\n",
      "[['the', 0.25], ['second', 0.68], ['sentence', 0.68]]\n",
      "[['document', 0.45], ['third', 0.89]]\n"
     ]
    }
   ],
   "source": [
    "tfidf=models.TfidfModel(corpus)\n",
    "#show the TF-IDF weights\n",
    "mydict=dictionary\n",
    "for doc in tfidf[corpus]:\n",
    "    print([[mydict[id],np.around(freq,decimals=2)] for id, freq in doc])"
   ]
  },
  {
   "cell_type": "code",
   "execution_count": 19,
   "metadata": {},
   "outputs": [
    {
     "data": {
      "text/plain": [
       "0.14624062518028905"
      ]
     },
     "execution_count": 19,
     "metadata": {},
     "output_type": "execute_result"
    }
   ],
   "source": [
    "import math\n",
    "\n",
    "(1/4)*math.log(3/2,2)"
   ]
  }
 ],
 "metadata": {
  "kernelspec": {
   "display_name": "Python 3",
   "language": "python",
   "name": "python3"
  },
  "language_info": {
   "codemirror_mode": {
    "name": "ipython",
    "version": 3
   },
   "file_extension": ".py",
   "mimetype": "text/x-python",
   "name": "python",
   "nbconvert_exporter": "python",
   "pygments_lexer": "ipython3",
   "version": "3.7.4"
  }
 },
 "nbformat": 4,
 "nbformat_minor": 2
}
