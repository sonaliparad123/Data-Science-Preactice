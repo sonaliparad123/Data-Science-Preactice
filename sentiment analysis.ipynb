{
 "cells": [
  {
   "cell_type": "code",
   "execution_count": 1,
   "metadata": {},
   "outputs": [],
   "source": [
    "positive_words=['good','great','awesome','amazing','nice','wow','beautiful','fantastic','cool','extraordinary']\n",
    "negative_words=['bad','stupid','worst','ugly','terrible','evil','harmful','hate','dastardly','hard']"
   ]
  },
  {
   "cell_type": "code",
   "execution_count": 10,
   "metadata": {},
   "outputs": [],
   "source": [
    "review='The sushi was terrible but ambience was great and food was nice,awesome'"
   ]
  },
  {
   "cell_type": "code",
   "execution_count": 11,
   "metadata": {},
   "outputs": [],
   "source": [
    "positivity=0\n",
    "for j in positive_words:\n",
    "    if review.find(j)>=0:\n",
    "        positivity=positivity+1\n",
    "negativity=0\n",
    "for j in negative_words:\n",
    "    if review.find(j)>=0:\n",
    "        negativity=negativity+1"
   ]
  },
  {
   "cell_type": "code",
   "execution_count": 12,
   "metadata": {},
   "outputs": [
    {
     "name": "stdout",
     "output_type": "stream",
     "text": [
      "positivity:  3 \n",
      "negativity: 1 \n",
      "total_score: 2\n",
      "Positive\n"
     ]
    }
   ],
   "source": [
    "total_score=positivity-negativity\n",
    "print(\"positivity: \",positivity,\"\\nnegativity:\",negativity,\"\\ntotal_score:\",total_score)\n",
    "if total_score>0:\n",
    "    print( 'Positive')\n",
    "else:\n",
    "    print(\"Negative\")"
   ]
  },
  {
   "cell_type": "code",
   "execution_count": 19,
   "metadata": {},
   "outputs": [
    {
     "name": "stdout",
     "output_type": "stream",
     "text": [
      "I hate Monday\n",
      "Sentiment(polarity=-0.8, subjectivity=0.9)\n",
      "Monday is bad\n",
      "Sentiment(polarity=-0.6999999999999998, subjectivity=0.6666666666666666)\n"
     ]
    }
   ],
   "source": [
    "from textblob import TextBlob\n",
    "y=\"I hate Monday\"\n",
    "print(y)\n",
    "print(TextBlob(y).sentiment)\n",
    "y=\"Monday is bad\"\n",
    "print(y)\n",
    "print(TextBlob(y).sentiment)"
   ]
  },
  {
   "cell_type": "code",
   "execution_count": 21,
   "metadata": {},
   "outputs": [
    {
     "name": "stdout",
     "output_type": "stream",
     "text": [
      "I hate Monday\n",
      "Sentiment(polarity=-0.8, subjectivity=0.9)\n",
      "Sentiment(polarity=0.5, subjectivity=0.6)\n",
      "Sentiment(polarity=-0.15000000000000002, subjectivity=0.75)\n"
     ]
    }
   ],
   "source": [
    "y='I hate Monday'\n",
    "print(y)\n",
    "print(TextBlob(y).sentiment)\n",
    "y='I love nagpur'\n",
    "print(TextBlob(y).sentiment)\n",
    "y='I hate Monday and I love Monday'\n",
    "print(TextBlob(y).sentiment)"
   ]
  },
  {
   "cell_type": "code",
   "execution_count": 22,
   "metadata": {},
   "outputs": [
    {
     "data": {
      "text/plain": [
       "'release date : january 22 , 1999 starring : emily watson , rachel griffiths , david morrissey , jame'"
      ]
     },
     "execution_count": 22,
     "metadata": {},
     "output_type": "execute_result"
    }
   ],
   "source": [
    "myfile=open(\"cv022_tok-17069.txt\")\n",
    "sample=myfile.read()\n",
    "myfile.close()\n",
    "sample[0:100]"
   ]
  },
  {
   "cell_type": "code",
   "execution_count": 23,
   "metadata": {},
   "outputs": [
    {
     "data": {
      "text/plain": [
       "'release date  january 22  1999 starring  emily watson  rachel griffiths  david morrissey  james frai'"
      ]
     },
     "execution_count": 23,
     "metadata": {},
     "output_type": "execute_result"
    }
   ],
   "source": [
    "# remove special characters\n",
    "import re\n",
    "sample=re.sub(r'[^\\w\\s]','',sample)\n",
    "sample[0:100]"
   ]
  },
  {
   "cell_type": "code",
   "execution_count": null,
   "metadata": {},
   "outputs": [],
   "source": []
  }
 ],
 "metadata": {
  "kernelspec": {
   "display_name": "Python 3",
   "language": "python",
   "name": "python3"
  },
  "language_info": {
   "codemirror_mode": {
    "name": "ipython",
    "version": 3
   },
   "file_extension": ".py",
   "mimetype": "text/x-python",
   "name": "python",
   "nbconvert_exporter": "python",
   "pygments_lexer": "ipython3",
   "version": "3.7.4"
  }
 },
 "nbformat": 4,
 "nbformat_minor": 2
}
