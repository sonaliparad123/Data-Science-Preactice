{
 "cells": [
  {
   "cell_type": "code",
   "execution_count": 1,
   "metadata": {},
   "outputs": [
    {
     "name": "stdout",
     "output_type": "stream",
     "text": [
      "1.16.5\n"
     ]
    }
   ],
   "source": [
    "#Q.1 Import numpy as np and print the version number.\n",
    "import numpy as np\n",
    "print(np.__version__)"
   ]
  },
  {
   "cell_type": "code",
   "execution_count": 2,
   "metadata": {},
   "outputs": [
    {
     "data": {
      "text/plain": [
       "array([0, 1, 2, 3, 4, 5, 6, 7, 8, 9])"
      ]
     },
     "execution_count": 2,
     "metadata": {},
     "output_type": "execute_result"
    }
   ],
   "source": [
    "#Q.2 Create a 1D array of numbers from 0 to 9\n",
    "arr = np.arange(10)\n",
    "arr"
   ]
  },
  {
   "cell_type": "code",
   "execution_count": 7,
   "metadata": {},
   "outputs": [
    {
     "data": {
      "text/plain": [
       "array([[1., 1., 1.],\n",
       "       [1., 1., 1.],\n",
       "       [1., 1., 1.]])"
      ]
     },
     "execution_count": 7,
     "metadata": {},
     "output_type": "execute_result"
    }
   ],
   "source": [
    "#Q.3 Create a 3×3 numpy array of all True’s\n",
    "np.full((3, 3), True, dtype=float)"
   ]
  },
  {
   "cell_type": "code",
   "execution_count": 4,
   "metadata": {},
   "outputs": [
    {
     "data": {
      "text/plain": [
       "array([[ True,  True,  True],\n",
       "       [ True,  True,  True],\n",
       "       [ True,  True,  True]])"
      ]
     },
     "execution_count": 4,
     "metadata": {},
     "output_type": "execute_result"
    }
   ],
   "source": [
    "np.ones((3,3), dtype=bool)"
   ]
  },
  {
   "cell_type": "code",
   "execution_count": 8,
   "metadata": {},
   "outputs": [
    {
     "data": {
      "text/plain": [
       "array([1, 3, 5, 7, 9])"
      ]
     },
     "execution_count": 8,
     "metadata": {},
     "output_type": "execute_result"
    }
   ],
   "source": [
    "#Q.4 Extract all odd numbers from arr\n",
    "# Input\n",
    "arr = np.array([0, 1, 2, 3, 4, 5, 6, 7, 8, 9])\n",
    "\n",
    "# Solution\n",
    "arr[arr % 2 == 1]"
   ]
  },
  {
   "cell_type": "code",
   "execution_count": 9,
   "metadata": {},
   "outputs": [
    {
     "data": {
      "text/plain": [
       "array([ 0, -1,  2, -1,  4, -1,  6, -1,  8, -1])"
      ]
     },
     "execution_count": 9,
     "metadata": {},
     "output_type": "execute_result"
    }
   ],
   "source": [
    "#Q.5 Replace all odd numbers in arr with -1\n",
    "arr[arr % 2 == 1] = -1\n",
    "arr"
   ]
  },
  {
   "cell_type": "code",
   "execution_count": 11,
   "metadata": {},
   "outputs": [
    {
     "name": "stdout",
     "output_type": "stream",
     "text": [
      "[0 1 2 3 4 5 6 7 8 9]\n"
     ]
    },
    {
     "data": {
      "text/plain": [
       "array([ 0, -1,  2, -1,  4, -1,  6, -1,  8, -1])"
      ]
     },
     "execution_count": 11,
     "metadata": {},
     "output_type": "execute_result"
    }
   ],
   "source": [
    "#Q.6 Replace all odd numbers in arr with -1 without changing arr\n",
    "arr = np.arange(10)\n",
    "out = np.where(arr % 2 == 1, -1, arr)\n",
    "print(arr)\n",
    "out\n",
    "#> [0 1 2 3 4 5 6 7 8 9]\n",
    "#array([ 0, -1,  2, -1,  4, -1,  6, -1,  8, -1])"
   ]
  },
  {
   "cell_type": "code",
   "execution_count": 16,
   "metadata": {},
   "outputs": [
    {
     "data": {
      "text/plain": [
       "array([[0, 1],\n",
       "       [2, 3],\n",
       "       [4, 5],\n",
       "       [6, 7],\n",
       "       [8, 9]])"
      ]
     },
     "execution_count": 16,
     "metadata": {},
     "output_type": "execute_result"
    }
   ],
   "source": [
    "#Q.7 Convert a 1D array to a 2D array with 2 rows\n",
    "arr = np.arange(10)\n",
    "arr.reshape(5, 2)  "
   ]
  },
  {
   "cell_type": "code",
   "execution_count": 17,
   "metadata": {},
   "outputs": [
    {
     "data": {
      "text/plain": [
       "array([[0, 1, 2, 3, 4],\n",
       "       [5, 6, 7, 8, 9],\n",
       "       [1, 1, 1, 1, 1],\n",
       "       [1, 1, 1, 1, 1]])"
      ]
     },
     "execution_count": 17,
     "metadata": {},
     "output_type": "execute_result"
    }
   ],
   "source": [
    "#Q.8 Stack arrays a and b vertically\n",
    "a = np.arange(10).reshape(2,-1)\n",
    "b = np.repeat(1, 10).reshape(2,-1)\n",
    "\n",
    "# Answers\n",
    "# Method 1:\n",
    "np.concatenate([a, b], axis=0)"
   ]
  },
  {
   "cell_type": "code",
   "execution_count": 18,
   "metadata": {},
   "outputs": [
    {
     "data": {
      "text/plain": [
       "array([[0, 1, 2, 3, 4],\n",
       "       [5, 6, 7, 8, 9],\n",
       "       [1, 1, 1, 1, 1],\n",
       "       [1, 1, 1, 1, 1]])"
      ]
     },
     "execution_count": 18,
     "metadata": {},
     "output_type": "execute_result"
    }
   ],
   "source": [
    "# Method 2:\n",
    "np.vstack([a, b])"
   ]
  },
  {
   "cell_type": "code",
   "execution_count": 19,
   "metadata": {},
   "outputs": [
    {
     "data": {
      "text/plain": [
       "array([[0, 1, 2, 3, 4],\n",
       "       [5, 6, 7, 8, 9],\n",
       "       [1, 1, 1, 1, 1],\n",
       "       [1, 1, 1, 1, 1]])"
      ]
     },
     "execution_count": 19,
     "metadata": {},
     "output_type": "execute_result"
    }
   ],
   "source": [
    "# Method 3:\n",
    "np.r_[a, b]"
   ]
  },
  {
   "cell_type": "code",
   "execution_count": 20,
   "metadata": {},
   "outputs": [
    {
     "data": {
      "text/plain": [
       "array([[0, 1, 2, 3, 4, 1, 1, 1, 1, 1],\n",
       "       [5, 6, 7, 8, 9, 1, 1, 1, 1, 1]])"
      ]
     },
     "execution_count": 20,
     "metadata": {},
     "output_type": "execute_result"
    }
   ],
   "source": [
    "#Q.9 Stack the arrays a and b horizontally.\n",
    "a = np.arange(10).reshape(2,-1)\n",
    "b = np.repeat(1, 10).reshape(2,-1)\n",
    "\n",
    "# Answers\n",
    "# Method 1:\n",
    "np.concatenate([a, b], axis=1)"
   ]
  },
  {
   "cell_type": "code",
   "execution_count": 21,
   "metadata": {},
   "outputs": [
    {
     "data": {
      "text/plain": [
       "array([[0, 1, 2, 3, 4, 1, 1, 1, 1, 1],\n",
       "       [5, 6, 7, 8, 9, 1, 1, 1, 1, 1]])"
      ]
     },
     "execution_count": 21,
     "metadata": {},
     "output_type": "execute_result"
    }
   ],
   "source": [
    "# Method 2:\n",
    "np.hstack([a, b])"
   ]
  },
  {
   "cell_type": "code",
   "execution_count": 22,
   "metadata": {},
   "outputs": [
    {
     "data": {
      "text/plain": [
       "array([[0, 1, 2, 3, 4, 1, 1, 1, 1, 1],\n",
       "       [5, 6, 7, 8, 9, 1, 1, 1, 1, 1]])"
      ]
     },
     "execution_count": 22,
     "metadata": {},
     "output_type": "execute_result"
    }
   ],
   "source": [
    "# Method 3:\n",
    "np.c_[a, b]"
   ]
  },
  {
   "cell_type": "code",
   "execution_count": 36,
   "metadata": {},
   "outputs": [
    {
     "data": {
      "text/plain": [
       "array([1, 1, 1, 2, 2, 2, 3, 3, 3, 1, 2, 3, 1, 2, 3, 1, 2, 3])"
      ]
     },
     "execution_count": 36,
     "metadata": {},
     "output_type": "execute_result"
    }
   ],
   "source": [
    "#Q.10 Create the following pattern without hardcoding. Use only numpy functions and the below input array a.\n",
    "a = np.array([1,2,3])\n",
    "np.r_[np.repeat(a, 3), np.tile(a, 3)]"
   ]
  },
  {
   "cell_type": "code",
   "execution_count": 37,
   "metadata": {},
   "outputs": [
    {
     "data": {
      "text/plain": [
       "array([2, 4])"
      ]
     },
     "execution_count": 37,
     "metadata": {},
     "output_type": "execute_result"
    }
   ],
   "source": [
    "#Q.11 Get the common items between a and b\n",
    "a = np.array([1,2,3,2,3,4,3,4,5,6])\n",
    "b = np.array([7,2,10,2,7,4,9,4,9,8])\n",
    "np.intersect1d(a,b)"
   ]
  },
  {
   "cell_type": "code",
   "execution_count": 38,
   "metadata": {},
   "outputs": [
    {
     "data": {
      "text/plain": [
       "array([1, 2, 3, 4])"
      ]
     },
     "execution_count": 38,
     "metadata": {},
     "output_type": "execute_result"
    }
   ],
   "source": [
    "#Q.12 From array a remove all items present in array b\n",
    "a = np.array([1,2,3,4,5])\n",
    "b = np.array([5,6,7,8,9])\n",
    "\n",
    "# From 'a' remove all of 'b'\n",
    "np.setdiff1d(a,b)"
   ]
  },
  {
   "cell_type": "code",
   "execution_count": 39,
   "metadata": {},
   "outputs": [
    {
     "data": {
      "text/plain": [
       "(array([1, 3, 5, 7], dtype=int32),)"
      ]
     },
     "execution_count": 39,
     "metadata": {},
     "output_type": "execute_result"
    }
   ],
   "source": [
    "#Q.13 Get the positions where elements of a and b match\n",
    "a = np.array([1,2,3,2,3,4,3,4,5,6])\n",
    "b = np.array([7,2,10,2,7,4,9,4,9,8])\n",
    "\n",
    "np.where(a == b)"
   ]
  },
  {
   "cell_type": "code",
   "execution_count": 40,
   "metadata": {},
   "outputs": [
    {
     "data": {
      "text/plain": [
       "array([ 5,  6,  7,  8,  9, 10])"
      ]
     },
     "execution_count": 40,
     "metadata": {},
     "output_type": "execute_result"
    }
   ],
   "source": [
    "#Q.14 Get all items between 5 and 10 from a.\n",
    "a = np.arange(15)\n",
    "\n",
    "# Method 1\n",
    "index = np.where((a >= 5) & (a <= 10))\n",
    "a[index]"
   ]
  },
  {
   "cell_type": "code",
   "execution_count": 41,
   "metadata": {},
   "outputs": [
    {
     "data": {
      "text/plain": [
       "array([ 5,  6,  7,  8,  9, 10])"
      ]
     },
     "execution_count": 41,
     "metadata": {},
     "output_type": "execute_result"
    }
   ],
   "source": [
    "# Method 2:\n",
    "index = np.where(np.logical_and(a>=5, a<=10))\n",
    "a[index]\n",
    "#> (array([6, 9, 10]),)"
   ]
  },
  {
   "cell_type": "code",
   "execution_count": 44,
   "metadata": {},
   "outputs": [
    {
     "data": {
      "text/plain": [
       "array([ 5,  6,  7,  8,  9, 10])"
      ]
     },
     "execution_count": 44,
     "metadata": {},
     "output_type": "execute_result"
    }
   ],
   "source": [
    "# Method 3: (thanks loganzk!)\n",
    "a[(a >= 5) & (a <= 10)]\n"
   ]
  },
  {
   "cell_type": "code",
   "execution_count": 49,
   "metadata": {},
   "outputs": [
    {
     "data": {
      "text/plain": [
       "array([10.,  7.,  9.,  8.,  9.,  7.,  5., 15.])"
      ]
     },
     "execution_count": 49,
     "metadata": {},
     "output_type": "execute_result"
    }
   ],
   "source": [
    "#Q.15 Convert the function maxx that works on two scalars, to work on two arrays.\n",
    "def maxx(x, y):\n",
    "    \"\"\"Get the maximum of two items\"\"\"\n",
    "    if x >= y:\n",
    "        return x\n",
    "    else:\n",
    "        return y\n",
    "\n",
    "pair_max = np.vectorize(maxx, otypes=[float])\n",
    "\n",
    "a = np.array([10, 7, 9, 8, 6, 4, 5,15])\n",
    "b = np.array([6, 3, 4, 8, 9, 7, 1,5])\n",
    "\n",
    "pair_max(a, b)\n",
    "#> array([ 6.,  7.,  9.,  8.,  9.,  7.,  5.])"
   ]
  },
  {
   "cell_type": "code",
   "execution_count": 53,
   "metadata": {},
   "outputs": [
    {
     "name": "stdout",
     "output_type": "stream",
     "text": [
      "[[0 1 2]\n",
      " [3 4 5]\n",
      " [6 7 8]]\n"
     ]
    },
    {
     "data": {
      "text/plain": [
       "array([[1, 0, 2],\n",
       "       [4, 3, 5],\n",
       "       [7, 6, 8]])"
      ]
     },
     "execution_count": 53,
     "metadata": {},
     "output_type": "execute_result"
    }
   ],
   "source": [
    "#Q.16 Swap columns 1 and 2 in the array arr.\n",
    "# Input\n",
    "arr = np.arange(9).reshape(3,3)\n",
    "print(arr)\n",
    "\n",
    "# Solution\n",
    "arr[:, [1,0,2]]"
   ]
  },
  {
   "cell_type": "code",
   "execution_count": 54,
   "metadata": {},
   "outputs": [
    {
     "data": {
      "text/plain": [
       "array([[3, 4, 5],\n",
       "       [0, 1, 2],\n",
       "       [6, 7, 8]])"
      ]
     },
     "execution_count": 54,
     "metadata": {},
     "output_type": "execute_result"
    }
   ],
   "source": [
    "#Q.17 Swap rows 1 and 2 in the array arr:\n",
    "# Input\n",
    "arr = np.arange(9).reshape(3,3)\n",
    "\n",
    "# Solution\n",
    "arr[[1,0,2], :]"
   ]
  },
  {
   "cell_type": "code",
   "execution_count": 57,
   "metadata": {},
   "outputs": [
    {
     "name": "stdout",
     "output_type": "stream",
     "text": [
      "[[0 1 2]\n",
      " [3 4 5]\n",
      " [6 7 8]]\n"
     ]
    },
    {
     "data": {
      "text/plain": [
       "array([[6, 7, 8],\n",
       "       [3, 4, 5],\n",
       "       [0, 1, 2]])"
      ]
     },
     "execution_count": 57,
     "metadata": {},
     "output_type": "execute_result"
    }
   ],
   "source": [
    "#Q.18 Reverse the rows of a 2D array arr.\n",
    "# Input\n",
    "arr = np.arange(9).reshape(3,3)\n",
    "print(arr)\n",
    "# Solution\n",
    "arr[::-1]"
   ]
  },
  {
   "cell_type": "code",
   "execution_count": 58,
   "metadata": {},
   "outputs": [
    {
     "name": "stdout",
     "output_type": "stream",
     "text": [
      "[[0 1 2]\n",
      " [3 4 5]\n",
      " [6 7 8]]\n"
     ]
    },
    {
     "data": {
      "text/plain": [
       "array([[2, 1, 0],\n",
       "       [5, 4, 3],\n",
       "       [8, 7, 6]])"
      ]
     },
     "execution_count": 58,
     "metadata": {},
     "output_type": "execute_result"
    }
   ],
   "source": [
    "#Q.19 Reverse the columns of a 2D array arr.\n",
    "# Input\n",
    "arr = np.arange(9).reshape(3,3)\n",
    "print(arr)\n",
    "# Solution\n",
    "arr[:, ::-1]"
   ]
  },
  {
   "cell_type": "code",
   "execution_count": 62,
   "metadata": {},
   "outputs": [
    {
     "name": "stdout",
     "output_type": "stream",
     "text": [
      "[[6.81288558 5.83760019 7.46197946]\n",
      " [8.49320039 6.25535325 7.77508682]\n",
      " [9.10441034 8.50766503 9.72537739]\n",
      " [8.88646952 6.28019264 5.97188872]\n",
      " [5.52460095 6.5270004  8.50046097]]\n"
     ]
    }
   ],
   "source": [
    "#Q.20 Create a 2D array of shape 5x3 to contain random decimal numbers between 5 and 10.\n",
    "# Input\n",
    "arr = np.arange(9).reshape(3,3)\n",
    "\n",
    "# Solution Method 1:\n",
    "rand_arr = np.random.randint(low=5, high=10, size=(5,3)) + np.random.random((5,3))\n",
    "print(rand_arr)\n",
    "\n"
   ]
  },
  {
   "cell_type": "code",
   "execution_count": 61,
   "metadata": {},
   "outputs": [
    {
     "name": "stdout",
     "output_type": "stream",
     "text": [
      "[[5.88124457 5.01509631 8.66041734]\n",
      " [9.83070369 7.48255755 8.91804964]\n",
      " [7.66958586 7.99060757 8.29404533]\n",
      " [8.19590592 8.80995537 9.39856688]\n",
      " [7.42072946 8.74207213 6.41038055]]\n"
     ]
    }
   ],
   "source": [
    "# Solution Method 2:\n",
    "rand_arr = np.random.uniform(5,10, size=(5,3))\n",
    "print(rand_arr)"
   ]
  },
  {
   "cell_type": "code",
   "execution_count": 63,
   "metadata": {},
   "outputs": [
    {
     "data": {
      "text/plain": [
       "array([[0.653, 0.51 , 0.303],\n",
       "       [0.68 , 0.892, 0.314],\n",
       "       [0.779, 0.147, 0.668],\n",
       "       [0.37 , 0.075, 0.47 ]])"
      ]
     },
     "execution_count": 63,
     "metadata": {},
     "output_type": "execute_result"
    }
   ],
   "source": [
    "#Q.21 Print or show only 3 decimal places of the numpy array rand_arr.\n",
    "# Input\n",
    "rand_arr = np.random.random((5,3))\n",
    "\n",
    "# Create the random array\n",
    "rand_arr = np.random.random([5,3])\n",
    "\n",
    "# Limit to 3 decimal places\n",
    "np.set_printoptions(precision=3)\n",
    "rand_arr[:4]"
   ]
  },
  {
   "cell_type": "code",
   "execution_count": 64,
   "metadata": {},
   "outputs": [
    {
     "data": {
      "text/plain": [
       "array([[5.434e-04, 2.784e-04, 4.245e-04],\n",
       "       [8.448e-04, 4.719e-06, 1.216e-04],\n",
       "       [6.707e-04, 8.259e-04, 1.367e-04]])"
      ]
     },
     "execution_count": 64,
     "metadata": {},
     "output_type": "execute_result"
    }
   ],
   "source": [
    "#Q.22 Pretty print rand_arr by suppressing the scientific notation (like 1e10)\n",
    "# Reset printoptions to default\n",
    "np.set_printoptions(suppress=False)\n",
    "\n",
    "# Create the random array\n",
    "np.random.seed(100)\n",
    "rand_arr = np.random.random([3,3])/1e3\n",
    "rand_arr"
   ]
  },
  {
   "cell_type": "code",
   "execution_count": 65,
   "metadata": {},
   "outputs": [
    {
     "data": {
      "text/plain": [
       "array([[0.000543, 0.000278, 0.000425],\n",
       "       [0.000845, 0.000005, 0.000122],\n",
       "       [0.000671, 0.000826, 0.000137]])"
      ]
     },
     "execution_count": 65,
     "metadata": {},
     "output_type": "execute_result"
    }
   ],
   "source": [
    "np.set_printoptions(suppress=True, precision=6)  # precision is optional\n",
    "rand_arr"
   ]
  },
  {
   "cell_type": "code",
   "execution_count": 71,
   "metadata": {},
   "outputs": [
    {
     "data": {
      "text/plain": [
       "array([ 0,  1,  2, ..., 12, 13, 14])"
      ]
     },
     "execution_count": 71,
     "metadata": {},
     "output_type": "execute_result"
    }
   ],
   "source": [
    "#Q.23 Limit the number of items printed in python numpy array a to a maximum of 6 elements.\n",
    "np.set_printoptions(threshold=6)\n",
    "a = np.arange(15)\n",
    "a"
   ]
  },
  {
   "cell_type": "code",
   "execution_count": 4,
   "metadata": {},
   "outputs": [
    {
     "data": {
      "text/plain": [
       "array([ 0,  1,  2,  3,  4,  5,  6,  7,  8,  9, 10, 11, 12, 13, 14])"
      ]
     },
     "execution_count": 4,
     "metadata": {},
     "output_type": "execute_result"
    }
   ],
   "source": [
    "#Q.24 Print the full numpy array a without truncating.\n",
    "# Input\n",
    "import sys\n",
    "np.set_printoptions(threshold=6)\n",
    "a = np.arange(15)\n",
    "\n",
    "# Solution\n",
    "np.set_printoptions(threshold=sys.maxsize)\n",
    "a"
   ]
  },
  {
   "cell_type": "markdown",
   "metadata": {},
   "source": [
    "25. How to import a dataset with numbers and texts keeping the text intact in python numpy?\n",
    "\n",
    "\n",
    "Q. Import the iris dataset keeping the text intact."
   ]
  },
  {
   "cell_type": "code",
   "execution_count": 5,
   "metadata": {},
   "outputs": [
    {
     "data": {
      "text/plain": [
       "array([[b'5.1', b'3.5', b'1.4', b'0.2', b'Iris-setosa'],\n",
       "       [b'4.9', b'3.0', b'1.4', b'0.2', b'Iris-setosa'],\n",
       "       [b'4.7', b'3.2', b'1.3', b'0.2', b'Iris-setosa']], dtype=object)"
      ]
     },
     "execution_count": 5,
     "metadata": {},
     "output_type": "execute_result"
    }
   ],
   "source": [
    "url = 'https://archive.ics.uci.edu/ml/machine-learning-databases/iris/iris.data'\n",
    "iris = np.genfromtxt(url, delimiter=',', dtype='object')\n",
    "names = ('sepallength', 'sepalwidth', 'petallength', 'petalwidth', 'species')\n",
    "\n",
    "# Print the first 3 rows\n",
    "iris[:3]"
   ]
  },
  {
   "cell_type": "markdown",
   "metadata": {},
   "source": [
    "26. How to extract a particular column from 1D array of tuples?\n",
    "\n",
    "Q. Extract the text column species from the 1D iris imported in previous question."
   ]
  },
  {
   "cell_type": "code",
   "execution_count": 6,
   "metadata": {},
   "outputs": [
    {
     "name": "stdout",
     "output_type": "stream",
     "text": [
      "(150,)\n"
     ]
    },
    {
     "name": "stderr",
     "output_type": "stream",
     "text": [
      "C:\\ProgramData\\Anaconda3\\lib\\site-packages\\ipykernel_launcher.py:2: VisibleDeprecationWarning: Reading unicode strings without specifying the encoding argument is deprecated. Set the encoding, use None for the system default.\n",
      "  \n"
     ]
    },
    {
     "data": {
      "text/plain": [
       "array([b'Iris-setosa', b'Iris-setosa', b'Iris-setosa', b'Iris-setosa',\n",
       "       b'Iris-setosa'], dtype='|S18')"
      ]
     },
     "execution_count": 6,
     "metadata": {},
     "output_type": "execute_result"
    }
   ],
   "source": [
    "url = 'https://archive.ics.uci.edu/ml/machine-learning-databases/iris/iris.data'\n",
    "iris_1d = np.genfromtxt(url, delimiter=',', dtype=None)\n",
    "print(iris_1d.shape)\n",
    "\n",
    "# Solution:\n",
    "species = np.array([row[4] for row in iris_1d])\n",
    "species[:5]"
   ]
  },
  {
   "cell_type": "markdown",
   "metadata": {},
   "source": [
    "27. How to convert a 1d array of tuples to a 2d numpy array?\n",
    "Q. Convert the 1D iris to 2D array iris_2d by omitting the species text field."
   ]
  },
  {
   "cell_type": "code",
   "execution_count": 9,
   "metadata": {},
   "outputs": [
    {
     "name": "stdout",
     "output_type": "stream",
     "text": [
      "Iris Data\n",
      "[(5.1, 3.5, 1.4, 0.2, b'Iris-setosa') (4.9, 3. , 1.4, 0.2, b'Iris-setosa')\n",
      " (4.7, 3.2, 1.3, 0.2, b'Iris-setosa') (4.6, 3.1, 1.5, 0.2, b'Iris-setosa')\n",
      " (5. , 3.6, 1.4, 0.2, b'Iris-setosa') (5.4, 3.9, 1.7, 0.4, b'Iris-setosa')\n",
      " (4.6, 3.4, 1.4, 0.3, b'Iris-setosa') (5. , 3.4, 1.5, 0.2, b'Iris-setosa')\n",
      " (4.4, 2.9, 1.4, 0.2, b'Iris-setosa') (4.9, 3.1, 1.5, 0.1, b'Iris-setosa')\n",
      " (5.4, 3.7, 1.5, 0.2, b'Iris-setosa') (4.8, 3.4, 1.6, 0.2, b'Iris-setosa')\n",
      " (4.8, 3. , 1.4, 0.1, b'Iris-setosa') (4.3, 3. , 1.1, 0.1, b'Iris-setosa')\n",
      " (5.8, 4. , 1.2, 0.2, b'Iris-setosa') (5.7, 4.4, 1.5, 0.4, b'Iris-setosa')\n",
      " (5.4, 3.9, 1.3, 0.4, b'Iris-setosa') (5.1, 3.5, 1.4, 0.3, b'Iris-setosa')\n",
      " (5.7, 3.8, 1.7, 0.3, b'Iris-setosa') (5.1, 3.8, 1.5, 0.3, b'Iris-setosa')\n",
      " (5.4, 3.4, 1.7, 0.2, b'Iris-setosa') (5.1, 3.7, 1.5, 0.4, b'Iris-setosa')\n",
      " (4.6, 3.6, 1. , 0.2, b'Iris-setosa') (5.1, 3.3, 1.7, 0.5, b'Iris-setosa')\n",
      " (4.8, 3.4, 1.9, 0.2, b'Iris-setosa') (5. , 3. , 1.6, 0.2, b'Iris-setosa')\n",
      " (5. , 3.4, 1.6, 0.4, b'Iris-setosa') (5.2, 3.5, 1.5, 0.2, b'Iris-setosa')\n",
      " (5.2, 3.4, 1.4, 0.2, b'Iris-setosa') (4.7, 3.2, 1.6, 0.2, b'Iris-setosa')\n",
      " (4.8, 3.1, 1.6, 0.2, b'Iris-setosa') (5.4, 3.4, 1.5, 0.4, b'Iris-setosa')\n",
      " (5.2, 4.1, 1.5, 0.1, b'Iris-setosa') (5.5, 4.2, 1.4, 0.2, b'Iris-setosa')\n",
      " (4.9, 3.1, 1.5, 0.1, b'Iris-setosa') (5. , 3.2, 1.2, 0.2, b'Iris-setosa')\n",
      " (5.5, 3.5, 1.3, 0.2, b'Iris-setosa') (4.9, 3.1, 1.5, 0.1, b'Iris-setosa')\n",
      " (4.4, 3. , 1.3, 0.2, b'Iris-setosa') (5.1, 3.4, 1.5, 0.2, b'Iris-setosa')\n",
      " (5. , 3.5, 1.3, 0.3, b'Iris-setosa') (4.5, 2.3, 1.3, 0.3, b'Iris-setosa')\n",
      " (4.4, 3.2, 1.3, 0.2, b'Iris-setosa') (5. , 3.5, 1.6, 0.6, b'Iris-setosa')\n",
      " (5.1, 3.8, 1.9, 0.4, b'Iris-setosa') (4.8, 3. , 1.4, 0.3, b'Iris-setosa')\n",
      " (5.1, 3.8, 1.6, 0.2, b'Iris-setosa') (4.6, 3.2, 1.4, 0.2, b'Iris-setosa')\n",
      " (5.3, 3.7, 1.5, 0.2, b'Iris-setosa') (5. , 3.3, 1.4, 0.2, b'Iris-setosa')\n",
      " (7. , 3.2, 4.7, 1.4, b'Iris-versicolor')\n",
      " (6.4, 3.2, 4.5, 1.5, b'Iris-versicolor')\n",
      " (6.9, 3.1, 4.9, 1.5, b'Iris-versicolor')\n",
      " (5.5, 2.3, 4. , 1.3, b'Iris-versicolor')\n",
      " (6.5, 2.8, 4.6, 1.5, b'Iris-versicolor')\n",
      " (5.7, 2.8, 4.5, 1.3, b'Iris-versicolor')\n",
      " (6.3, 3.3, 4.7, 1.6, b'Iris-versicolor')\n",
      " (4.9, 2.4, 3.3, 1. , b'Iris-versicolor')\n",
      " (6.6, 2.9, 4.6, 1.3, b'Iris-versicolor')\n",
      " (5.2, 2.7, 3.9, 1.4, b'Iris-versicolor')\n",
      " (5. , 2. , 3.5, 1. , b'Iris-versicolor')\n",
      " (5.9, 3. , 4.2, 1.5, b'Iris-versicolor')\n",
      " (6. , 2.2, 4. , 1. , b'Iris-versicolor')\n",
      " (6.1, 2.9, 4.7, 1.4, b'Iris-versicolor')\n",
      " (5.6, 2.9, 3.6, 1.3, b'Iris-versicolor')\n",
      " (6.7, 3.1, 4.4, 1.4, b'Iris-versicolor')\n",
      " (5.6, 3. , 4.5, 1.5, b'Iris-versicolor')\n",
      " (5.8, 2.7, 4.1, 1. , b'Iris-versicolor')\n",
      " (6.2, 2.2, 4.5, 1.5, b'Iris-versicolor')\n",
      " (5.6, 2.5, 3.9, 1.1, b'Iris-versicolor')\n",
      " (5.9, 3.2, 4.8, 1.8, b'Iris-versicolor')\n",
      " (6.1, 2.8, 4. , 1.3, b'Iris-versicolor')\n",
      " (6.3, 2.5, 4.9, 1.5, b'Iris-versicolor')\n",
      " (6.1, 2.8, 4.7, 1.2, b'Iris-versicolor')\n",
      " (6.4, 2.9, 4.3, 1.3, b'Iris-versicolor')\n",
      " (6.6, 3. , 4.4, 1.4, b'Iris-versicolor')\n",
      " (6.8, 2.8, 4.8, 1.4, b'Iris-versicolor')\n",
      " (6.7, 3. , 5. , 1.7, b'Iris-versicolor')\n",
      " (6. , 2.9, 4.5, 1.5, b'Iris-versicolor')\n",
      " (5.7, 2.6, 3.5, 1. , b'Iris-versicolor')\n",
      " (5.5, 2.4, 3.8, 1.1, b'Iris-versicolor')\n",
      " (5.5, 2.4, 3.7, 1. , b'Iris-versicolor')\n",
      " (5.8, 2.7, 3.9, 1.2, b'Iris-versicolor')\n",
      " (6. , 2.7, 5.1, 1.6, b'Iris-versicolor')\n",
      " (5.4, 3. , 4.5, 1.5, b'Iris-versicolor')\n",
      " (6. , 3.4, 4.5, 1.6, b'Iris-versicolor')\n",
      " (6.7, 3.1, 4.7, 1.5, b'Iris-versicolor')\n",
      " (6.3, 2.3, 4.4, 1.3, b'Iris-versicolor')\n",
      " (5.6, 3. , 4.1, 1.3, b'Iris-versicolor')\n",
      " (5.5, 2.5, 4. , 1.3, b'Iris-versicolor')\n",
      " (5.5, 2.6, 4.4, 1.2, b'Iris-versicolor')\n",
      " (6.1, 3. , 4.6, 1.4, b'Iris-versicolor')\n",
      " (5.8, 2.6, 4. , 1.2, b'Iris-versicolor')\n",
      " (5. , 2.3, 3.3, 1. , b'Iris-versicolor')\n",
      " (5.6, 2.7, 4.2, 1.3, b'Iris-versicolor')\n",
      " (5.7, 3. , 4.2, 1.2, b'Iris-versicolor')\n",
      " (5.7, 2.9, 4.2, 1.3, b'Iris-versicolor')\n",
      " (6.2, 2.9, 4.3, 1.3, b'Iris-versicolor')\n",
      " (5.1, 2.5, 3. , 1.1, b'Iris-versicolor')\n",
      " (5.7, 2.8, 4.1, 1.3, b'Iris-versicolor')\n",
      " (6.3, 3.3, 6. , 2.5, b'Iris-virginica')\n",
      " (5.8, 2.7, 5.1, 1.9, b'Iris-virginica')\n",
      " (7.1, 3. , 5.9, 2.1, b'Iris-virginica')\n",
      " (6.3, 2.9, 5.6, 1.8, b'Iris-virginica')\n",
      " (6.5, 3. , 5.8, 2.2, b'Iris-virginica')\n",
      " (7.6, 3. , 6.6, 2.1, b'Iris-virginica')\n",
      " (4.9, 2.5, 4.5, 1.7, b'Iris-virginica')\n",
      " (7.3, 2.9, 6.3, 1.8, b'Iris-virginica')\n",
      " (6.7, 2.5, 5.8, 1.8, b'Iris-virginica')\n",
      " (7.2, 3.6, 6.1, 2.5, b'Iris-virginica')\n",
      " (6.5, 3.2, 5.1, 2. , b'Iris-virginica')\n",
      " (6.4, 2.7, 5.3, 1.9, b'Iris-virginica')\n",
      " (6.8, 3. , 5.5, 2.1, b'Iris-virginica')\n",
      " (5.7, 2.5, 5. , 2. , b'Iris-virginica')\n",
      " (5.8, 2.8, 5.1, 2.4, b'Iris-virginica')\n",
      " (6.4, 3.2, 5.3, 2.3, b'Iris-virginica')\n",
      " (6.5, 3. , 5.5, 1.8, b'Iris-virginica')\n",
      " (7.7, 3.8, 6.7, 2.2, b'Iris-virginica')\n",
      " (7.7, 2.6, 6.9, 2.3, b'Iris-virginica')\n",
      " (6. , 2.2, 5. , 1.5, b'Iris-virginica')\n",
      " (6.9, 3.2, 5.7, 2.3, b'Iris-virginica')\n",
      " (5.6, 2.8, 4.9, 2. , b'Iris-virginica')\n",
      " (7.7, 2.8, 6.7, 2. , b'Iris-virginica')\n",
      " (6.3, 2.7, 4.9, 1.8, b'Iris-virginica')\n",
      " (6.7, 3.3, 5.7, 2.1, b'Iris-virginica')\n",
      " (7.2, 3.2, 6. , 1.8, b'Iris-virginica')\n",
      " (6.2, 2.8, 4.8, 1.8, b'Iris-virginica')\n",
      " (6.1, 3. , 4.9, 1.8, b'Iris-virginica')\n",
      " (6.4, 2.8, 5.6, 2.1, b'Iris-virginica')\n",
      " (7.2, 3. , 5.8, 1.6, b'Iris-virginica')\n",
      " (7.4, 2.8, 6.1, 1.9, b'Iris-virginica')\n",
      " (7.9, 3.8, 6.4, 2. , b'Iris-virginica')\n",
      " (6.4, 2.8, 5.6, 2.2, b'Iris-virginica')\n",
      " (6.3, 2.8, 5.1, 1.5, b'Iris-virginica')\n",
      " (6.1, 2.6, 5.6, 1.4, b'Iris-virginica')\n",
      " (7.7, 3. , 6.1, 2.3, b'Iris-virginica')\n",
      " (6.3, 3.4, 5.6, 2.4, b'Iris-virginica')\n",
      " (6.4, 3.1, 5.5, 1.8, b'Iris-virginica')\n",
      " (6. , 3. , 4.8, 1.8, b'Iris-virginica')\n",
      " (6.9, 3.1, 5.4, 2.1, b'Iris-virginica')\n",
      " (6.7, 3.1, 5.6, 2.4, b'Iris-virginica')\n",
      " (6.9, 3.1, 5.1, 2.3, b'Iris-virginica')\n",
      " (5.8, 2.7, 5.1, 1.9, b'Iris-virginica')\n",
      " (6.8, 3.2, 5.9, 2.3, b'Iris-virginica')\n",
      " (6.7, 3.3, 5.7, 2.5, b'Iris-virginica')\n",
      " (6.7, 3. , 5.2, 2.3, b'Iris-virginica')\n",
      " (6.3, 2.5, 5. , 1.9, b'Iris-virginica')\n",
      " (6.5, 3. , 5.2, 2. , b'Iris-virginica')\n",
      " (6.2, 3.4, 5.4, 2.3, b'Iris-virginica')\n",
      " (5.9, 3. , 5.1, 1.8, b'Iris-virginica')]\n",
      "-------------------------------------------------------------------------\n",
      "[[5.1 3.5 1.4 0.2]\n",
      " [4.9 3.  1.4 0.2]\n",
      " [4.7 3.2 1.3 0.2]\n",
      " [4.6 3.1 1.5 0.2]]\n"
     ]
    },
    {
     "name": "stderr",
     "output_type": "stream",
     "text": [
      "C:\\ProgramData\\Anaconda3\\lib\\site-packages\\ipykernel_launcher.py:2: VisibleDeprecationWarning: Reading unicode strings without specifying the encoding argument is deprecated. Set the encoding, use None for the system default.\n",
      "  \n"
     ]
    }
   ],
   "source": [
    "url = 'https://archive.ics.uci.edu/ml/machine-learning-databases/iris/iris.data'\n",
    "iris_1d = np.genfromtxt(url, delimiter=',', dtype=None)\n",
    "print(\"Iris Data\")\n",
    "print(iris_1d)\n",
    "print(\"-------------------------------------------------------------------------\")\n",
    "# Solution:\n",
    "# Method 1: Convert each row to a list and get the first 4 items\n",
    "iris_2d = np.array([row.tolist()[:4] for row in iris_1d])\n",
    "print(iris_2d[:4])\n",
    "\n"
   ]
  },
  {
   "cell_type": "code",
   "execution_count": 13,
   "metadata": {},
   "outputs": [
    {
     "data": {
      "text/plain": [
       "array([[5.1, 3.5, 1.4, 0.2],\n",
       "       [4.9, 3. , 1.4, 0.2],\n",
       "       [4.7, 3.2, 1.3, 0.2],\n",
       "       [4.6, 3.1, 1.5, 0.2]])"
      ]
     },
     "execution_count": 13,
     "metadata": {},
     "output_type": "execute_result"
    }
   ],
   "source": [
    "# Alt Method 2: Import only the first 4 columns from source url\n",
    "iris_2d = np.genfromtxt(url, delimiter=',', dtype='float', usecols=[0,1,2,3])\n",
    "iris_2d[:4]"
   ]
  },
  {
   "cell_type": "markdown",
   "metadata": {},
   "source": [
    "28.How to compute the mean, median, standard deviation of a numpy array?\n",
    "\n",
    "Q. Find the mean, median, standard deviation of iris's sepallength (1st column)"
   ]
  },
  {
   "cell_type": "code",
   "execution_count": 14,
   "metadata": {},
   "outputs": [
    {
     "name": "stdout",
     "output_type": "stream",
     "text": [
      "5.843333333333334 5.8 0.8253012917851409\n"
     ]
    }
   ],
   "source": [
    "url = 'https://archive.ics.uci.edu/ml/machine-learning-databases/iris/iris.data'\n",
    "iris = np.genfromtxt(url, delimiter=',', dtype='object')\n",
    "sepallength = np.genfromtxt(url, delimiter=',', dtype='float', usecols=[0])\n",
    "\n",
    "# Solution\n",
    "mu, med, sd = np.mean(sepallength), np.median(sepallength), np.std(sepallength)\n",
    "print(mu, med, sd)"
   ]
  },
  {
   "cell_type": "code",
   "execution_count": null,
   "metadata": {},
   "outputs": [],
   "source": []
  }
 ],
 "metadata": {
  "kernelspec": {
   "display_name": "Python 3",
   "language": "python",
   "name": "python3"
  },
  "language_info": {
   "codemirror_mode": {
    "name": "ipython",
    "version": 3
   },
   "file_extension": ".py",
   "mimetype": "text/x-python",
   "name": "python",
   "nbconvert_exporter": "python",
   "pygments_lexer": "ipython3",
   "version": "3.7.4"
  }
 },
 "nbformat": 4,
 "nbformat_minor": 2
}
