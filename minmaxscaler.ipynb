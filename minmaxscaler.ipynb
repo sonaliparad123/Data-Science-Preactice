{
 "cells": [
  {
   "cell_type": "code",
   "execution_count": 3,
   "metadata": {},
   "outputs": [
    {
     "name": "stdout",
     "output_type": "stream",
     "text": [
      "2.1447866879169273\n"
     ]
    }
   ],
   "source": [
    "#t Test distribution\n",
    "from scipy.stats import t\n",
    "p1=t.ppf(0.975,14)\n",
    "print(p1)"
   ]
  },
  {
   "cell_type": "code",
   "execution_count": 6,
   "metadata": {},
   "outputs": [
    {
     "name": "stdout",
     "output_type": "stream",
     "text": [
      "       A       B      C\n",
      "0  14.00  103.02    big\n",
      "1  90.20  107.26  small\n",
      "2  90.95  110.35    big\n",
      "3  96.27  114.23  small\n",
      "4  91.21  114.68  small\n",
      "          A         B      C\n",
      "0  0.000000  0.000000    big\n",
      "1  0.926219  0.363636  small\n",
      "2  0.935335  0.628645    big\n",
      "3  1.000000  0.961407  small\n",
      "4  0.938495  1.000000  small\n"
     ]
    }
   ],
   "source": [
    "# Min max scaler\n",
    "import pandas as pd\n",
    "from sklearn.preprocessing import MinMaxScaler\n",
    "\n",
    "scaler=MinMaxScaler()\n",
    "\n",
    "dfTest=pd.DataFrame({'A':[14.00,90.20,90.95,96.27,91.21],\n",
    "                    'B':[103.02,107.26,110.35,114.23,114.68],\n",
    "                    'C':['big','small','big','small','small']})\n",
    "print(dfTest)\n",
    "dfTest[['A','B']]=scaler.fit_transform(dfTest[['A','B']])\n",
    "\n",
    "print(dfTest)"
   ]
  },
  {
   "cell_type": "code",
   "execution_count": 13,
   "metadata": {},
   "outputs": [
    {
     "name": "stdout",
     "output_type": "stream",
     "text": [
      "9.5\n",
      "5.5\n"
     ]
    }
   ],
   "source": [
    "from scipy import stats\n",
    "from statistics import mean\n",
    "x=[1,2,3,4,5,6,7,8,9,50]\n",
    "m=mean(x) #NO Trim\n",
    "n=stats.trim_mean(x,0.1) # Trim 10% at both ends\n",
    "print(m)\n",
    "print(n)"
   ]
  },
  {
   "cell_type": "code",
   "execution_count": 14,
   "metadata": {},
   "outputs": [],
   "source": [
    "import pandas as pd\n",
    "import random\n",
    "\n",
    "a=[ random.randint(0,100) for i in range(11)]\n",
    "b=[ random.randint(0,100) for i in range(11)]\n",
    "\n",
    "df=pd.DataFrame({'col_a':a,'col_b':b})"
   ]
  },
  {
   "cell_type": "code",
   "execution_count": 22,
   "metadata": {},
   "outputs": [
    {
     "name": "stdout",
     "output_type": "stream",
     "text": [
      "    col_a  col_b\n",
      "3       5     90\n",
      "1      29     11\n",
      "5      53     76\n",
      "9      57     57\n",
      "4      59     41\n",
      "0      60     48\n",
      "8      65     76\n",
      "2      75     76\n",
      "7      86     65\n",
      "6      94     23\n",
      "10     99     69\n",
      "Mean: 62.0\n",
      "Median: 60.0\n",
      "Std Dev: 27.575351312358652\n",
      "10th percentile: 29.0\n",
      "50th percentile: 60.0\n",
      "90th percentile: 94.0\n"
     ]
    }
   ],
   "source": [
    "print(df.sort_values(by=['col_a']))\n",
    "print('Mean:',df.col_a.mean())\n",
    "print('Median:',df.col_a.median())\n",
    "print('Std Dev:',df.col_a.std())\n",
    "print('10th percentile:',df.col_a.quantile(0.1))\n",
    "print('50th percentile:',df.col_a.quantile(0.5))\n",
    "print('90th percentile:',df.col_a.quantile(0.9))"
   ]
  },
  {
   "cell_type": "code",
   "execution_count": null,
   "metadata": {},
   "outputs": [],
   "source": []
  },
  {
   "cell_type": "code",
   "execution_count": null,
   "metadata": {},
   "outputs": [],
   "source": []
  }
 ],
 "metadata": {
  "kernelspec": {
   "display_name": "Python 3",
   "language": "python",
   "name": "python3"
  },
  "language_info": {
   "codemirror_mode": {
    "name": "ipython",
    "version": 3
   },
   "file_extension": ".py",
   "mimetype": "text/x-python",
   "name": "python",
   "nbconvert_exporter": "python",
   "pygments_lexer": "ipython3",
   "version": "3.7.4"
  }
 },
 "nbformat": 4,
 "nbformat_minor": 2
}
