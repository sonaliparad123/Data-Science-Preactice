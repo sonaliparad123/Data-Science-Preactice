{
 "cells": [
  {
   "cell_type": "code",
   "execution_count": 5,
   "metadata": {},
   "outputs": [
    {
     "name": "stdout",
     "output_type": "stream",
     "text": [
      "5\n",
      "6\n",
      "27\n",
      "26\n"
     ]
    }
   ],
   "source": [
    "doc1='Ramu had eggs for breakfast'\n",
    "doc2='Today it is sunny out side'\n",
    "#number of words\n",
    "print(len(str(doc1).split(\" \")))\n",
    "print(len(str(doc2).split(\" \")))\n",
    "print(len(doc1))\n",
    "print(len(doc2))"
   ]
  },
  {
   "cell_type": "code",
   "execution_count": 6,
   "metadata": {},
   "outputs": [
    {
     "name": "stderr",
     "output_type": "stream",
     "text": [
      "[nltk_data] Downloading package stopwords to\n",
      "[nltk_data]     C:\\Users\\sonali\\AppData\\Roaming\\nltk_data...\n",
      "[nltk_data]   Package stopwords is already up-to-date!\n"
     ]
    }
   ],
   "source": [
    "import nltk\n",
    "nltk.download('stopwords')\n",
    "from nltk.corpus import stopwords\n",
    "stop=stopwords.words('english')"
   ]
  },
  {
   "cell_type": "code",
   "execution_count": 10,
   "metadata": {},
   "outputs": [
    {
     "name": "stdout",
     "output_type": "stream",
     "text": [
      "had\n",
      "for\n",
      "had\n",
      "no of stop words: 3\n"
     ]
    }
   ],
   "source": [
    "#count of stop words\n",
    "#y='you are a very good boy'\n",
    "y='I had toast for break fast She had poha'\n",
    "i=0\n",
    "for x in y.split():\n",
    "    if x in stop:\n",
    "        print(x)\n",
    "        i+=1\n",
    "print('no of stop words:',i)"
   ]
  },
  {
   "cell_type": "code",
   "execution_count": 16,
   "metadata": {},
   "outputs": [
    {
     "name": "stdout",
     "output_type": "stream",
     "text": [
      "@home\n",
      "!a\n",
      "$we\n",
      "no of special characters is : 3\n"
     ]
    }
   ],
   "source": [
    "# no. of special characters\n",
    "y='I am @home in Mumbai !a #dd $we %sd'\n",
    "i=0\n",
    "for x in y.split():\n",
    "    if x.startswith('@') or x.startswith('!') or x.startswith('$'):\n",
    "        print(x)\n",
    "        i+=1\n",
    "print('no of special characters is :',i)"
   ]
  },
  {
   "cell_type": "code",
   "execution_count": 17,
   "metadata": {},
   "outputs": [
    {
     "name": "stdout",
     "output_type": "stream",
     "text": [
      "12\n",
      "505\n",
      "no of digit is : 2\n"
     ]
    }
   ],
   "source": [
    "#no. of digits\n",
    "y='I am @ home 12 yrs old. my rollno is 505'\n",
    "i=0\n",
    "for x in y.split():\n",
    "    if x.isdigit():\n",
    "        print(x)\n",
    "        i+=1\n",
    "print('no of digit is :',i)"
   ]
  },
  {
   "cell_type": "code",
   "execution_count": 19,
   "metadata": {},
   "outputs": [
    {
     "name": "stdout",
     "output_type": "stream",
     "text": [
      "I\n",
      "ROLL\n",
      "no of upper case letter is : 2\n"
     ]
    }
   ],
   "source": [
    "#count upper case words\n",
    "y='I am @ home 12 yrs old. my ROLL is 505'\n",
    "i=0\n",
    "for x in y.split():\n",
    "    if x.isupper():\n",
    "        print(x)\n",
    "        i+=1\n",
    "print('no of upper case letter is :',i)"
   ]
  },
  {
   "cell_type": "code",
   "execution_count": 21,
   "metadata": {},
   "outputs": [
    {
     "name": "stdout",
     "output_type": "stream",
     "text": [
      "am\n",
      "home\n",
      "yrs\n",
      "my\n",
      "is\n",
      "no of lower case letter is : 5\n"
     ]
    }
   ],
   "source": [
    "#count upper case words\n",
    "y='I am @ home 12 yrs Old. my ROLL is 505'\n",
    "i=0\n",
    "for x in y.split():\n",
    "    if x.islower():\n",
    "        print(x)\n",
    "        i+=1\n",
    "print('no of lower case letter is :',i)"
   ]
  },
  {
   "cell_type": "code",
   "execution_count": 24,
   "metadata": {},
   "outputs": [
    {
     "name": "stdout",
     "output_type": "stream",
     "text": [
      "Out put is:  i live in pune and eat mango \n"
     ]
    }
   ],
   "source": [
    "#convert to Lower case\n",
    "y='I live in Pune and Eat Mango'\n",
    "i=\" \"\n",
    "for x in y.split():\n",
    "    i=i+x.lower()+\" \"\n",
    "print('Out put is:',i)"
   ]
  },
  {
   "cell_type": "code",
   "execution_count": 28,
   "metadata": {},
   "outputs": [
    {
     "name": "stdout",
     "output_type": "stream",
     "text": [
      "We @pune are #1 &and 88 happy!! people. _ - + - / *☺\n",
      "We pune are 1 and 88 happy people _     \n"
     ]
    }
   ],
   "source": [
    "#removing special characters\n",
    "import re\n",
    "y='We @pune are #1 &and 88 happy!! people. _ - + - / *☺'\n",
    "print(y)\n",
    "y=re.sub(r'[^\\w\\s]','',y)\n",
    "print(y)"
   ]
  },
  {
   "cell_type": "code",
   "execution_count": 29,
   "metadata": {},
   "outputs": [
    {
     "name": "stdout",
     "output_type": "stream",
     "text": [
      "Out put is:  i live in pune and eat mango \n"
     ]
    }
   ],
   "source": [
    "#convert text tolower and Remove stop words\n",
    "y='I live in pune and Eat Mango'\n",
    "i=\" \"\n",
    "for x in y.split():\n",
    "     i=i+x.lower()+\" \"\n",
    "print('Out put is:',i)\n"
   ]
  },
  {
   "cell_type": "code",
   "execution_count": 32,
   "metadata": {},
   "outputs": [
    {
     "data": {
      "text/plain": [
       "a         4\n",
       "is        2\n",
       "bright    1\n",
       "dtype: int64"
      ]
     },
     "execution_count": 32,
     "metadata": {},
     "output_type": "execute_result"
    }
   ],
   "source": [
    "#count of most frequent words\n",
    "import pandas as pd\n",
    "y='Today is a Wednseday. It is also bright day. a a a'\n",
    "#split into words create list , convert into series to count\n",
    "freq=pd.Series(y.split()).value_counts()\n",
    "# 3 top most freaquent words\n",
    "freq=pd.Series(y.split()).value_counts()[:3]\n",
    "freq"
   ]
  },
  {
   "cell_type": "code",
   "execution_count": 39,
   "metadata": {},
   "outputs": [
    {
     "name": "stdout",
     "output_type": "stream",
     "text": [
      "Rahul studies in collage\n",
      " rahul studi in collag \n"
     ]
    }
   ],
   "source": [
    "#stemming using Porter Stemmer \n",
    "# it is the process of stripping the suffices\n",
    "#y=\"I am walking in gardan and Love organising events. We love connectivity\"\n",
    "y='Rahul studies in collage'\n",
    "print(y)\n",
    "from nltk.stem import PorterStemmer\n",
    "st=PorterStemmer()\n",
    "i=' '\n",
    "for word in y.split():\n",
    "    i=i+st.stem(word)+' '\n",
    "print(i)"
   ]
  },
  {
   "cell_type": "code",
   "execution_count": 53,
   "metadata": {},
   "outputs": [
    {
     "name": "stdout",
     "output_type": "stream",
     "text": [
      "Rahul studing in collage lives leaves\n",
      " Rahul studing in collage life leaf \n"
     ]
    }
   ],
   "source": [
    "#we usually prefer  \n",
    "# it is the process of stripping the suffices\n",
    "#y=\"I am walking in gardan and Love organising events. We love connectivity. friends bestie connection\"\n",
    "y='Rahul studing in collage lives leaves'\n",
    "print(y)\n",
    "import nltk\n",
    "from nltk.stem import PorterStemmer\n",
    "from textblob import Word\n",
    "st=PorterStemmer()\n",
    "i=' '\n",
    "for word in y.split():\n",
    "    i=i+Word(word).lemmatize()+' '\n",
    "print(i)"
   ]
  },
  {
   "cell_type": "code",
   "execution_count": 60,
   "metadata": {},
   "outputs": [
    {
     "data": {
      "text/plain": [
       "[WordList(['I', 'am', 'studing', 'in', 'college']),\n",
       " WordList(['am', 'studing', 'in', 'college', 'and']),\n",
       " WordList(['studing', 'in', 'college', 'and', 'in']),\n",
       " WordList(['in', 'college', 'and', 'in', 'college']),\n",
       " WordList(['college', 'and', 'in', 'college', 'have']),\n",
       " WordList(['and', 'in', 'college', 'have', 'many']),\n",
       " WordList(['in', 'college', 'have', 'many', 'friends'])]"
      ]
     },
     "execution_count": 60,
     "metadata": {},
     "output_type": "execute_result"
    }
   ],
   "source": [
    "#N gram \n",
    "# import textblob as TextBlob\n",
    "from textblob import TextBlob\n",
    "y=\"I am studing in college and in college have many friends\"\n",
    "TextBlob(y).ngrams(5)# try value 1,2,3,4,5"
   ]
  },
  {
   "cell_type": "code",
   "execution_count": null,
   "metadata": {},
   "outputs": [],
   "source": []
  }
 ],
 "metadata": {
  "kernelspec": {
   "display_name": "Python 3",
   "language": "python",
   "name": "python3"
  },
  "language_info": {
   "codemirror_mode": {
    "name": "ipython",
    "version": 3
   },
   "file_extension": ".py",
   "mimetype": "text/x-python",
   "name": "python",
   "nbconvert_exporter": "python",
   "pygments_lexer": "ipython3",
   "version": "3.7.4"
  }
 },
 "nbformat": 4,
 "nbformat_minor": 2
}
