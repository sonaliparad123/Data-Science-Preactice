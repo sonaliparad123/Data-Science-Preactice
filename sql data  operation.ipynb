{
 "cells": [
  {
   "cell_type": "code",
   "execution_count": 1,
   "metadata": {},
   "outputs": [],
   "source": [
    "%load_ext sql"
   ]
  },
  {
   "cell_type": "code",
   "execution_count": 2,
   "metadata": {},
   "outputs": [
    {
     "data": {
      "text/plain": [
       "'Connected: @None'"
      ]
     },
     "execution_count": 2,
     "metadata": {},
     "output_type": "execute_result"
    }
   ],
   "source": [
    " %sql sqlite://"
   ]
  },
  {
   "cell_type": "code",
   "execution_count": 3,
   "metadata": {},
   "outputs": [
    {
     "name": "stdout",
     "output_type": "stream",
     "text": [
      "Done.\n"
     ]
    },
    {
     "data": {
      "text/plain": [
       "[]"
      ]
     },
     "execution_count": 3,
     "metadata": {},
     "output_type": "execute_result"
    }
   ],
   "source": [
    "%%sql sqlite://\n",
    " CREATE TABLE COMPANY(\n",
    " ID INT PRIMARY KEY NOT NULL, NAME TEXT NOT NULL, AGE INT NOT NULL,ADDRESS CHAR(50),\n",
    " SALARY REAL)"
   ]
  },
  {
   "cell_type": "code",
   "execution_count": 4,
   "metadata": {},
   "outputs": [
    {
     "name": "stdout",
     "output_type": "stream",
     "text": [
      " * sqlite://\n",
      "1 rows affected.\n",
      " * sqlite://\n",
      "1 rows affected.\n",
      " * sqlite://\n",
      "1 rows affected.\n",
      " * sqlite://\n",
      "1 rows affected.\n",
      " * sqlite://\n",
      "1 rows affected.\n",
      " * sqlite://\n",
      "1 rows affected.\n",
      " * sqlite://\n",
      "1 rows affected.\n"
     ]
    },
    {
     "data": {
      "text/plain": [
       "[]"
      ]
     },
     "execution_count": 4,
     "metadata": {},
     "output_type": "execute_result"
    }
   ],
   "source": [
    "%sql INSERT INTO COMPANY VALUES (1, 'Paul', 32, 'California', 20000.00 )\n",
    "%sql INSERT INTO COMPANY  VALUES (2, 'Allen', 25, 'Texas', 15000.00 )\n",
    "\n",
    "%sql  INSERT INTO COMPANY  VALUES (3, 'Teddy', 23, 'Norway', 20000.00 )\n",
    "\n",
    "%sql INSERT INTO COMPANY  VALUES (4, 'Mark', 25, 'Rich-Mond ', 65000.00 )\n",
    "\n",
    "%sql  INSERT INTO COMPANY  VALUES (5, 'David', 27, 'Texas', 85000.00 )\n",
    "%sql  INSERT INTO COMPANY VALUES (6, 'Kim', 22, 'South-Hall', 45000.00 )\n",
    "%sql INSERT INTO COMPANY VALUES (10, 'Paul', 100, 'California', 80000.00 )"
   ]
  },
  {
   "cell_type": "code",
   "execution_count": 5,
   "metadata": {},
   "outputs": [
    {
     "name": "stdout",
     "output_type": "stream",
     "text": [
      " * sqlite://\n",
      "Done.\n",
      "+----+-------+-----+------------+---------+\n",
      "| ID |  NAME | AGE |  ADDRESS   |  SALARY |\n",
      "+----+-------+-----+------------+---------+\n",
      "| 1  |  Paul |  32 | California | 20000.0 |\n",
      "| 2  | Allen |  25 |   Texas    | 15000.0 |\n",
      "| 3  | Teddy |  23 |   Norway   | 20000.0 |\n",
      "| 4  |  Mark |  25 | Rich-Mond  | 65000.0 |\n",
      "| 5  | David |  27 |   Texas    | 85000.0 |\n",
      "| 6  |  Kim  |  22 | South-Hall | 45000.0 |\n",
      "| 10 |  Paul | 100 | California | 80000.0 |\n",
      "+----+-------+-----+------------+---------+\n"
     ]
    }
   ],
   "source": [
    "result=%sql select * from COMPANY\n",
    "print(result)"
   ]
  },
  {
   "cell_type": "code",
   "execution_count": 6,
   "metadata": {},
   "outputs": [
    {
     "name": "stdout",
     "output_type": "stream",
     "text": [
      " * sqlite://\n",
      "Done.\n"
     ]
    },
    {
     "data": {
      "text/html": [
       "<table>\n",
       "    <tr>\n",
       "        <th>1</th>\n",
       "    </tr>\n",
       "</table>"
      ],
      "text/plain": [
       "[]"
      ]
     },
     "execution_count": 6,
     "metadata": {},
     "output_type": "execute_result"
    }
   ],
   "source": [
    "%sql ALTER TABLE company RENAME TO recipes2"
   ]
  },
  {
   "cell_type": "code",
   "execution_count": 7,
   "metadata": {},
   "outputs": [
    {
     "name": "stdout",
     "output_type": "stream",
     "text": [
      " * sqlite://\n",
      "Done.\n",
      "+----+-------+-----+------------+---------+\n",
      "| ID |  NAME | AGE |  ADDRESS   |  SALARY |\n",
      "+----+-------+-----+------------+---------+\n",
      "| 1  |  Paul |  32 | California | 20000.0 |\n",
      "| 2  | Allen |  25 |   Texas    | 15000.0 |\n",
      "| 3  | Teddy |  23 |   Norway   | 20000.0 |\n",
      "| 4  |  Mark |  25 | Rich-Mond  | 65000.0 |\n",
      "| 5  | David |  27 |   Texas    | 85000.0 |\n",
      "| 6  |  Kim  |  22 | South-Hall | 45000.0 |\n",
      "| 10 |  Paul | 100 | California | 80000.0 |\n",
      "+----+-------+-----+------------+---------+\n"
     ]
    }
   ],
   "source": [
    "result=%sql select * from recipes2\n",
    "print(result)"
   ]
  },
  {
   "cell_type": "code",
   "execution_count": 8,
   "metadata": {},
   "outputs": [
    {
     "name": "stdout",
     "output_type": "stream",
     "text": [
      " * sqlite://\n",
      "Done.\n",
      " * sqlite://\n",
      "Done.\n"
     ]
    },
    {
     "data": {
      "text/html": [
       "<table>\n",
       "    <tr>\n",
       "        <th>ID</th>\n",
       "        <th>NAME</th>\n",
       "        <th>AGE</th>\n",
       "        <th>ADDRESS</th>\n",
       "        <th>SALARY</th>\n",
       "        <th>PH_NO</th>\n",
       "    </tr>\n",
       "    <tr>\n",
       "        <td>1</td>\n",
       "        <td>Paul</td>\n",
       "        <td>32</td>\n",
       "        <td>California</td>\n",
       "        <td>20000.0</td>\n",
       "        <td>None</td>\n",
       "    </tr>\n",
       "    <tr>\n",
       "        <td>2</td>\n",
       "        <td>Allen</td>\n",
       "        <td>25</td>\n",
       "        <td>Texas</td>\n",
       "        <td>15000.0</td>\n",
       "        <td>None</td>\n",
       "    </tr>\n",
       "    <tr>\n",
       "        <td>3</td>\n",
       "        <td>Teddy</td>\n",
       "        <td>23</td>\n",
       "        <td>Norway</td>\n",
       "        <td>20000.0</td>\n",
       "        <td>None</td>\n",
       "    </tr>\n",
       "    <tr>\n",
       "        <td>4</td>\n",
       "        <td>Mark</td>\n",
       "        <td>25</td>\n",
       "        <td>Rich-Mond </td>\n",
       "        <td>65000.0</td>\n",
       "        <td>None</td>\n",
       "    </tr>\n",
       "    <tr>\n",
       "        <td>5</td>\n",
       "        <td>David</td>\n",
       "        <td>27</td>\n",
       "        <td>Texas</td>\n",
       "        <td>85000.0</td>\n",
       "        <td>None</td>\n",
       "    </tr>\n",
       "    <tr>\n",
       "        <td>6</td>\n",
       "        <td>Kim</td>\n",
       "        <td>22</td>\n",
       "        <td>South-Hall</td>\n",
       "        <td>45000.0</td>\n",
       "        <td>None</td>\n",
       "    </tr>\n",
       "    <tr>\n",
       "        <td>10</td>\n",
       "        <td>Paul</td>\n",
       "        <td>100</td>\n",
       "        <td>California</td>\n",
       "        <td>80000.0</td>\n",
       "        <td>None</td>\n",
       "    </tr>\n",
       "</table>"
      ],
      "text/plain": [
       "[(1, 'Paul', 32, 'California', 20000.0, None),\n",
       " (2, 'Allen', 25, 'Texas', 15000.0, None),\n",
       " (3, 'Teddy', 23, 'Norway', 20000.0, None),\n",
       " (4, 'Mark', 25, 'Rich-Mond ', 65000.0, None),\n",
       " (5, 'David', 27, 'Texas', 85000.0, None),\n",
       " (6, 'Kim', 22, 'South-Hall', 45000.0, None),\n",
       " (10, 'Paul', 100, 'California', 80000.0, None)]"
      ]
     },
     "execution_count": 8,
     "metadata": {},
     "output_type": "execute_result"
    }
   ],
   "source": [
    "%sql alter table recipes2 add PH_NO int \n",
    "%sql select * from recipes2"
   ]
  },
  {
   "cell_type": "code",
   "execution_count": 9,
   "metadata": {},
   "outputs": [
    {
     "name": "stdout",
     "output_type": "stream",
     "text": [
      " * sqlite://\n",
      "1 rows affected.\n"
     ]
    },
    {
     "data": {
      "text/plain": [
       "[]"
      ]
     },
     "execution_count": 9,
     "metadata": {},
     "output_type": "execute_result"
    }
   ],
   "source": [
    "%sql update recipes2 set PH_NO='9764405042' where NAME='David'"
   ]
  },
  {
   "cell_type": "code",
   "execution_count": 10,
   "metadata": {},
   "outputs": [
    {
     "name": "stdout",
     "output_type": "stream",
     "text": [
      " * sqlite://\n",
      "Done.\n"
     ]
    },
    {
     "data": {
      "text/html": [
       "<table>\n",
       "    <tr>\n",
       "        <th>ID</th>\n",
       "        <th>NAME</th>\n",
       "        <th>AGE</th>\n",
       "        <th>ADDRESS</th>\n",
       "        <th>SALARY</th>\n",
       "        <th>PH_NO</th>\n",
       "    </tr>\n",
       "    <tr>\n",
       "        <td>1</td>\n",
       "        <td>Paul</td>\n",
       "        <td>32</td>\n",
       "        <td>California</td>\n",
       "        <td>20000.0</td>\n",
       "        <td>None</td>\n",
       "    </tr>\n",
       "    <tr>\n",
       "        <td>2</td>\n",
       "        <td>Allen</td>\n",
       "        <td>25</td>\n",
       "        <td>Texas</td>\n",
       "        <td>15000.0</td>\n",
       "        <td>None</td>\n",
       "    </tr>\n",
       "    <tr>\n",
       "        <td>3</td>\n",
       "        <td>Teddy</td>\n",
       "        <td>23</td>\n",
       "        <td>Norway</td>\n",
       "        <td>20000.0</td>\n",
       "        <td>None</td>\n",
       "    </tr>\n",
       "    <tr>\n",
       "        <td>4</td>\n",
       "        <td>Mark</td>\n",
       "        <td>25</td>\n",
       "        <td>Rich-Mond </td>\n",
       "        <td>65000.0</td>\n",
       "        <td>None</td>\n",
       "    </tr>\n",
       "    <tr>\n",
       "        <td>5</td>\n",
       "        <td>David</td>\n",
       "        <td>27</td>\n",
       "        <td>Texas</td>\n",
       "        <td>85000.0</td>\n",
       "        <td>9764405042</td>\n",
       "    </tr>\n",
       "    <tr>\n",
       "        <td>6</td>\n",
       "        <td>Kim</td>\n",
       "        <td>22</td>\n",
       "        <td>South-Hall</td>\n",
       "        <td>45000.0</td>\n",
       "        <td>None</td>\n",
       "    </tr>\n",
       "    <tr>\n",
       "        <td>10</td>\n",
       "        <td>Paul</td>\n",
       "        <td>100</td>\n",
       "        <td>California</td>\n",
       "        <td>80000.0</td>\n",
       "        <td>None</td>\n",
       "    </tr>\n",
       "</table>"
      ],
      "text/plain": [
       "[(1, 'Paul', 32, 'California', 20000.0, None),\n",
       " (2, 'Allen', 25, 'Texas', 15000.0, None),\n",
       " (3, 'Teddy', 23, 'Norway', 20000.0, None),\n",
       " (4, 'Mark', 25, 'Rich-Mond ', 65000.0, None),\n",
       " (5, 'David', 27, 'Texas', 85000.0, 9764405042),\n",
       " (6, 'Kim', 22, 'South-Hall', 45000.0, None),\n",
       " (10, 'Paul', 100, 'California', 80000.0, None)]"
      ]
     },
     "execution_count": 10,
     "metadata": {},
     "output_type": "execute_result"
    }
   ],
   "source": [
    "%sql select * from recipes2"
   ]
  },
  {
   "cell_type": "code",
   "execution_count": 11,
   "metadata": {},
   "outputs": [
    {
     "name": "stdout",
     "output_type": "stream",
     "text": [
      " * sqlite://\n",
      "Done.\n"
     ]
    },
    {
     "data": {
      "text/html": [
       "<table>\n",
       "    <tr>\n",
       "        <th>ID</th>\n",
       "        <th>NAME</th>\n",
       "        <th>AGE</th>\n",
       "        <th>ADDRESS</th>\n",
       "        <th>SALARY</th>\n",
       "        <th>PH_NO</th>\n",
       "    </tr>\n",
       "    <tr>\n",
       "        <td>4</td>\n",
       "        <td>Mark</td>\n",
       "        <td>25</td>\n",
       "        <td>Rich-Mond </td>\n",
       "        <td>65000.0</td>\n",
       "        <td>None</td>\n",
       "    </tr>\n",
       "    <tr>\n",
       "        <td>5</td>\n",
       "        <td>David</td>\n",
       "        <td>27</td>\n",
       "        <td>Texas</td>\n",
       "        <td>85000.0</td>\n",
       "        <td>9764405042</td>\n",
       "    </tr>\n",
       "    <tr>\n",
       "        <td>10</td>\n",
       "        <td>Paul</td>\n",
       "        <td>100</td>\n",
       "        <td>California</td>\n",
       "        <td>80000.0</td>\n",
       "        <td>None</td>\n",
       "    </tr>\n",
       "</table>"
      ],
      "text/plain": [
       "[(4, 'Mark', 25, 'Rich-Mond ', 65000.0, None),\n",
       " (5, 'David', 27, 'Texas', 85000.0, 9764405042),\n",
       " (10, 'Paul', 100, 'California', 80000.0, None)]"
      ]
     },
     "execution_count": 11,
     "metadata": {},
     "output_type": "execute_result"
    }
   ],
   "source": [
    "#AND\n",
    "%sql SELECT * FROM recipes2 WHERE AGE >= 25 AND SALARY >= 65000; "
   ]
  },
  {
   "cell_type": "code",
   "execution_count": 12,
   "metadata": {},
   "outputs": [
    {
     "name": "stdout",
     "output_type": "stream",
     "text": [
      " * sqlite://\n",
      "Done.\n"
     ]
    },
    {
     "data": {
      "text/html": [
       "<table>\n",
       "    <tr>\n",
       "        <th>ID</th>\n",
       "        <th>NAME</th>\n",
       "        <th>AGE</th>\n",
       "        <th>ADDRESS</th>\n",
       "        <th>SALARY</th>\n",
       "        <th>PH_NO</th>\n",
       "    </tr>\n",
       "    <tr>\n",
       "        <td>1</td>\n",
       "        <td>Paul</td>\n",
       "        <td>32</td>\n",
       "        <td>California</td>\n",
       "        <td>20000.0</td>\n",
       "        <td>None</td>\n",
       "    </tr>\n",
       "    <tr>\n",
       "        <td>2</td>\n",
       "        <td>Allen</td>\n",
       "        <td>25</td>\n",
       "        <td>Texas</td>\n",
       "        <td>15000.0</td>\n",
       "        <td>None</td>\n",
       "    </tr>\n",
       "    <tr>\n",
       "        <td>4</td>\n",
       "        <td>Mark</td>\n",
       "        <td>25</td>\n",
       "        <td>Rich-Mond </td>\n",
       "        <td>65000.0</td>\n",
       "        <td>None</td>\n",
       "    </tr>\n",
       "    <tr>\n",
       "        <td>5</td>\n",
       "        <td>David</td>\n",
       "        <td>27</td>\n",
       "        <td>Texas</td>\n",
       "        <td>85000.0</td>\n",
       "        <td>9764405042</td>\n",
       "    </tr>\n",
       "    <tr>\n",
       "        <td>10</td>\n",
       "        <td>Paul</td>\n",
       "        <td>100</td>\n",
       "        <td>California</td>\n",
       "        <td>80000.0</td>\n",
       "        <td>None</td>\n",
       "    </tr>\n",
       "</table>"
      ],
      "text/plain": [
       "[(1, 'Paul', 32, 'California', 20000.0, None),\n",
       " (2, 'Allen', 25, 'Texas', 15000.0, None),\n",
       " (4, 'Mark', 25, 'Rich-Mond ', 65000.0, None),\n",
       " (5, 'David', 27, 'Texas', 85000.0, 9764405042),\n",
       " (10, 'Paul', 100, 'California', 80000.0, None)]"
      ]
     },
     "execution_count": 12,
     "metadata": {},
     "output_type": "execute_result"
    }
   ],
   "source": [
    "#or\n",
    "%sql SELECT * FROM recipes2 WHERE AGE >= 25 OR SALARY >= 65000;\n"
   ]
  },
  {
   "cell_type": "code",
   "execution_count": 13,
   "metadata": {},
   "outputs": [
    {
     "name": "stdout",
     "output_type": "stream",
     "text": [
      " * sqlite://\n",
      "Done.\n"
     ]
    },
    {
     "data": {
      "text/html": [
       "<table>\n",
       "    <tr>\n",
       "        <th>ID</th>\n",
       "        <th>NAME</th>\n",
       "        <th>AGE</th>\n",
       "        <th>ADDRESS</th>\n",
       "        <th>SALARY</th>\n",
       "        <th>PH_NO</th>\n",
       "    </tr>\n",
       "    <tr>\n",
       "        <td>1</td>\n",
       "        <td>Paul</td>\n",
       "        <td>32</td>\n",
       "        <td>California</td>\n",
       "        <td>20000.0</td>\n",
       "        <td>None</td>\n",
       "    </tr>\n",
       "    <tr>\n",
       "        <td>10</td>\n",
       "        <td>Paul</td>\n",
       "        <td>100</td>\n",
       "        <td>California</td>\n",
       "        <td>80000.0</td>\n",
       "        <td>None</td>\n",
       "    </tr>\n",
       "</table>"
      ],
      "text/plain": [
       "[(1, 'Paul', 32, 'California', 20000.0, None),\n",
       " (10, 'Paul', 100, 'California', 80000.0, None)]"
      ]
     },
     "execution_count": 13,
     "metadata": {},
     "output_type": "execute_result"
    }
   ],
   "source": [
    "#start with P\n",
    "%sql SELECT * FROM recipes2 WHERE NAME LIKE 'P%';"
   ]
  },
  {
   "cell_type": "code",
   "execution_count": 14,
   "metadata": {},
   "outputs": [
    {
     "name": "stdout",
     "output_type": "stream",
     "text": [
      " * sqlite://\n",
      "Done.\n"
     ]
    },
    {
     "data": {
      "text/html": [
       "<table>\n",
       "    <tr>\n",
       "        <th>ID</th>\n",
       "        <th>NAME</th>\n",
       "        <th>AGE</th>\n",
       "        <th>ADDRESS</th>\n",
       "        <th>SALARY</th>\n",
       "        <th>PH_NO</th>\n",
       "    </tr>\n",
       "    <tr>\n",
       "        <td>3</td>\n",
       "        <td>Teddy</td>\n",
       "        <td>23</td>\n",
       "        <td>Norway</td>\n",
       "        <td>20000.0</td>\n",
       "        <td>None</td>\n",
       "    </tr>\n",
       "</table>"
      ],
      "text/plain": [
       "[(3, 'Teddy', 23, 'Norway', 20000.0, None)]"
      ]
     },
     "execution_count": 14,
     "metadata": {},
     "output_type": "execute_result"
    }
   ],
   "source": [
    "#end with y\n",
    "%sql SELECT * FROM recipes2 WHERE NAME LIKE '%y'; "
   ]
  },
  {
   "cell_type": "code",
   "execution_count": 15,
   "metadata": {},
   "outputs": [
    {
     "name": "stdout",
     "output_type": "stream",
     "text": [
      " * sqlite://\n",
      "Done.\n"
     ]
    },
    {
     "data": {
      "text/html": [
       "<table>\n",
       "    <tr>\n",
       "        <th>ID</th>\n",
       "        <th>NAME</th>\n",
       "        <th>AGE</th>\n",
       "        <th>ADDRESS</th>\n",
       "        <th>SALARY</th>\n",
       "        <th>PH_NO</th>\n",
       "    </tr>\n",
       "    <tr>\n",
       "        <td>1</td>\n",
       "        <td>Paul</td>\n",
       "        <td>32</td>\n",
       "        <td>California</td>\n",
       "        <td>20000.0</td>\n",
       "        <td>None</td>\n",
       "    </tr>\n",
       "    <tr>\n",
       "        <td>4</td>\n",
       "        <td>Mark</td>\n",
       "        <td>25</td>\n",
       "        <td>Rich-Mond </td>\n",
       "        <td>65000.0</td>\n",
       "        <td>None</td>\n",
       "    </tr>\n",
       "    <tr>\n",
       "        <td>5</td>\n",
       "        <td>David</td>\n",
       "        <td>27</td>\n",
       "        <td>Texas</td>\n",
       "        <td>85000.0</td>\n",
       "        <td>9764405042</td>\n",
       "    </tr>\n",
       "    <tr>\n",
       "        <td>10</td>\n",
       "        <td>Paul</td>\n",
       "        <td>100</td>\n",
       "        <td>California</td>\n",
       "        <td>80000.0</td>\n",
       "        <td>None</td>\n",
       "    </tr>\n",
       "</table>"
      ],
      "text/plain": [
       "[(1, 'Paul', 32, 'California', 20000.0, None),\n",
       " (4, 'Mark', 25, 'Rich-Mond ', 65000.0, None),\n",
       " (5, 'David', 27, 'Texas', 85000.0, 9764405042),\n",
       " (10, 'Paul', 100, 'California', 80000.0, None)]"
      ]
     },
     "execution_count": 15,
     "metadata": {},
     "output_type": "execute_result"
    }
   ],
   "source": [
    "#second letter with a\n",
    "%sql SELECT * FROM recipes2 WHERE NAME LIKE '_a%'; "
   ]
  },
  {
   "cell_type": "code",
   "execution_count": 16,
   "metadata": {},
   "outputs": [
    {
     "name": "stdout",
     "output_type": "stream",
     "text": [
      " * sqlite://\n",
      "Done.\n"
     ]
    },
    {
     "data": {
      "text/html": [
       "<table>\n",
       "    <tr>\n",
       "        <th>ID</th>\n",
       "        <th>NAME</th>\n",
       "        <th>AGE</th>\n",
       "        <th>ADDRESS</th>\n",
       "        <th>SALARY</th>\n",
       "        <th>PH_NO</th>\n",
       "    </tr>\n",
       "    <tr>\n",
       "        <td>2</td>\n",
       "        <td>Allen</td>\n",
       "        <td>25</td>\n",
       "        <td>Texas</td>\n",
       "        <td>15000.0</td>\n",
       "        <td>None</td>\n",
       "    </tr>\n",
       "</table>"
      ],
      "text/plain": [
       "[(2, 'Allen', 25, 'Texas', 15000.0, None)]"
      ]
     },
     "execution_count": 16,
     "metadata": {},
     "output_type": "execute_result"
    }
   ],
   "source": [
    "#after a string\n",
    "%sql SELECT * FROM recipes2 WHERE NAME LIKE 'A___%'; "
   ]
  },
  {
   "cell_type": "code",
   "execution_count": 17,
   "metadata": {},
   "outputs": [
    {
     "name": "stdout",
     "output_type": "stream",
     "text": [
      " * sqlite://\n",
      "Done.\n"
     ]
    },
    {
     "data": {
      "text/html": [
       "<table>\n",
       "    <tr>\n",
       "        <th>ID</th>\n",
       "        <th>NAME</th>\n",
       "        <th>AGE</th>\n",
       "        <th>ADDRESS</th>\n",
       "        <th>SALARY</th>\n",
       "        <th>PH_NO</th>\n",
       "    </tr>\n",
       "    <tr>\n",
       "        <td>4</td>\n",
       "        <td>Mark</td>\n",
       "        <td>25</td>\n",
       "        <td>Rich-Mond </td>\n",
       "        <td>65000.0</td>\n",
       "        <td>None</td>\n",
       "    </tr>\n",
       "</table>"
      ],
      "text/plain": [
       "[(4, 'Mark', 25, 'Rich-Mond ', 65000.0, None)]"
      ]
     },
     "execution_count": 17,
     "metadata": {},
     "output_type": "execute_result"
    }
   ],
   "source": [
    "#first letter a and last letter k string\n",
    "%sql SELECT * FROM recipes2 WHERE NAME LIKE 'M%k';"
   ]
  },
  {
   "cell_type": "code",
   "execution_count": 18,
   "metadata": {},
   "outputs": [
    {
     "name": "stdout",
     "output_type": "stream",
     "text": [
      " * sqlite://\n",
      "Done.\n"
     ]
    },
    {
     "data": {
      "text/html": [
       "<table>\n",
       "    <tr>\n",
       "        <th>ID</th>\n",
       "        <th>NAME</th>\n",
       "        <th>AGE</th>\n",
       "        <th>ADDRESS</th>\n",
       "        <th>SALARY</th>\n",
       "        <th>PH_NO</th>\n",
       "    </tr>\n",
       "    <tr>\n",
       "        <td>1</td>\n",
       "        <td>Paul</td>\n",
       "        <td>32</td>\n",
       "        <td>California</td>\n",
       "        <td>20000.0</td>\n",
       "        <td>None</td>\n",
       "    </tr>\n",
       "    <tr>\n",
       "        <td>2</td>\n",
       "        <td>Allen</td>\n",
       "        <td>25</td>\n",
       "        <td>Texas</td>\n",
       "        <td>15000.0</td>\n",
       "        <td>None</td>\n",
       "    </tr>\n",
       "    <tr>\n",
       "        <td>3</td>\n",
       "        <td>Teddy</td>\n",
       "        <td>23</td>\n",
       "        <td>Norway</td>\n",
       "        <td>20000.0</td>\n",
       "        <td>None</td>\n",
       "    </tr>\n",
       "    <tr>\n",
       "        <td>4</td>\n",
       "        <td>Mark</td>\n",
       "        <td>25</td>\n",
       "        <td>Rich-Mond </td>\n",
       "        <td>65000.0</td>\n",
       "        <td>None</td>\n",
       "    </tr>\n",
       "</table>"
      ],
      "text/plain": [
       "[(1, 'Paul', 32, 'California', 20000.0, None),\n",
       " (2, 'Allen', 25, 'Texas', 15000.0, None),\n",
       " (3, 'Teddy', 23, 'Norway', 20000.0, None),\n",
       " (4, 'Mark', 25, 'Rich-Mond ', 65000.0, None)]"
      ]
     },
     "execution_count": 18,
     "metadata": {},
     "output_type": "execute_result"
    }
   ],
   "source": [
    "%sql SELECT * FROM recipes2 LIMIT 4;"
   ]
  },
  {
   "cell_type": "code",
   "execution_count": 19,
   "metadata": {},
   "outputs": [
    {
     "name": "stdout",
     "output_type": "stream",
     "text": [
      " * sqlite://\n",
      "Done.\n"
     ]
    },
    {
     "data": {
      "text/html": [
       "<table>\n",
       "    <tr>\n",
       "        <th>ID</th>\n",
       "        <th>NAME</th>\n",
       "        <th>AGE</th>\n",
       "        <th>ADDRESS</th>\n",
       "        <th>SALARY</th>\n",
       "        <th>PH_NO</th>\n",
       "    </tr>\n",
       "    <tr>\n",
       "        <td>2</td>\n",
       "        <td>Allen</td>\n",
       "        <td>25</td>\n",
       "        <td>Texas</td>\n",
       "        <td>15000.0</td>\n",
       "        <td>None</td>\n",
       "    </tr>\n",
       "    <tr>\n",
       "        <td>5</td>\n",
       "        <td>David</td>\n",
       "        <td>27</td>\n",
       "        <td>Texas</td>\n",
       "        <td>85000.0</td>\n",
       "        <td>9764405042</td>\n",
       "    </tr>\n",
       "    <tr>\n",
       "        <td>6</td>\n",
       "        <td>Kim</td>\n",
       "        <td>22</td>\n",
       "        <td>South-Hall</td>\n",
       "        <td>45000.0</td>\n",
       "        <td>None</td>\n",
       "    </tr>\n",
       "    <tr>\n",
       "        <td>4</td>\n",
       "        <td>Mark</td>\n",
       "        <td>25</td>\n",
       "        <td>Rich-Mond </td>\n",
       "        <td>65000.0</td>\n",
       "        <td>None</td>\n",
       "    </tr>\n",
       "    <tr>\n",
       "        <td>1</td>\n",
       "        <td>Paul</td>\n",
       "        <td>32</td>\n",
       "        <td>California</td>\n",
       "        <td>20000.0</td>\n",
       "        <td>None</td>\n",
       "    </tr>\n",
       "    <tr>\n",
       "        <td>10</td>\n",
       "        <td>Paul</td>\n",
       "        <td>100</td>\n",
       "        <td>California</td>\n",
       "        <td>80000.0</td>\n",
       "        <td>None</td>\n",
       "    </tr>\n",
       "    <tr>\n",
       "        <td>3</td>\n",
       "        <td>Teddy</td>\n",
       "        <td>23</td>\n",
       "        <td>Norway</td>\n",
       "        <td>20000.0</td>\n",
       "        <td>None</td>\n",
       "    </tr>\n",
       "</table>"
      ],
      "text/plain": [
       "[(2, 'Allen', 25, 'Texas', 15000.0, None),\n",
       " (5, 'David', 27, 'Texas', 85000.0, 9764405042),\n",
       " (6, 'Kim', 22, 'South-Hall', 45000.0, None),\n",
       " (4, 'Mark', 25, 'Rich-Mond ', 65000.0, None),\n",
       " (1, 'Paul', 32, 'California', 20000.0, None),\n",
       " (10, 'Paul', 100, 'California', 80000.0, None),\n",
       " (3, 'Teddy', 23, 'Norway', 20000.0, None)]"
      ]
     },
     "execution_count": 19,
     "metadata": {},
     "output_type": "execute_result"
    }
   ],
   "source": [
    "%sql SELECT * FROM recipes2 ORDER BY (NAME) ASC; "
   ]
  },
  {
   "cell_type": "code",
   "execution_count": 20,
   "metadata": {},
   "outputs": [
    {
     "name": "stdout",
     "output_type": "stream",
     "text": [
      " * sqlite://\n",
      "Done.\n"
     ]
    },
    {
     "data": {
      "text/html": [
       "<table>\n",
       "    <tr>\n",
       "        <th>ID</th>\n",
       "        <th>NAME</th>\n",
       "        <th>AGE</th>\n",
       "        <th>ADDRESS</th>\n",
       "        <th>SALARY</th>\n",
       "        <th>PH_NO</th>\n",
       "    </tr>\n",
       "    <tr>\n",
       "        <td>3</td>\n",
       "        <td>Teddy</td>\n",
       "        <td>23</td>\n",
       "        <td>Norway</td>\n",
       "        <td>20000.0</td>\n",
       "        <td>None</td>\n",
       "    </tr>\n",
       "    <tr>\n",
       "        <td>1</td>\n",
       "        <td>Paul</td>\n",
       "        <td>32</td>\n",
       "        <td>California</td>\n",
       "        <td>20000.0</td>\n",
       "        <td>None</td>\n",
       "    </tr>\n",
       "    <tr>\n",
       "        <td>10</td>\n",
       "        <td>Paul</td>\n",
       "        <td>100</td>\n",
       "        <td>California</td>\n",
       "        <td>80000.0</td>\n",
       "        <td>None</td>\n",
       "    </tr>\n",
       "    <tr>\n",
       "        <td>4</td>\n",
       "        <td>Mark</td>\n",
       "        <td>25</td>\n",
       "        <td>Rich-Mond </td>\n",
       "        <td>65000.0</td>\n",
       "        <td>None</td>\n",
       "    </tr>\n",
       "    <tr>\n",
       "        <td>6</td>\n",
       "        <td>Kim</td>\n",
       "        <td>22</td>\n",
       "        <td>South-Hall</td>\n",
       "        <td>45000.0</td>\n",
       "        <td>None</td>\n",
       "    </tr>\n",
       "    <tr>\n",
       "        <td>5</td>\n",
       "        <td>David</td>\n",
       "        <td>27</td>\n",
       "        <td>Texas</td>\n",
       "        <td>85000.0</td>\n",
       "        <td>9764405042</td>\n",
       "    </tr>\n",
       "    <tr>\n",
       "        <td>2</td>\n",
       "        <td>Allen</td>\n",
       "        <td>25</td>\n",
       "        <td>Texas</td>\n",
       "        <td>15000.0</td>\n",
       "        <td>None</td>\n",
       "    </tr>\n",
       "</table>"
      ],
      "text/plain": [
       "[(3, 'Teddy', 23, 'Norway', 20000.0, None),\n",
       " (1, 'Paul', 32, 'California', 20000.0, None),\n",
       " (10, 'Paul', 100, 'California', 80000.0, None),\n",
       " (4, 'Mark', 25, 'Rich-Mond ', 65000.0, None),\n",
       " (6, 'Kim', 22, 'South-Hall', 45000.0, None),\n",
       " (5, 'David', 27, 'Texas', 85000.0, 9764405042),\n",
       " (2, 'Allen', 25, 'Texas', 15000.0, None)]"
      ]
     },
     "execution_count": 20,
     "metadata": {},
     "output_type": "execute_result"
    }
   ],
   "source": [
    "%sql SELECT * FROM RECIPES2 ORDER BY (NAME) DESC;"
   ]
  },
  {
   "cell_type": "code",
   "execution_count": 21,
   "metadata": {},
   "outputs": [
    {
     "name": "stdout",
     "output_type": "stream",
     "text": [
      " * sqlite://\n",
      "Done.\n",
      "+------------+\n",
      "| SUM_SALARY |\n",
      "+------------+\n",
      "|  330000.0  |\n",
      "+------------+\n",
      " * sqlite://\n",
      "Done.\n",
      "+------------+\n",
      "| MAX_SALARY |\n",
      "+------------+\n",
      "|  85000.0   |\n",
      "+------------+\n",
      " * sqlite://\n",
      "Done.\n",
      "+------------+\n",
      "| MIN_SALARY |\n",
      "+------------+\n",
      "|  15000.0   |\n",
      "+------------+\n",
      " * sqlite://\n",
      "Done.\n",
      "+--------------------+\n",
      "|     AVG_SALARY     |\n",
      "+--------------------+\n",
      "| 47142.857142857145 |\n",
      "+--------------------+\n",
      " * sqlite://\n",
      "Done.\n",
      "+--------------+\n",
      "| COUNT_SALARY |\n",
      "+--------------+\n",
      "|      7       |\n",
      "+--------------+\n"
     ]
    }
   ],
   "source": [
    "SUM_SALARY=%sql SELECT SUM(SALARY) AS SUM_SALARY FROM RECIPES2\n",
    "print(SUM_SALARY)\n",
    "MAX_SALARY=%sql SELECT MAX(SALARY) AS MAX_SALARY FROM RECIPES2 \n",
    "print(MAX_SALARY)\n",
    "MIN_SALARY=%sql SELECT MIN(SALARY) AS MIN_SALARY FROM RECIPES2 \n",
    "print(MIN_SALARY)\n",
    "AVG_SALARY=%sql SELECT AVG(SALARY) AS AVG_SALARY FROM RECIPES2 \n",
    "print(AVG_SALARY)\n",
    "COUNT_SALARY=%sql SELECT Count(SALARY) AS COUNT_SALARY FROM RECIPES2\n",
    "print(COUNT_SALARY)"
   ]
  },
  {
   "cell_type": "code",
   "execution_count": 22,
   "metadata": {},
   "outputs": [
    {
     "name": "stdout",
     "output_type": "stream",
     "text": [
      " * sqlite://\n",
      "Done.\n"
     ]
    },
    {
     "data": {
      "text/html": [
       "<table>\n",
       "    <tr>\n",
       "        <th>SALARY</th>\n",
       "        <th>ADDRESS</th>\n",
       "    </tr>\n",
       "    <tr>\n",
       "        <td>100000.0</td>\n",
       "        <td>Texas</td>\n",
       "    </tr>\n",
       "    <tr>\n",
       "        <td>45000.0</td>\n",
       "        <td>South-Hall</td>\n",
       "    </tr>\n",
       "    <tr>\n",
       "        <td>65000.0</td>\n",
       "        <td>Rich-Mond </td>\n",
       "    </tr>\n",
       "    <tr>\n",
       "        <td>20000.0</td>\n",
       "        <td>Norway</td>\n",
       "    </tr>\n",
       "    <tr>\n",
       "        <td>100000.0</td>\n",
       "        <td>California</td>\n",
       "    </tr>\n",
       "</table>"
      ],
      "text/plain": [
       "[(100000.0, 'Texas'),\n",
       " (45000.0, 'South-Hall'),\n",
       " (65000.0, 'Rich-Mond '),\n",
       " (20000.0, 'Norway'),\n",
       " (100000.0, 'California')]"
      ]
     },
     "execution_count": 22,
     "metadata": {},
     "output_type": "execute_result"
    }
   ],
   "source": [
    "%sql SELECT\tSUM(SALARY) AS SALARY,ADDRESS FROM RECIPES2 GROUP BY ADDRESS ORDER BY ADDRESS DESC;"
   ]
  },
  {
   "cell_type": "code",
   "execution_count": 23,
   "metadata": {},
   "outputs": [
    {
     "name": "stdout",
     "output_type": "stream",
     "text": [
      " * sqlite://\n",
      "Done.\n",
      "+----+-------+-----+------------+---------+------------+\n",
      "| ID |  NAME | AGE |  ADDRESS   |  SALARY |   PH_NO    |\n",
      "+----+-------+-----+------------+---------+------------+\n",
      "| 5  | David |  27 |   Texas    | 85000.0 | 9764405042 |\n",
      "| 10 |  Paul | 100 | California | 80000.0 |    None    |\n",
      "| 4  |  Mark |  25 | Rich-Mond  | 65000.0 |    None    |\n",
      "| 6  |  Kim  |  22 | South-Hall | 45000.0 |    None    |\n",
      "| 1  |  Paul |  32 | California | 20000.0 |    None    |\n",
      "| 3  | Teddy |  23 |   Norway   | 20000.0 |    None    |\n",
      "| 2  | Allen |  25 |   Texas    | 15000.0 |    None    |\n",
      "+----+-------+-----+------------+---------+------------+\n",
      " * sqlite://\n",
      "Done.\n"
     ]
    },
    {
     "data": {
      "text/html": [
       "<table>\n",
       "    <tr>\n",
       "        <th>MAX</th>\n",
       "    </tr>\n",
       "    <tr>\n",
       "        <td>85000.0</td>\n",
       "    </tr>\n",
       "</table>"
      ],
      "text/plain": [
       "[(85000.0,)]"
      ]
     },
     "execution_count": 23,
     "metadata": {},
     "output_type": "execute_result"
    }
   ],
   "source": [
    "#1st highest salry\n",
    "display=%sql select * from RECIPES2 order by salary desc\n",
    "print(display)\n",
    "%sql select max(salary)AS MAX from RECIPES2"
   ]
  },
  {
   "cell_type": "code",
   "execution_count": 26,
   "metadata": {},
   "outputs": [
    {
     "name": "stdout",
     "output_type": "stream",
     "text": [
      " * sqlite://\n",
      "Done.\n"
     ]
    },
    {
     "data": {
      "text/html": [
       "<table>\n",
       "    <tr>\n",
       "        <th>SALARY</th>\n",
       "    </tr>\n",
       "    <tr>\n",
       "        <td>80000.0</td>\n",
       "    </tr>\n",
       "</table>"
      ],
      "text/plain": [
       "[(80000.0,)]"
      ]
     },
     "execution_count": 26,
     "metadata": {},
     "output_type": "execute_result"
    }
   ],
   "source": [
    "#2nd highest salry\n",
    "%sql select salary from RECIPES2 where salary < ( select max(salary) from RECIPES2) order by (salary) desc LIMIT 1"
   ]
  },
  {
   "cell_type": "code",
   "execution_count": 30,
   "metadata": {},
   "outputs": [
    {
     "name": "stdout",
     "output_type": "stream",
     "text": [
      " * sqlite://\n",
      "Done.\n"
     ]
    },
    {
     "data": {
      "text/html": [
       "<table>\n",
       "    <tr>\n",
       "        <th>ADDRESS</th>\n",
       "    </tr>\n",
       "    <tr>\n",
       "        <td>California</td>\n",
       "    </tr>\n",
       "    <tr>\n",
       "        <td>Texas</td>\n",
       "    </tr>\n",
       "    <tr>\n",
       "        <td>Norway</td>\n",
       "    </tr>\n",
       "    <tr>\n",
       "        <td>Rich-Mond </td>\n",
       "    </tr>\n",
       "    <tr>\n",
       "        <td>South-Hall</td>\n",
       "    </tr>\n",
       "</table>"
      ],
      "text/plain": [
       "[('California',), ('Texas',), ('Norway',), ('Rich-Mond ',), ('South-Hall',)]"
      ]
     },
     "execution_count": 30,
     "metadata": {},
     "output_type": "execute_result"
    }
   ],
   "source": [
    "%sql SELECT DISTINCT ADDRESS FROM RECIPES2"
   ]
  },
  {
   "cell_type": "code",
   "execution_count": 31,
   "metadata": {},
   "outputs": [
    {
     "name": "stdout",
     "output_type": "stream",
     "text": [
      " * sqlite://\n",
      "Done.\n"
     ]
    },
    {
     "data": {
      "text/html": [
       "<table>\n",
       "    <tr>\n",
       "        <th>count(ADDRESS)</th>\n",
       "        <th>ADDRESS</th>\n",
       "    </tr>\n",
       "    <tr>\n",
       "        <td>2</td>\n",
       "        <td>California</td>\n",
       "    </tr>\n",
       "    <tr>\n",
       "        <td>2</td>\n",
       "        <td>Texas</td>\n",
       "    </tr>\n",
       "</table>"
      ],
      "text/plain": [
       "[(2, 'California'), (2, 'Texas')]"
      ]
     },
     "execution_count": 31,
     "metadata": {},
     "output_type": "execute_result"
    }
   ],
   "source": [
    "%sql SELECT count(ADDRESS),ADDRESS FROM RECIPES2 GROUP BY ADDRESS HAVING count(ADDRESS) > 1"
   ]
  },
  {
   "cell_type": "code",
   "execution_count": 32,
   "metadata": {},
   "outputs": [
    {
     "name": "stdout",
     "output_type": "stream",
     "text": [
      " * sqlite://\n",
      "Done.\n"
     ]
    },
    {
     "data": {
      "text/html": [
       "<table>\n",
       "    <tr>\n",
       "        <th>datetime(&#x27;now&#x27;)</th>\n",
       "    </tr>\n",
       "    <tr>\n",
       "        <td>2020-02-18 07:26:04</td>\n",
       "    </tr>\n",
       "</table>"
      ],
      "text/plain": [
       "[('2020-02-18 07:26:04',)]"
      ]
     },
     "execution_count": 32,
     "metadata": {},
     "output_type": "execute_result"
    }
   ],
   "source": [
    "%sql SELECT datetime('now');"
   ]
  },
  {
   "cell_type": "code",
   "execution_count": 33,
   "metadata": {},
   "outputs": [
    {
     "name": "stdout",
     "output_type": "stream",
     "text": [
      " * sqlite://\n",
      "Done.\n"
     ]
    },
    {
     "data": {
      "text/html": [
       "<table>\n",
       "    <tr>\n",
       "        <th>datetime(&#x27;now&#x27;,&#x27;localtime&#x27;)</th>\n",
       "    </tr>\n",
       "    <tr>\n",
       "        <td>2020-02-18 12:56:18</td>\n",
       "    </tr>\n",
       "</table>"
      ],
      "text/plain": [
       "[('2020-02-18 12:56:18',)]"
      ]
     },
     "execution_count": 33,
     "metadata": {},
     "output_type": "execute_result"
    }
   ],
   "source": [
    "%sql SELECT datetime('now','localtime');"
   ]
  },
  {
   "cell_type": "code",
   "execution_count": 34,
   "metadata": {},
   "outputs": [
    {
     "name": "stdout",
     "output_type": "stream",
     "text": [
      " * sqlite://\n",
      "Done.\n"
     ]
    },
    {
     "data": {
      "text/html": [
       "<table>\n",
       "    <tr>\n",
       "        <th>time(&#x27;now&#x27;)</th>\n",
       "    </tr>\n",
       "    <tr>\n",
       "        <td>07:26:31</td>\n",
       "    </tr>\n",
       "</table>"
      ],
      "text/plain": [
       "[('07:26:31',)]"
      ]
     },
     "execution_count": 34,
     "metadata": {},
     "output_type": "execute_result"
    }
   ],
   "source": [
    "%sql SELECT time('now')"
   ]
  },
  {
   "cell_type": "code",
   "execution_count": 35,
   "metadata": {},
   "outputs": [
    {
     "name": "stdout",
     "output_type": "stream",
     "text": [
      " * sqlite://\n",
      "Done.\n"
     ]
    },
    {
     "data": {
      "text/html": [
       "<table>\n",
       "    <tr>\n",
       "        <th>time(&quot;now&quot;,&quot;localtime&quot;)</th>\n",
       "    </tr>\n",
       "    <tr>\n",
       "        <td>12:56:39</td>\n",
       "    </tr>\n",
       "</table>"
      ],
      "text/plain": [
       "[('12:56:39',)]"
      ]
     },
     "execution_count": 35,
     "metadata": {},
     "output_type": "execute_result"
    }
   ],
   "source": [
    "%sql SELECT time(\"now\",\"localtime\");"
   ]
  },
  {
   "cell_type": "code",
   "execution_count": 36,
   "metadata": {},
   "outputs": [
    {
     "name": "stdout",
     "output_type": "stream",
     "text": [
      " * sqlite://\n",
      "Done.\n"
     ]
    },
    {
     "data": {
      "text/html": [
       "<table>\n",
       "    <tr>\n",
       "        <th>time(&#x27;10:20:30&#x27;,&#x27;+2 hours&#x27;)</th>\n",
       "    </tr>\n",
       "    <tr>\n",
       "        <td>12:20:30</td>\n",
       "    </tr>\n",
       "</table>"
      ],
      "text/plain": [
       "[('12:20:30',)]"
      ]
     },
     "execution_count": 36,
     "metadata": {},
     "output_type": "execute_result"
    }
   ],
   "source": [
    "%sql SELECT time('10:20:30','+2 hours');"
   ]
  },
  {
   "cell_type": "code",
   "execution_count": 37,
   "metadata": {},
   "outputs": [
    {
     "name": "stdout",
     "output_type": "stream",
     "text": [
      " * sqlite://\n",
      "Done.\n"
     ]
    },
    {
     "data": {
      "text/html": [
       "<table>\n",
       "    <tr>\n",
       "        <th>time(&#x27;10:20:30&#x27;,&#x27;+1 hours&#x27;,&#x27;+20 minutes&#x27;)</th>\n",
       "    </tr>\n",
       "    <tr>\n",
       "        <td>11:40:30</td>\n",
       "    </tr>\n",
       "</table>"
      ],
      "text/plain": [
       "[('11:40:30',)]"
      ]
     },
     "execution_count": 37,
     "metadata": {},
     "output_type": "execute_result"
    }
   ],
   "source": [
    "%sql SELECT  time('10:20:30','+1 hours','+20 minutes')"
   ]
  },
  {
   "cell_type": "code",
   "execution_count": 44,
   "metadata": {},
   "outputs": [
    {
     "name": "stdout",
     "output_type": "stream",
     "text": [
      " * sqlite://\n",
      "Done.\n"
     ]
    },
    {
     "data": {
      "text/html": [
       "<table>\n",
       "    <tr>\n",
       "        <th>DATE(&#x27;2018-11-01&#x27;,&#x27;+8 day&#x27;)</th>\n",
       "    </tr>\n",
       "    <tr>\n",
       "        <td>2018-11-09</td>\n",
       "    </tr>\n",
       "</table>"
      ],
      "text/plain": [
       "[('2018-11-09',)]"
      ]
     },
     "execution_count": 44,
     "metadata": {},
     "output_type": "execute_result"
    }
   ],
   "source": [
    "%sql SELECT DATE('2018-11-01','+8 day');"
   ]
  },
  {
   "cell_type": "code",
   "execution_count": 39,
   "metadata": {},
   "outputs": [
    {
     "name": "stdout",
     "output_type": "stream",
     "text": [
      " * sqlite://\n",
      "Done.\n"
     ]
    },
    {
     "data": {
      "text/html": [
       "<table>\n",
       "    <tr>\n",
       "        <th>DATE(&#x27;2018-11-01&#x27;,&#x27;-1 year&#x27;)</th>\n",
       "    </tr>\n",
       "    <tr>\n",
       "        <td>2017-11-01</td>\n",
       "    </tr>\n",
       "</table>"
      ],
      "text/plain": [
       "[('2017-11-01',)]"
      ]
     },
     "execution_count": 39,
     "metadata": {},
     "output_type": "execute_result"
    }
   ],
   "source": [
    "%sql SELECT DATE('2018-11-01','-1 year');"
   ]
  },
  {
   "cell_type": "code",
   "execution_count": 40,
   "metadata": {},
   "outputs": [
    {
     "name": "stdout",
     "output_type": "stream",
     "text": [
      " * sqlite://\n",
      "Done.\n"
     ]
    },
    {
     "data": {
      "text/html": [
       "<table>\n",
       "    <tr>\n",
       "        <th>DATE(&#x27;2018-11-01&#x27;,&#x27;-1 month&#x27;)</th>\n",
       "    </tr>\n",
       "    <tr>\n",
       "        <td>2018-10-01</td>\n",
       "    </tr>\n",
       "</table>"
      ],
      "text/plain": [
       "[('2018-10-01',)]"
      ]
     },
     "execution_count": 40,
     "metadata": {},
     "output_type": "execute_result"
    }
   ],
   "source": [
    "%sql SELECT DATE('2018-11-01','-1 month');"
   ]
  },
  {
   "cell_type": "code",
   "execution_count": 41,
   "metadata": {},
   "outputs": [
    {
     "name": "stdout",
     "output_type": "stream",
     "text": [
      " * sqlite://\n",
      "Done.\n"
     ]
    },
    {
     "data": {
      "text/html": [
       "<table>\n",
       "    <tr>\n",
       "        <th>DATE(&#x27;2018-11-01&#x27;,&#x27;+1 month&#x27;)</th>\n",
       "    </tr>\n",
       "    <tr>\n",
       "        <td>2018-12-01</td>\n",
       "    </tr>\n",
       "</table>"
      ],
      "text/plain": [
       "[('2018-12-01',)]"
      ]
     },
     "execution_count": 41,
     "metadata": {},
     "output_type": "execute_result"
    }
   ],
   "source": [
    "%sql SELECT DATE('2018-11-01','+1 month');"
   ]
  },
  {
   "cell_type": "code",
   "execution_count": 45,
   "metadata": {},
   "outputs": [
    {
     "name": "stdout",
     "output_type": "stream",
     "text": [
      "Done.\n"
     ]
    },
    {
     "data": {
      "text/plain": [
       "[]"
      ]
     },
     "execution_count": 45,
     "metadata": {},
     "output_type": "execute_result"
    }
   ],
   "source": [
    "%%sql sqlite://\n",
    "CREATE TABLE CUSTOMERS(ID INT PRIMARY KEY,\n",
    "NAME VARCHAR (20)  NOT NULL, AGE INT\tNOT NULL, ADDRESS CHAR (25) ,\n",
    "SALARY DECIMAL (18, 2)\n",
    ");"
   ]
  },
  {
   "cell_type": "code",
   "execution_count": 46,
   "metadata": {},
   "outputs": [
    {
     "name": "stdout",
     "output_type": "stream",
     "text": [
      " * sqlite://\n",
      "1 rows affected.\n",
      " * sqlite://\n",
      "1 rows affected.\n",
      " * sqlite://\n",
      "1 rows affected.\n",
      " * sqlite://\n",
      "1 rows affected.\n",
      " * sqlite://\n",
      "1 rows affected.\n",
      " * sqlite://\n",
      "1 rows affected.\n"
     ]
    },
    {
     "data": {
      "text/plain": [
       "[]"
      ]
     },
     "execution_count": 46,
     "metadata": {},
     "output_type": "execute_result"
    }
   ],
   "source": [
    "%sql INSERT INTO CUSTOMERS (ID,NAME,AGE,ADDRESS,SALARY)VALUES (1, 'Ramesh', 32, 'Ahmedabad', 2000.00 );\n",
    "\n",
    "%sql INSERT INTO CUSTOMERS (ID,NAME,AGE,ADDRESS,SALARY) VALUES (2, 'Khilan', 25, 'Delhi', 1500.00 );\n",
    "%sql INSERT INTO CUSTOMERS (ID,NAME,AGE,ADDRESS,SALARY) VALUES (3, 'kaushik', 23, 'Kota', 2000.00 );\n",
    "\n",
    "%sql INSERT INTO CUSTOMERS (ID,NAME,AGE,ADDRESS,SALARY) VALUES (4, 'jk', 23, 'pune', 4000.00 );\n",
    "%sql INSERT INTO CUSTOMERS (ID,NAME,AGE,ADDRESS,SALARY) VALUES (5, 'SID', 23, 'MUBAI', 5000.00 );\n",
    "%sql INSERT INTO CUSTOMERS (ID,NAME,AGE,ADDRESS,SALARY) VALUES (6, 'VIN', 23, 'NAGER', 6000.00 );"
   ]
  },
  {
   "cell_type": "code",
   "execution_count": 47,
   "metadata": {},
   "outputs": [
    {
     "name": "stdout",
     "output_type": "stream",
     "text": [
      " * sqlite://\n",
      "Done.\n"
     ]
    },
    {
     "data": {
      "text/html": [
       "<table>\n",
       "    <tr>\n",
       "        <th>ID</th>\n",
       "        <th>NAME</th>\n",
       "        <th>AGE</th>\n",
       "        <th>ADDRESS</th>\n",
       "        <th>SALARY</th>\n",
       "    </tr>\n",
       "    <tr>\n",
       "        <td>1</td>\n",
       "        <td>Ramesh</td>\n",
       "        <td>32</td>\n",
       "        <td>Ahmedabad</td>\n",
       "        <td>2000</td>\n",
       "    </tr>\n",
       "    <tr>\n",
       "        <td>2</td>\n",
       "        <td>Khilan</td>\n",
       "        <td>25</td>\n",
       "        <td>Delhi</td>\n",
       "        <td>1500</td>\n",
       "    </tr>\n",
       "    <tr>\n",
       "        <td>3</td>\n",
       "        <td>kaushik</td>\n",
       "        <td>23</td>\n",
       "        <td>Kota</td>\n",
       "        <td>2000</td>\n",
       "    </tr>\n",
       "    <tr>\n",
       "        <td>4</td>\n",
       "        <td>jk</td>\n",
       "        <td>23</td>\n",
       "        <td>pune</td>\n",
       "        <td>4000</td>\n",
       "    </tr>\n",
       "    <tr>\n",
       "        <td>5</td>\n",
       "        <td>SID</td>\n",
       "        <td>23</td>\n",
       "        <td>MUBAI</td>\n",
       "        <td>5000</td>\n",
       "    </tr>\n",
       "    <tr>\n",
       "        <td>6</td>\n",
       "        <td>VIN</td>\n",
       "        <td>23</td>\n",
       "        <td>NAGER</td>\n",
       "        <td>6000</td>\n",
       "    </tr>\n",
       "</table>"
      ],
      "text/plain": [
       "[(1, 'Ramesh', 32, 'Ahmedabad', 2000),\n",
       " (2, 'Khilan', 25, 'Delhi', 1500),\n",
       " (3, 'kaushik', 23, 'Kota', 2000),\n",
       " (4, 'jk', 23, 'pune', 4000),\n",
       " (5, 'SID', 23, 'MUBAI', 5000),\n",
       " (6, 'VIN', 23, 'NAGER', 6000)]"
      ]
     },
     "execution_count": 47,
     "metadata": {},
     "output_type": "execute_result"
    }
   ],
   "source": [
    "%sql select * from CUSTOMERS"
   ]
  },
  {
   "cell_type": "code",
   "execution_count": 48,
   "metadata": {},
   "outputs": [
    {
     "name": "stdout",
     "output_type": "stream",
     "text": [
      " * sqlite://\n",
      "Done.\n"
     ]
    },
    {
     "data": {
      "text/plain": [
       "[]"
      ]
     },
     "execution_count": 48,
     "metadata": {},
     "output_type": "execute_result"
    }
   ],
   "source": [
    "%sql CREATE TABLE ORDERS(OID INT PRIMARY KEY,CUSTOMER_ID int, AMOUNT int,FOREIGN KEY (CUSTOMER_ID  )REFERENCES CUSTOMERS (id))\n",
    " "
   ]
  },
  {
   "cell_type": "code",
   "execution_count": 49,
   "metadata": {},
   "outputs": [
    {
     "name": "stdout",
     "output_type": "stream",
     "text": [
      " * sqlite://\n",
      "1 rows affected.\n",
      " * sqlite://\n",
      "1 rows affected.\n",
      " * sqlite://\n",
      "1 rows affected.\n",
      " * sqlite://\n",
      "1 rows affected.\n"
     ]
    },
    {
     "data": {
      "text/plain": [
       "[]"
      ]
     },
     "execution_count": 49,
     "metadata": {},
     "output_type": "execute_result"
    }
   ],
   "source": [
    "%sql insert into orders values(100,3,1500)\n",
    "%sql insert into orders values(102,3,3000)\n",
    "%sql insert into orders values(101,2,1560)\n",
    "%sql insert into orders values(103,4,2060)"
   ]
  },
  {
   "cell_type": "code",
   "execution_count": 50,
   "metadata": {},
   "outputs": [
    {
     "name": "stdout",
     "output_type": "stream",
     "text": [
      " * sqlite://\n",
      "Done.\n",
      " * sqlite://\n",
      "Done.\n",
      "+----+---------+-----+-----------+--------+\n",
      "| ID |   NAME  | AGE |  ADDRESS  | SALARY |\n",
      "+----+---------+-----+-----------+--------+\n",
      "| 1  |  Ramesh |  32 | Ahmedabad |  2000  |\n",
      "| 2  |  Khilan |  25 |   Delhi   |  1500  |\n",
      "| 3  | kaushik |  23 |    Kota   |  2000  |\n",
      "| 4  |    jk   |  23 |    pune   |  4000  |\n",
      "| 5  |   SID   |  23 |   MUBAI   |  5000  |\n",
      "| 6  |   VIN   |  23 |   NAGER   |  6000  |\n",
      "+----+---------+-----+-----------+--------+\n",
      "+-----+-------------+--------+\n",
      "| OID | CUSTOMER_ID | AMOUNT |\n",
      "+-----+-------------+--------+\n",
      "| 100 |      3      |  1500  |\n",
      "| 102 |      3      |  3000  |\n",
      "| 101 |      2      |  1560  |\n",
      "| 103 |      4      |  2060  |\n",
      "+-----+-------------+--------+\n"
     ]
    }
   ],
   "source": [
    "ords=%sql select * from orders\n",
    "cust=%sql select * from CUSTOMERS\n",
    "print(cust)\n",
    "print(ords)"
   ]
  },
  {
   "cell_type": "code",
   "execution_count": 51,
   "metadata": {},
   "outputs": [
    {
     "name": "stdout",
     "output_type": "stream",
     "text": [
      " * sqlite://\n",
      "Done.\n",
      "+----+---------+-----+-----------+--------+\n",
      "| ID |   NAME  | AGE |  ADDRESS  | SALARY |\n",
      "+----+---------+-----+-----------+--------+\n",
      "| 1  |  Ramesh |  32 | Ahmedabad |  2000  |\n",
      "| 2  |  Khilan |  25 |   Delhi   |  1500  |\n",
      "| 3  | kaushik |  23 |    Kota   |  2000  |\n",
      "| 4  |    jk   |  23 |    pune   |  4000  |\n",
      "| 5  |   SID   |  23 |   MUBAI   |  5000  |\n",
      "| 6  |   VIN   |  23 |   NAGER   |  6000  |\n",
      "+----+---------+-----+-----------+--------+\n",
      "+-----+-------------+--------+\n",
      "| OID | CUSTOMER_ID | AMOUNT |\n",
      "+-----+-------------+--------+\n",
      "| 100 |      3      |  1500  |\n",
      "| 102 |      3      |  3000  |\n",
      "| 101 |      2      |  1560  |\n",
      "| 103 |      4      |  2060  |\n",
      "+-----+-------------+--------+\n",
      "+----+---------+--------+\n",
      "| ID |   NAME  | AMOUNT |\n",
      "+----+---------+--------+\n",
      "| 3  | kaushik |  1500  |\n",
      "| 3  | kaushik |  3000  |\n",
      "| 2  |  Khilan |  1560  |\n",
      "| 4  |    jk   |  2060  |\n",
      "+----+---------+--------+\n"
     ]
    }
   ],
   "source": [
    "inner=%sql SELECT ID, NAME, AMOUNT FROM CUSTOMERS INNER JOIN ORDERS ON CUSTOMERS.ID = ORDERS.CUSTOMER_ID;\n",
    "print(cust)\n",
    "print(ords)\n",
    "print(inner)"
   ]
  },
  {
   "cell_type": "code",
   "execution_count": 53,
   "metadata": {},
   "outputs": [
    {
     "name": "stdout",
     "output_type": "stream",
     "text": [
      " * sqlite://\n",
      "Done.\n",
      "+----+---------+-----+-----------+--------+\n",
      "| ID |   NAME  | AGE |  ADDRESS  | SALARY |\n",
      "+----+---------+-----+-----------+--------+\n",
      "| 1  |  Ramesh |  32 | Ahmedabad |  2000  |\n",
      "| 2  |  Khilan |  25 |   Delhi   |  1500  |\n",
      "| 3  | kaushik |  23 |    Kota   |  2000  |\n",
      "| 4  |    jk   |  23 |    pune   |  4000  |\n",
      "| 5  |   SID   |  23 |   MUBAI   |  5000  |\n",
      "| 6  |   VIN   |  23 |   NAGER   |  6000  |\n",
      "+----+---------+-----+-----------+--------+\n",
      "+-----+-------------+--------+\n",
      "| OID | CUSTOMER_ID | AMOUNT |\n",
      "+-----+-------------+--------+\n",
      "| 100 |      3      |  1500  |\n",
      "| 102 |      3      |  3000  |\n",
      "| 101 |      2      |  1560  |\n",
      "| 103 |      4      |  2060  |\n",
      "+-----+-------------+--------+\n",
      "+----+---------+-----+-----------+--------+--------+\n",
      "| ID |   NAME  | AGE |  ADDRESS  | AMOUNT | SALARY |\n",
      "+----+---------+-----+-----------+--------+--------+\n",
      "| 1  |  Ramesh |  32 | Ahmedabad |  None  |  2000  |\n",
      "| 2  |  Khilan |  25 |   Delhi   |  1560  |  1500  |\n",
      "| 3  | kaushik |  23 |    Kota   |  1500  |  2000  |\n",
      "| 3  | kaushik |  23 |    Kota   |  3000  |  2000  |\n",
      "| 4  |    jk   |  23 |    pune   |  2060  |  4000  |\n",
      "| 5  |   SID   |  23 |   MUBAI   |  None  |  5000  |\n",
      "| 6  |   VIN   |  23 |   NAGER   |  None  |  6000  |\n",
      "+----+---------+-----+-----------+--------+--------+\n"
     ]
    }
   ],
   "source": [
    "LEFT_JOIN= %sql SELECT ID, NAME,age,ADDRESS, AMOUNT,SALARY FROM CUSTOMERS LEFT JOIN ORDERS ON CUSTOMERS.ID = ORDERS.CUSTOMER_ID\n",
    "print(cust)\n",
    "print(ords)\n",
    "print(LEFT_JOIN)"
   ]
  },
  {
   "cell_type": "code",
   "execution_count": 54,
   "metadata": {},
   "outputs": [
    {
     "name": "stdout",
     "output_type": "stream",
     "text": [
      " * sqlite://\n",
      "Done.\n"
     ]
    },
    {
     "data": {
      "text/html": [
       "<table>\n",
       "    <tr>\n",
       "        <th>ID</th>\n",
       "        <th>NAME</th>\n",
       "        <th>AGE</th>\n",
       "        <th>ADDRESS</th>\n",
       "        <th>SALARY</th>\n",
       "        <th>ID_1</th>\n",
       "        <th>NAME_1</th>\n",
       "        <th>AGE_1</th>\n",
       "        <th>ADDRESS_1</th>\n",
       "        <th>SALARY_1</th>\n",
       "    </tr>\n",
       "    <tr>\n",
       "        <td>3</td>\n",
       "        <td>kaushik</td>\n",
       "        <td>23</td>\n",
       "        <td>Kota</td>\n",
       "        <td>2000</td>\n",
       "        <td>1</td>\n",
       "        <td>Ramesh</td>\n",
       "        <td>32</td>\n",
       "        <td>Ahmedabad</td>\n",
       "        <td>2000</td>\n",
       "    </tr>\n",
       "    <tr>\n",
       "        <td>3</td>\n",
       "        <td>kaushik</td>\n",
       "        <td>23</td>\n",
       "        <td>Kota</td>\n",
       "        <td>2000</td>\n",
       "        <td>3</td>\n",
       "        <td>kaushik</td>\n",
       "        <td>23</td>\n",
       "        <td>Kota</td>\n",
       "        <td>2000</td>\n",
       "    </tr>\n",
       "</table>"
      ],
      "text/plain": [
       "[(3, 'kaushik', 23, 'Kota', 2000, 1, 'Ramesh', 32, 'Ahmedabad', 2000),\n",
       " (3, 'kaushik', 23, 'Kota', 2000, 3, 'kaushik', 23, 'Kota', 2000)]"
      ]
     },
     "execution_count": 54,
     "metadata": {},
     "output_type": "execute_result"
    }
   ],
   "source": [
    "%sql SELECT * FROM CUSTOMERS a, CUSTOMERS b WHERE a.SALARY=b.SALARY and a.NAME='kaushik'"
   ]
  },
  {
   "cell_type": "code",
   "execution_count": 57,
   "metadata": {},
   "outputs": [
    {
     "name": "stdout",
     "output_type": "stream",
     "text": [
      " * sqlite://\n",
      "Done.\n"
     ]
    },
    {
     "data": {
      "text/html": [
       "<table>\n",
       "    <tr>\n",
       "        <th>NAME</th>\n",
       "    </tr>\n",
       "    <tr>\n",
       "        <td>Ramesh</td>\n",
       "    </tr>\n",
       "    <tr>\n",
       "        <td>kaushik</td>\n",
       "    </tr>\n",
       "</table>"
      ],
      "text/plain": [
       "[('Ramesh',), ('kaushik',)]"
      ]
     },
     "execution_count": 57,
     "metadata": {},
     "output_type": "execute_result"
    }
   ],
   "source": [
    "%sql SELECT b.NAME FROM CUSTOMERS a, CUSTOMERS b WHERE a.SALARY=b.SALARY and a.NAME='kaushik'"
   ]
  },
  {
   "cell_type": "code",
   "execution_count": 58,
   "metadata": {},
   "outputs": [
    {
     "name": "stdout",
     "output_type": "stream",
     "text": [
      " * sqlite://\n",
      "Done.\n"
     ]
    },
    {
     "data": {
      "text/html": [
       "<table>\n",
       "    <tr>\n",
       "        <th>ID</th>\n",
       "        <th>NAME</th>\n",
       "        <th>SALARY</th>\n",
       "    </tr>\n",
       "    <tr>\n",
       "        <td>1</td>\n",
       "        <td>jk</td>\n",
       "        <td>2000</td>\n",
       "    </tr>\n",
       "    <tr>\n",
       "        <td>1</td>\n",
       "        <td>SID</td>\n",
       "        <td>2000</td>\n",
       "    </tr>\n",
       "    <tr>\n",
       "        <td>1</td>\n",
       "        <td>VIN</td>\n",
       "        <td>2000</td>\n",
       "    </tr>\n",
       "    <tr>\n",
       "        <td>2</td>\n",
       "        <td>Ramesh</td>\n",
       "        <td>1500</td>\n",
       "    </tr>\n",
       "    <tr>\n",
       "        <td>2</td>\n",
       "        <td>kaushik</td>\n",
       "        <td>1500</td>\n",
       "    </tr>\n",
       "    <tr>\n",
       "        <td>2</td>\n",
       "        <td>jk</td>\n",
       "        <td>1500</td>\n",
       "    </tr>\n",
       "    <tr>\n",
       "        <td>2</td>\n",
       "        <td>SID</td>\n",
       "        <td>1500</td>\n",
       "    </tr>\n",
       "    <tr>\n",
       "        <td>2</td>\n",
       "        <td>VIN</td>\n",
       "        <td>1500</td>\n",
       "    </tr>\n",
       "    <tr>\n",
       "        <td>3</td>\n",
       "        <td>jk</td>\n",
       "        <td>2000</td>\n",
       "    </tr>\n",
       "    <tr>\n",
       "        <td>3</td>\n",
       "        <td>SID</td>\n",
       "        <td>2000</td>\n",
       "    </tr>\n",
       "    <tr>\n",
       "        <td>3</td>\n",
       "        <td>VIN</td>\n",
       "        <td>2000</td>\n",
       "    </tr>\n",
       "    <tr>\n",
       "        <td>4</td>\n",
       "        <td>SID</td>\n",
       "        <td>4000</td>\n",
       "    </tr>\n",
       "    <tr>\n",
       "        <td>4</td>\n",
       "        <td>VIN</td>\n",
       "        <td>4000</td>\n",
       "    </tr>\n",
       "    <tr>\n",
       "        <td>5</td>\n",
       "        <td>VIN</td>\n",
       "        <td>5000</td>\n",
       "    </tr>\n",
       "</table>"
      ],
      "text/plain": [
       "[(1, 'jk', 2000),\n",
       " (1, 'SID', 2000),\n",
       " (1, 'VIN', 2000),\n",
       " (2, 'Ramesh', 1500),\n",
       " (2, 'kaushik', 1500),\n",
       " (2, 'jk', 1500),\n",
       " (2, 'SID', 1500),\n",
       " (2, 'VIN', 1500),\n",
       " (3, 'jk', 2000),\n",
       " (3, 'SID', 2000),\n",
       " (3, 'VIN', 2000),\n",
       " (4, 'SID', 4000),\n",
       " (4, 'VIN', 4000),\n",
       " (5, 'VIN', 5000)]"
      ]
     },
     "execution_count": 58,
     "metadata": {},
     "output_type": "execute_result"
    }
   ],
   "source": [
    "%sql SELECT\ta.ID, b.NAME, a.SALARY FROM CUSTOMERS a, CUSTOMERS b WHERE a.SALARY < b.SALARY;"
   ]
  },
  {
   "cell_type": "code",
   "execution_count": 59,
   "metadata": {},
   "outputs": [
    {
     "name": "stdout",
     "output_type": "stream",
     "text": [
      " * sqlite://\n",
      "Done.\n",
      "+----+---------+-----+-----------+--------+\n",
      "| ID |   NAME  | AGE |  ADDRESS  | SALARY |\n",
      "+----+---------+-----+-----------+--------+\n",
      "| 1  |  Ramesh |  32 | Ahmedabad |  2000  |\n",
      "| 2  |  Khilan |  25 |   Delhi   |  1500  |\n",
      "| 3  | kaushik |  23 |    Kota   |  2000  |\n",
      "| 4  |    jk   |  23 |    pune   |  4000  |\n",
      "| 5  |   SID   |  23 |   MUBAI   |  5000  |\n",
      "| 6  |   VIN   |  23 |   NAGER   |  6000  |\n",
      "+----+---------+-----+-----------+--------+\n",
      "+-----+-------------+--------+\n",
      "| OID | CUSTOMER_ID | AMOUNT |\n",
      "+-----+-------------+--------+\n",
      "| 100 |      3      |  1500  |\n",
      "| 102 |      3      |  3000  |\n",
      "| 101 |      2      |  1560  |\n",
      "| 103 |      4      |  2060  |\n",
      "+-----+-------------+--------+\n",
      "+----+---------+-------------+--------+\n",
      "| ID |   NAME  | CUSTOMER_ID | AMOUNT |\n",
      "+----+---------+-------------+--------+\n",
      "| 1  |  Ramesh |      3      |  1500  |\n",
      "| 1  |  Ramesh |      3      |  3000  |\n",
      "| 1  |  Ramesh |      2      |  1560  |\n",
      "| 1  |  Ramesh |      4      |  2060  |\n",
      "| 2  |  Khilan |      3      |  1500  |\n",
      "| 2  |  Khilan |      3      |  3000  |\n",
      "| 2  |  Khilan |      2      |  1560  |\n",
      "| 2  |  Khilan |      4      |  2060  |\n",
      "| 3  | kaushik |      3      |  1500  |\n",
      "| 3  | kaushik |      3      |  3000  |\n",
      "| 3  | kaushik |      2      |  1560  |\n",
      "| 3  | kaushik |      4      |  2060  |\n",
      "| 4  |    jk   |      3      |  1500  |\n",
      "| 4  |    jk   |      3      |  3000  |\n",
      "| 4  |    jk   |      2      |  1560  |\n",
      "| 4  |    jk   |      4      |  2060  |\n",
      "| 5  |   SID   |      3      |  1500  |\n",
      "| 5  |   SID   |      3      |  3000  |\n",
      "| 5  |   SID   |      2      |  1560  |\n",
      "| 5  |   SID   |      4      |  2060  |\n",
      "| 6  |   VIN   |      3      |  1500  |\n",
      "| 6  |   VIN   |      3      |  3000  |\n",
      "| 6  |   VIN   |      2      |  1560  |\n",
      "| 6  |   VIN   |      4      |  2060  |\n",
      "+----+---------+-------------+--------+\n"
     ]
    }
   ],
   "source": [
    "CART_join=%sql SELECT ID, NAME,CUSTOMER_ID ,AMOUNT FROM CUSTOMERS, ORDERS;\n",
    "print(cust)\n",
    "print(ords)\n",
    "print(CART_join)"
   ]
  },
  {
   "cell_type": "code",
   "execution_count": 61,
   "metadata": {},
   "outputs": [
    {
     "name": "stdout",
     "output_type": "stream",
     "text": [
      " * sqlite://\n",
      "Done.\n"
     ]
    },
    {
     "data": {
      "text/html": [
       "<table>\n",
       "    <tr>\n",
       "        <th>ID</th>\n",
       "        <th>ADDRESS</th>\n",
       "        <th>AGE</th>\n",
       "    </tr>\n",
       "    <tr>\n",
       "        <td>3</td>\n",
       "        <td>Kota</td>\n",
       "        <td>23</td>\n",
       "    </tr>\n",
       "</table>"
      ],
      "text/plain": [
       "[(3, 'Kota', 23)]"
      ]
     },
     "execution_count": 61,
     "metadata": {},
     "output_type": "execute_result"
    }
   ],
   "source": [
    "%sql Select ID,ADDRESS,AGE from CUSTOMERS WHERE NAME IN (select NAMe from CUSTOMERS where id=3)"
   ]
  },
  {
   "cell_type": "code",
   "execution_count": 62,
   "metadata": {},
   "outputs": [
    {
     "name": "stdout",
     "output_type": "stream",
     "text": [
      " * sqlite://\n",
      "1 rows affected.\n"
     ]
    },
    {
     "data": {
      "text/plain": [
       "[]"
      ]
     },
     "execution_count": 62,
     "metadata": {},
     "output_type": "execute_result"
    }
   ],
   "source": [
    "%sql update CUSTOMERS set salary=salary+10000 WHERE ID\tIN (select CUSTOMER_ID FROM ORDERS WHERE CUSTOMERS.id=ORDERS.CUSTOMER_ID and AMOUNT= '1500')"
   ]
  },
  {
   "cell_type": "code",
   "execution_count": 63,
   "metadata": {},
   "outputs": [
    {
     "name": "stdout",
     "output_type": "stream",
     "text": [
      " * sqlite://\n",
      "Done.\n"
     ]
    },
    {
     "data": {
      "text/html": [
       "<table>\n",
       "    <tr>\n",
       "        <th>ID</th>\n",
       "        <th>NAME</th>\n",
       "        <th>AGE</th>\n",
       "        <th>ADDRESS</th>\n",
       "        <th>SALARY</th>\n",
       "    </tr>\n",
       "    <tr>\n",
       "        <td>1</td>\n",
       "        <td>Ramesh</td>\n",
       "        <td>32</td>\n",
       "        <td>Ahmedabad</td>\n",
       "        <td>2000</td>\n",
       "    </tr>\n",
       "    <tr>\n",
       "        <td>2</td>\n",
       "        <td>Khilan</td>\n",
       "        <td>25</td>\n",
       "        <td>Delhi</td>\n",
       "        <td>1500</td>\n",
       "    </tr>\n",
       "    <tr>\n",
       "        <td>3</td>\n",
       "        <td>kaushik</td>\n",
       "        <td>23</td>\n",
       "        <td>Kota</td>\n",
       "        <td>12000</td>\n",
       "    </tr>\n",
       "    <tr>\n",
       "        <td>4</td>\n",
       "        <td>jk</td>\n",
       "        <td>23</td>\n",
       "        <td>pune</td>\n",
       "        <td>4000</td>\n",
       "    </tr>\n",
       "    <tr>\n",
       "        <td>5</td>\n",
       "        <td>SID</td>\n",
       "        <td>23</td>\n",
       "        <td>MUBAI</td>\n",
       "        <td>5000</td>\n",
       "    </tr>\n",
       "    <tr>\n",
       "        <td>6</td>\n",
       "        <td>VIN</td>\n",
       "        <td>23</td>\n",
       "        <td>NAGER</td>\n",
       "        <td>6000</td>\n",
       "    </tr>\n",
       "</table>"
      ],
      "text/plain": [
       "[(1, 'Ramesh', 32, 'Ahmedabad', 2000),\n",
       " (2, 'Khilan', 25, 'Delhi', 1500),\n",
       " (3, 'kaushik', 23, 'Kota', 12000),\n",
       " (4, 'jk', 23, 'pune', 4000),\n",
       " (5, 'SID', 23, 'MUBAI', 5000),\n",
       " (6, 'VIN', 23, 'NAGER', 6000)]"
      ]
     },
     "execution_count": 63,
     "metadata": {},
     "output_type": "execute_result"
    }
   ],
   "source": [
    "%sql select * from customers"
   ]
  },
  {
   "cell_type": "code",
   "execution_count": null,
   "metadata": {},
   "outputs": [],
   "source": []
  }
 ],
 "metadata": {
  "kernelspec": {
   "display_name": "Python 3",
   "language": "python",
   "name": "python3"
  },
  "language_info": {
   "codemirror_mode": {
    "name": "ipython",
    "version": 3
   },
   "file_extension": ".py",
   "mimetype": "text/x-python",
   "name": "python",
   "nbconvert_exporter": "python",
   "pygments_lexer": "ipython3",
   "version": "3.7.4"
  }
 },
 "nbformat": 4,
 "nbformat_minor": 2
}
