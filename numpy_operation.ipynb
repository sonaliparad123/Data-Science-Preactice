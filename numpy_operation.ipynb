{
 "cells": [
  {
   "cell_type": "code",
   "execution_count": 12,
   "metadata": {},
   "outputs": [
    {
     "name": "stdout",
     "output_type": "stream",
     "text": [
      "[1. 2. 3.]\n",
      "float64\n",
      "<class 'numpy.ndarray'>\n",
      "[[1 2]\n",
      " [3 4]]\n",
      "int64\n",
      "4\n",
      "2\n",
      "[0.   0.25 0.5  0.75 1.   1.25 1.5  1.75 2.  ]\n"
     ]
    }
   ],
   "source": [
    "import numpy as np\n",
    "a=np.array([1,2,3],dtype='float64')\n",
    "print(a)\n",
    "print(a.dtype)\n",
    "print(type(a))\n",
    "b=np.array([[1.1,2],[3,4]],dtype='int64')\n",
    "print(b)\n",
    "print(b.dtype)\n",
    "print(b.size)\n",
    "print(b.ndim)#no. of dimenssion\n",
    "\n",
    "print(np.linspace(0,2,9))"
   ]
  },
  {
   "cell_type": "code",
   "execution_count": 13,
   "metadata": {},
   "outputs": [
    {
     "name": "stdout",
     "output_type": "stream",
     "text": [
      "[0. 0. 0. 0. 0.]\n",
      "[1. 1. 1. 1. 1.]\n",
      "[[1. 1.]\n",
      " [1. 1.]\n",
      " [1. 1.]]\n"
     ]
    }
   ],
   "source": [
    "#Initial place holders\n",
    "a=np.zeros(5)#default data type is float\n",
    "a1=np.ones(5)#to create array of ones\n",
    "a2=np.ones((3,2)) #create 2 dimensionl array\n",
    "print(a)\n",
    "print(a1)\n",
    "print(a2)\n"
   ]
  },
  {
   "cell_type": "code",
   "execution_count": 15,
   "metadata": {},
   "outputs": [
    {
     "data": {
      "text/plain": [
       "array([[8, 8, 8],\n",
       "       [8, 8, 8],\n",
       "       [8, 8, 8]])"
      ]
     },
     "execution_count": 15,
     "metadata": {},
     "output_type": "execute_result"
    }
   ],
   "source": [
    "a3=np.full((3,3),8)\n",
    "a3"
   ]
  },
  {
   "cell_type": "code",
   "execution_count": 17,
   "metadata": {},
   "outputs": [
    {
     "name": "stdout",
     "output_type": "stream",
     "text": [
      "[[1. 0. 0.]\n",
      " [0. 1. 0.]\n",
      " [0. 0. 1.]]\n"
     ]
    }
   ],
   "source": [
    "print(np.eye(3))#Identity matrix of 0,1"
   ]
  },
  {
   "cell_type": "code",
   "execution_count": 29,
   "metadata": {},
   "outputs": [
    {
     "data": {
      "text/plain": [
       "array([ 0,  2,  4,  6,  8, 10, 12, 14, 16, 18])"
      ]
     },
     "execution_count": 29,
     "metadata": {},
     "output_type": "execute_result"
    }
   ],
   "source": [
    "a=np.arange(0,24,1,dtype=int)#start stop step\n",
    "a\n",
    "a=np.arange(24,0,-1,dtype=int)#start stop step\n",
    "a\n",
    "a=np.arange(0,24,3,dtype=int)#start stop step\n",
    "a\n",
    "a=np.arange(-15,0,1.5,dtype=int)#start stop step\n",
    "a\n",
    "a=np.arange(0,24,1.5,dtype=float)#start stop step\n",
    "a\n",
    "a=np.arange(0,24,2.5,dtype=int)#start stop step\n",
    "a"
   ]
  },
  {
   "cell_type": "code",
   "execution_count": 21,
   "metadata": {},
   "outputs": [
    {
     "data": {
      "text/plain": [
       "array([[[ 0,  1,  2],\n",
       "        [ 3,  4,  5],\n",
       "        [ 6,  7,  8],\n",
       "        [ 9, 10, 11]],\n",
       "\n",
       "       [[12, 13, 14],\n",
       "        [15, 16, 17],\n",
       "        [18, 19, 20],\n",
       "        [21, 22, 23]]])"
      ]
     },
     "execution_count": 21,
     "metadata": {},
     "output_type": "execute_result"
    }
   ],
   "source": [
    "b=a.reshape(2,4,3)#make 2 matrix of 4 by 3\n",
    "b"
   ]
  },
  {
   "cell_type": "code",
   "execution_count": 22,
   "metadata": {},
   "outputs": [
    {
     "name": "stdout",
     "output_type": "stream",
     "text": [
      "[[5. 0. 0.]\n",
      " [0. 5. 0.]\n",
      " [0. 0. 5.]]\n"
     ]
    }
   ],
   "source": [
    "print(5*np.eye(3))\n"
   ]
  },
  {
   "cell_type": "code",
   "execution_count": 31,
   "metadata": {},
   "outputs": [
    {
     "name": "stdout",
     "output_type": "stream",
     "text": [
      "[[ 1  2  3 40]\n",
      " [ 5  6  7  8]\n",
      " [ 9 10 11 12]]\n",
      "40\n",
      "[ 9 10 11 40]\n",
      "[40  8 12]\n"
     ]
    }
   ],
   "source": [
    "#array aggregate functions\n",
    "import numpy as np\n",
    "b=np.array([[1,2,3,40],[5,6,7,8],[9,10,11,12]])\n",
    "print(b)\n",
    "print(b.max())\n",
    "print(b.max(axis=0))\n",
    "print(b.max(axis=1))"
   ]
  },
  {
   "cell_type": "code",
   "execution_count": 32,
   "metadata": {},
   "outputs": [
    {
     "name": "stdout",
     "output_type": "stream",
     "text": [
      "1\n"
     ]
    }
   ],
   "source": [
    "print(b.min())"
   ]
  },
  {
   "cell_type": "code",
   "execution_count": 33,
   "metadata": {},
   "outputs": [
    {
     "name": "stdout",
     "output_type": "stream",
     "text": [
      "[15 18 21 60]\n"
     ]
    }
   ],
   "source": [
    "print(b.sum(axis=0))#columnwise sum"
   ]
  },
  {
   "cell_type": "code",
   "execution_count": 34,
   "metadata": {},
   "outputs": [
    {
     "name": "stdout",
     "output_type": "stream",
     "text": [
      "[46 26 42]\n"
     ]
    }
   ],
   "source": [
    "print(b.sum(axis=1))# row wise sum"
   ]
  },
  {
   "cell_type": "code",
   "execution_count": 35,
   "metadata": {},
   "outputs": [
    {
     "name": "stdout",
     "output_type": "stream",
     "text": [
      "9.5\n"
     ]
    }
   ],
   "source": [
    "print(b.mean())"
   ]
  },
  {
   "cell_type": "code",
   "execution_count": 36,
   "metadata": {},
   "outputs": [
    {
     "name": "stdout",
     "output_type": "stream",
     "text": [
      "[ 5.  6.  7. 20.]\n"
     ]
    }
   ],
   "source": [
    "print(b.mean(axis=0))"
   ]
  },
  {
   "cell_type": "code",
   "execution_count": 37,
   "metadata": {},
   "outputs": [
    {
     "name": "stdout",
     "output_type": "stream",
     "text": [
      "114\n"
     ]
    }
   ],
   "source": [
    "print(b.sum())#summation of all elements"
   ]
  },
  {
   "cell_type": "code",
   "execution_count": 45,
   "metadata": {},
   "outputs": [
    {
     "name": "stdout",
     "output_type": "stream",
     "text": [
      "[6. 4. 9.]\n",
      "[-4.  0. -3.]\n",
      "[ 5.  4. 18.]\n",
      "[0.2 1.  0.5]\n",
      "[1. 4. 9.]\n",
      "[1. 4. 9.]\n",
      "[ 1.  8. 27.]\n",
      "[1.         1.41421356 1.73205081]\n"
     ]
    }
   ],
   "source": [
    "#array mathd\n",
    "a=np.array([1,2,3],float)\n",
    "b=np.array([5,2,6],float)\n",
    "print(a+b)\n",
    "print(a-b)\n",
    "print(a*b)\n",
    "print(a/b)\n",
    "print(a*a)\n",
    "print(a**2)\n",
    "print(a**3)\n",
    "print(a**0.5)#square root"
   ]
  },
  {
   "cell_type": "code",
   "execution_count": 51,
   "metadata": {},
   "outputs": [
    {
     "name": "stdout",
     "output_type": "stream",
     "text": [
      "[[ 1  2  3  4]\n",
      " [ 5  6  7  8]\n",
      " [ 9 10 11 12]]\n",
      "first row\n",
      "[1 2 3 4]\n",
      "[[1 2 3 4]\n",
      " [5 6 7 8]]\n",
      "[[ 5  6  7  8]\n",
      " [ 9 10 11 12]]\n",
      "[1 5]\n",
      "[2 3]\n",
      "[[ 2  3]\n",
      " [ 6  7]\n",
      " [10 11]]\n"
     ]
    }
   ],
   "source": [
    "#Array sub setting and slicing\n",
    "a=np.array([[1,2,3,4],[5,6,7,8],[9,10,11,12]])\n",
    "print(a)\n",
    "print(\"--------------------------------------------------------------\n",
    "print(\"first row\")\n",
    "print(a[0,]) #first row\n",
    "print(\"--------------------------------------------------------------\n",
    "print(a[0:2,])# first two rows all column\n",
    "print(\"--------------------------------------------------------------\n",
    "print(a[1:3,])#2nd and 3rd row all columns\n",
    "print(\"--------------------------------------------------------------\n",
    "\n",
    "print(a[0:2,0])#Row 1 and 2, column 1\n",
    "print(a[0,1:3])#first 2 rows and col 2 and 3\n",
    "print(a[:,1:3])#all rows and col 2&3"
   ]
  },
  {
   "cell_type": "code",
   "execution_count": null,
   "metadata": {},
   "outputs": [],
   "source": []
  }
 ],
 "metadata": {
  "kernelspec": {
   "display_name": "Python 3",
   "language": "python",
   "name": "python3"
  },
  "language_info": {
   "codemirror_mode": {
    "name": "ipython",
    "version": 3
   },
   "file_extension": ".py",
   "mimetype": "text/x-python",
   "name": "python",
   "nbconvert_exporter": "python",
   "pygments_lexer": "ipython3",
   "version": "3.7.4"
  }
 },
 "nbformat": 4,
 "nbformat_minor": 2
}
