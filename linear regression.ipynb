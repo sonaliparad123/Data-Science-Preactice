{
 "cells": [
  {
   "cell_type": "code",
   "execution_count": 1,
   "metadata": {},
   "outputs": [
    {
     "ename": "NameError",
     "evalue": "name 'pd' is not defined",
     "output_type": "error",
     "traceback": [
      "\u001b[1;31m---------------------------------------------------------------------------\u001b[0m",
      "\u001b[1;31mNameError\u001b[0m                                 Traceback (most recent call last)",
      "\u001b[1;32m<ipython-input-1-262c073b5756>\u001b[0m in \u001b[0;36m<module>\u001b[1;34m\u001b[0m\n\u001b[1;32m----> 1\u001b[1;33m \u001b[0md\u001b[0m \u001b[1;33m=\u001b[0m \u001b[0mpd\u001b[0m\u001b[1;33m.\u001b[0m\u001b[0mread_csv\u001b[0m\u001b[1;33m(\u001b[0m\u001b[1;34m'Burger.csv'\u001b[0m\u001b[1;33m)\u001b[0m\u001b[1;33m\u001b[0m\u001b[1;33m\u001b[0m\u001b[0m\n\u001b[0m\u001b[0;32m      2\u001b[0m \u001b[0myear\u001b[0m \u001b[1;33m=\u001b[0m \u001b[0md\u001b[0m\u001b[1;33m[\u001b[0m\u001b[1;34m'Promote'\u001b[0m\u001b[1;33m]\u001b[0m\u001b[1;33m\u001b[0m\u001b[1;33m\u001b[0m\u001b[0m\n\u001b[0;32m      3\u001b[0m \u001b[0msea_levels\u001b[0m \u001b[1;33m=\u001b[0m \u001b[0md\u001b[0m\u001b[1;33m[\u001b[0m\u001b[1;34m'Sales'\u001b[0m\u001b[1;33m]\u001b[0m\u001b[1;33m\u001b[0m\u001b[1;33m\u001b[0m\u001b[0m\n\u001b[0;32m      4\u001b[0m \u001b[0mplt\u001b[0m\u001b[1;33m.\u001b[0m\u001b[0mscatter\u001b[0m\u001b[1;33m(\u001b[0m\u001b[0myear\u001b[0m\u001b[1;33m,\u001b[0m \u001b[0msea_levels\u001b[0m\u001b[1;33m,\u001b[0m \u001b[0medgecolors\u001b[0m\u001b[1;33m=\u001b[0m\u001b[1;34m'r'\u001b[0m\u001b[1;33m)\u001b[0m\u001b[1;33m\u001b[0m\u001b[1;33m\u001b[0m\u001b[0m\n\u001b[0;32m      5\u001b[0m \u001b[0mplt\u001b[0m\u001b[1;33m.\u001b[0m\u001b[0mxlabel\u001b[0m\u001b[1;33m(\u001b[0m\u001b[1;34m'Promote'\u001b[0m\u001b[1;33m)\u001b[0m\u001b[1;33m\u001b[0m\u001b[1;33m\u001b[0m\u001b[0m\n",
      "\u001b[1;31mNameError\u001b[0m: name 'pd' is not defined"
     ]
    }
   ],
   "source": []
  },
  {
   "cell_type": "code",
   "execution_count": 11,
   "metadata": {},
   "outputs": [
    {
     "data": {
      "text/plain": [
       "<matplotlib.axes._subplots.AxesSubplot at 0x73c47b0>"
      ]
     },
     "execution_count": 11,
     "metadata": {},
     "output_type": "execute_result"
    },
    {
     "data": {
      "image/png": "[encoded data removed]",
      "text/plain": [
       "<Figure size 432x288 with 1 Axes>"
      ]
     },
     "metadata": {
      "needs_background": "light"
     },
     "output_type": "display_data"
    }
   ],
   "source": [
    "import pandas as pd\n",
    "import matplotlib.pyplot as plt\n",
    "\n",
    "df  = pd.read_csv(\"Burger.csv\")\n",
    "df\n",
    "df.plot(kind='scatter',x='Promote',y='Sales')"
   ]
  },
  {
   "cell_type": "code",
   "execution_count": null,
   "metadata": {},
   "outputs": [],
   "source": [
    "#linear regression for burger dataset\n",
    "import pandas as pd\n",
    "import numpy as np\n",
    "from sklearn import linear_model\n",
    "burger=pd.read_csv(\"Burger.csv\")\n",
    "x=pd.DataFrame(['Promote'])\n",
    "y=pd.DataFrame(['Sales'])\n",
    "lm=linear_model.LinearRegression()\n",
    "model=lm.fit(x,y)\n",
    "print('coefficeint:',lm.coef_)\n",
    "print('Intercept:',lm.intercept_)\n",
    "print('R squre:',lm.score_)"
   ]
  },
  {
   "cell_type": "code",
   "execution_count": 5,
   "metadata": {},
   "outputs": [
    {
     "ename": "ValueError",
     "evalue": "Input contains NaN, infinity or a value too large for dtype('float64').",
     "output_type": "error",
     "traceback": [
      "\u001b[1;31m---------------------------------------------------------------------------\u001b[0m",
      "\u001b[1;31mValueError\u001b[0m                                Traceback (most recent call last)",
      "\u001b[1;32m<ipython-input-5-84aa232d4004>\u001b[0m in \u001b[0;36m<module>\u001b[1;34m\u001b[0m\n\u001b[0;32m      7\u001b[0m \u001b[0my\u001b[0m\u001b[1;33m=\u001b[0m\u001b[0mpd\u001b[0m\u001b[1;33m.\u001b[0m\u001b[0mDataFrame\u001b[0m\u001b[1;33m(\u001b[0m\u001b[0mburger\u001b[0m\u001b[1;33m[\u001b[0m\u001b[1;34m'Sales'\u001b[0m\u001b[1;33m]\u001b[0m\u001b[1;33m)\u001b[0m\u001b[1;33m\u001b[0m\u001b[1;33m\u001b[0m\u001b[0m\n\u001b[0;32m      8\u001b[0m \u001b[0mlm\u001b[0m\u001b[1;33m=\u001b[0m\u001b[0mlinear_model\u001b[0m\u001b[1;33m.\u001b[0m\u001b[0mLinearRegression\u001b[0m\u001b[1;33m(\u001b[0m\u001b[1;33m)\u001b[0m\u001b[1;33m\u001b[0m\u001b[1;33m\u001b[0m\u001b[0m\n\u001b[1;32m----> 9\u001b[1;33m \u001b[0mmodel\u001b[0m\u001b[1;33m=\u001b[0m\u001b[0mlm\u001b[0m\u001b[1;33m.\u001b[0m\u001b[0mfit\u001b[0m\u001b[1;33m(\u001b[0m\u001b[0mX\u001b[0m\u001b[1;33m,\u001b[0m\u001b[0my\u001b[0m\u001b[1;33m)\u001b[0m\u001b[1;33m\u001b[0m\u001b[1;33m\u001b[0m\u001b[0m\n\u001b[0m\u001b[0;32m     10\u001b[0m \u001b[0mprint\u001b[0m\u001b[1;33m(\u001b[0m\u001b[1;34m'coefficeint:'\u001b[0m\u001b[1;33m,\u001b[0m\u001b[0mlm\u001b[0m\u001b[1;33m.\u001b[0m\u001b[0mcoef_\u001b[0m\u001b[1;33m)\u001b[0m\u001b[1;33m\u001b[0m\u001b[1;33m\u001b[0m\u001b[0m\n\u001b[0;32m     11\u001b[0m \u001b[0mprint\u001b[0m\u001b[1;33m(\u001b[0m\u001b[1;34m'Intercept:'\u001b[0m\u001b[1;33m,\u001b[0m\u001b[0mlm\u001b[0m\u001b[1;33m.\u001b[0m\u001b[0mintercept_\u001b[0m\u001b[1;33m)\u001b[0m\u001b[1;33m\u001b[0m\u001b[1;33m\u001b[0m\u001b[0m\n",
      "\u001b[1;32mC:\\ProgramData\\Anaconda3\\lib\\site-packages\\sklearn\\linear_model\\base.py\u001b[0m in \u001b[0;36mfit\u001b[1;34m(self, X, y, sample_weight)\u001b[0m\n\u001b[0;32m    461\u001b[0m         \u001b[0mn_jobs_\u001b[0m \u001b[1;33m=\u001b[0m \u001b[0mself\u001b[0m\u001b[1;33m.\u001b[0m\u001b[0mn_jobs\u001b[0m\u001b[1;33m\u001b[0m\u001b[1;33m\u001b[0m\u001b[0m\n\u001b[0;32m    462\u001b[0m         X, y = check_X_y(X, y, accept_sparse=['csr', 'csc', 'coo'],\n\u001b[1;32m--> 463\u001b[1;33m                          y_numeric=True, multi_output=True)\n\u001b[0m\u001b[0;32m    464\u001b[0m \u001b[1;33m\u001b[0m\u001b[0m\n\u001b[0;32m    465\u001b[0m         \u001b[1;32mif\u001b[0m \u001b[0msample_weight\u001b[0m \u001b[1;32mis\u001b[0m \u001b[1;32mnot\u001b[0m \u001b[1;32mNone\u001b[0m \u001b[1;32mand\u001b[0m \u001b[0mnp\u001b[0m\u001b[1;33m.\u001b[0m\u001b[0matleast_1d\u001b[0m\u001b[1;33m(\u001b[0m\u001b[0msample_weight\u001b[0m\u001b[1;33m)\u001b[0m\u001b[1;33m.\u001b[0m\u001b[0mndim\u001b[0m \u001b[1;33m>\u001b[0m \u001b[1;36m1\u001b[0m\u001b[1;33m:\u001b[0m\u001b[1;33m\u001b[0m\u001b[1;33m\u001b[0m\u001b[0m\n",
      "\u001b[1;32mC:\\ProgramData\\Anaconda3\\lib\\site-packages\\sklearn\\utils\\validation.py\u001b[0m in \u001b[0;36mcheck_X_y\u001b[1;34m(X, y, accept_sparse, accept_large_sparse, dtype, order, copy, force_all_finite, ensure_2d, allow_nd, multi_output, ensure_min_samples, ensure_min_features, y_numeric, warn_on_dtype, estimator)\u001b[0m\n\u001b[0;32m    717\u001b[0m                     \u001b[0mensure_min_features\u001b[0m\u001b[1;33m=\u001b[0m\u001b[0mensure_min_features\u001b[0m\u001b[1;33m,\u001b[0m\u001b[1;33m\u001b[0m\u001b[1;33m\u001b[0m\u001b[0m\n\u001b[0;32m    718\u001b[0m                     \u001b[0mwarn_on_dtype\u001b[0m\u001b[1;33m=\u001b[0m\u001b[0mwarn_on_dtype\u001b[0m\u001b[1;33m,\u001b[0m\u001b[1;33m\u001b[0m\u001b[1;33m\u001b[0m\u001b[0m\n\u001b[1;32m--> 719\u001b[1;33m                     estimator=estimator)\n\u001b[0m\u001b[0;32m    720\u001b[0m     \u001b[1;32mif\u001b[0m \u001b[0mmulti_output\u001b[0m\u001b[1;33m:\u001b[0m\u001b[1;33m\u001b[0m\u001b[1;33m\u001b[0m\u001b[0m\n\u001b[0;32m    721\u001b[0m         y = check_array(y, 'csr', force_all_finite=True, ensure_2d=False,\n",
      "\u001b[1;32mC:\\ProgramData\\Anaconda3\\lib\\site-packages\\sklearn\\utils\\validation.py\u001b[0m in \u001b[0;36mcheck_array\u001b[1;34m(array, accept_sparse, accept_large_sparse, dtype, order, copy, force_all_finite, ensure_2d, allow_nd, ensure_min_samples, ensure_min_features, warn_on_dtype, estimator)\u001b[0m\n\u001b[0;32m    540\u001b[0m         \u001b[1;32mif\u001b[0m \u001b[0mforce_all_finite\u001b[0m\u001b[1;33m:\u001b[0m\u001b[1;33m\u001b[0m\u001b[1;33m\u001b[0m\u001b[0m\n\u001b[0;32m    541\u001b[0m             _assert_all_finite(array,\n\u001b[1;32m--> 542\u001b[1;33m                                allow_nan=force_all_finite == 'allow-nan')\n\u001b[0m\u001b[0;32m    543\u001b[0m \u001b[1;33m\u001b[0m\u001b[0m\n\u001b[0;32m    544\u001b[0m     \u001b[1;32mif\u001b[0m \u001b[0mensure_min_samples\u001b[0m \u001b[1;33m>\u001b[0m \u001b[1;36m0\u001b[0m\u001b[1;33m:\u001b[0m\u001b[1;33m\u001b[0m\u001b[1;33m\u001b[0m\u001b[0m\n",
      "\u001b[1;32mC:\\ProgramData\\Anaconda3\\lib\\site-packages\\sklearn\\utils\\validation.py\u001b[0m in \u001b[0;36m_assert_all_finite\u001b[1;34m(X, allow_nan)\u001b[0m\n\u001b[0;32m     54\u001b[0m                 not allow_nan and not np.isfinite(X).all()):\n\u001b[0;32m     55\u001b[0m             \u001b[0mtype_err\u001b[0m \u001b[1;33m=\u001b[0m \u001b[1;34m'infinity'\u001b[0m \u001b[1;32mif\u001b[0m \u001b[0mallow_nan\u001b[0m \u001b[1;32melse\u001b[0m \u001b[1;34m'NaN, infinity'\u001b[0m\u001b[1;33m\u001b[0m\u001b[1;33m\u001b[0m\u001b[0m\n\u001b[1;32m---> 56\u001b[1;33m             \u001b[1;32mraise\u001b[0m \u001b[0mValueError\u001b[0m\u001b[1;33m(\u001b[0m\u001b[0mmsg_err\u001b[0m\u001b[1;33m.\u001b[0m\u001b[0mformat\u001b[0m\u001b[1;33m(\u001b[0m\u001b[0mtype_err\u001b[0m\u001b[1;33m,\u001b[0m \u001b[0mX\u001b[0m\u001b[1;33m.\u001b[0m\u001b[0mdtype\u001b[0m\u001b[1;33m)\u001b[0m\u001b[1;33m)\u001b[0m\u001b[1;33m\u001b[0m\u001b[1;33m\u001b[0m\u001b[0m\n\u001b[0m\u001b[0;32m     57\u001b[0m     \u001b[1;31m# for object dtype data, we only check for NaNs (GH-13254)\u001b[0m\u001b[1;33m\u001b[0m\u001b[1;33m\u001b[0m\u001b[1;33m\u001b[0m\u001b[0m\n\u001b[0;32m     58\u001b[0m     \u001b[1;32melif\u001b[0m \u001b[0mX\u001b[0m\u001b[1;33m.\u001b[0m\u001b[0mdtype\u001b[0m \u001b[1;33m==\u001b[0m \u001b[0mnp\u001b[0m\u001b[1;33m.\u001b[0m\u001b[0mdtype\u001b[0m\u001b[1;33m(\u001b[0m\u001b[1;34m'object'\u001b[0m\u001b[1;33m)\u001b[0m \u001b[1;32mand\u001b[0m \u001b[1;32mnot\u001b[0m \u001b[0mallow_nan\u001b[0m\u001b[1;33m:\u001b[0m\u001b[1;33m\u001b[0m\u001b[1;33m\u001b[0m\u001b[0m\n",
      "\u001b[1;31mValueError\u001b[0m: Input contains NaN, infinity or a value too large for dtype('float64')."
     ]
    }
   ],
   "source": [
    "#linear regression for burger dataset\n",
    "import pandas as pd\n",
    "import numpy as np\n",
    "from sklearn import linear_model\n",
    "burger=pd.read_csv(\"Burger.csv\")\n",
    "X=pd.DataFrame(burger['Promote'])\n",
    "y=pd.DataFrame(burger['Sales'])\n",
    "lm=linear_model.LinearRegression()\n",
    "model=lm.fit(X,y)\n",
    "print('coefficeint:',lm.coef_)\n",
    "print('Intercept:',lm.intercept_)\n",
    "print('R squre:',lm.score(X,y))"
   ]
  },
  {
   "cell_type": "code",
   "execution_count": 11,
   "metadata": {},
   "outputs": [
    {
     "name": "stdout",
     "output_type": "stream",
     "text": [
      "coefficeint: [[23.50640302]]\n",
      "Intercept: [5.48586536]\n",
      "R squre: 0.9888148131886373\n"
     ]
    },
    {
     "data": {
      "text/plain": [
       "array([[1321.84443457],\n",
       "       [ 146.52428349],\n",
       "       [ 593.1459409 ],\n",
       "       [1086.78040435],\n",
       "       [2121.0621373 ]])"
      ]
     },
     "execution_count": 11,
     "metadata": {},
     "output_type": "execute_result"
    }
   ],
   "source": [
    "#linear regression for burger dataset\n",
    "import pandas as pd\n",
    "import numpy as np\n",
    "from sklearn import linear_model\n",
    "burger=pd.read_csv(\"Burger.csv\")\n",
    "X=pd.DataFrame(burger['Promote'])\n",
    "y=pd.DataFrame(burger['Sales'])\n",
    "lm=linear_model.LinearRegression()\n",
    "model=lm.fit(X,y)\n",
    "print('coefficeint:',lm.coef_)\n",
    "print('Intercept:',lm.intercept_)\n",
    "print('R squre:',lm.score(X,y))\n",
    "test_data=[56,6,25,46,90]\n",
    "df_test=pd.DataFrame(test_data,columns=['Promote'])\n",
    "predict=lm.predict(df_test)\n",
    "predict"
   ]
  },
  {
   "cell_type": "code",
   "execution_count": 35,
   "metadata": {},
   "outputs": [
    {
     "name": "stdout",
     "output_type": "stream",
     "text": [
      "coefficeint: [[167.32668857  54.10529229]]\n",
      "Intercept: [-10084.21313095]\n",
      "R squre: 0.9967183769510444\n"
     ]
    },
    {
     "data": {
      "text/plain": [
       "array([[67958.0330921]])"
      ]
     },
     "execution_count": 35,
     "metadata": {},
     "output_type": "execute_result"
    }
   ],
   "source": [
    "\n",
    "#Multi linear regression for insurence dataset\n",
    "import pandas as pd\n",
    "import numpy as np\n",
    "from sklearn import linear_model\n",
    "insure=pd.read_csv(\"Insure_auto.csv\")\n",
    "X=pd.DataFrame(insure[['Home','Automobile']])\n",
    "y=pd.DataFrame(insure['Operating_Cost'])\n",
    "lm=linear_model.LinearRegression()\n",
    "model=lm.fit(X,y)\n",
    "print('coefficeint:',lm.coef_)\n",
    "print('Intercept:',lm.intercept_)\n",
    "print('R squre:',lm.score(X,y))\n",
    "#test_data=[56,6,25,46,90]\n",
    "#df_test=pd.DataFrame(test_data,columns=['Promote'])\n",
    "#predict=lm.predict(df_test)\n",
    "#predict\n",
    "home=[350]\n",
    "auto=[360]\n",
    "newdata=pd.DataFrame({\"Home\":home,\"Automobile\":auto})\n",
    "predict=lm.predict(newdata)\n",
    "predict"
   ]
  },
  {
   "cell_type": "code",
   "execution_count": 45,
   "metadata": {},
   "outputs": [
    {
     "name": "stdout",
     "output_type": "stream",
     "text": [
      "coefficeint: [[ 7.99268142 -0.01583683]]\n",
      "Intercept: [-21.23309336]\n",
      "R squre: 0.5605639377690896\n"
     ]
    }
   ],
   "source": [
    "#Multi linear regression for insurence dataset\n",
    "import pandas as pd\n",
    "import numpy as np\n",
    "from sklearn import linear_model\n",
    "insure=pd.read_csv(\"Boston.csv\")\n",
    "X=pd.DataFrame(insure[['rm','tax']])\n",
    "y=pd.DataFrame(insure['medv'])\n",
    "lm=linear_model.LinearRegression()\n",
    "model=lm.fit(X,y)\n",
    "print('coefficeint:',lm.coef_)\n",
    "print('Intercept:',lm.intercept_)\n",
    "print('R squre:',lm.score(X,y))\n",
    "#test_data=[56,6,25,46,90]\n",
    "#df_test=pd.DataFrame(test_data,columns=['Promote'])\n",
    "#predict=lm.predict(df_test)\n",
    "#predict\n"
   ]
  },
  {
   "cell_type": "code",
   "execution_count": 44,
   "metadata": {},
   "outputs": [
    {
     "name": "stdout",
     "output_type": "stream",
     "text": [
      "coefficeint: [[ 8.39106825 -0.26491325]]\n",
      "Intercept: [-29.24471945]\n",
      "R squre: 0.5419591738494084\n"
     ]
    }
   ],
   "source": [
    "import pandas as pd\n",
    "import numpy as np\n",
    "from sklearn import linear_model\n",
    "insure=pd.read_csv(\"Boston.csv\")\n",
    "X=pd.DataFrame(insure[['rm','crim']])\n",
    "y=pd.DataFrame(insure['medv'])\n",
    "lm=linear_model.LinearRegression()\n",
    "model=lm.fit(X,y)\n",
    "print('coefficeint:',lm.coef_)\n",
    "print('Intercept:',lm.intercept_)\n",
    "print('R squre:',lm.score(X,y))\n",
    "#test_data=[56,6,25,46,90]\n",
    "#df_test=pd.DataFrame(test_data,columns=['Promote'])\n",
    "#predict=lm.predict(df_test)\n",
    "#predict\n"
   ]
  },
  {
   "cell_type": "code",
   "execution_count": 46,
   "metadata": {},
   "outputs": [
    {
     "name": "stdout",
     "output_type": "stream",
     "text": [
      "coefficeint: [[ 7.71407021 -1.2671614 ]]\n",
      "Intercept: [-2.56116482]\n",
      "R squre: 0.5612534621272917\n"
     ]
    }
   ],
   "source": [
    "import pandas as pd\n",
    "import numpy as np\n",
    "from sklearn import linear_model\n",
    "insure=pd.read_csv(\"Boston.csv\")\n",
    "X=pd.DataFrame(insure[['rm','ptratio']])\n",
    "y=pd.DataFrame(insure['medv'])\n",
    "lm=linear_model.LinearRegression()\n",
    "model=lm.fit(X,y)\n",
    "print('coefficeint:',lm.coef_)\n",
    "print('Intercept:',lm.intercept_)\n",
    "print('R squre:',lm.score(X,y))\n",
    "#test_data=[56,6,25,46,90]\n",
    "#df_test=pd.DataFrame(test_data,columns=['Promote'])\n",
    "#predict=lm.predict(df_test)\n",
    "#predict\n"
   ]
  },
  {
   "cell_type": "code",
   "execution_count": 47,
   "metadata": {},
   "outputs": [
    {
     "name": "stdout",
     "output_type": "stream",
     "text": [
      "coefficeint: [[8.68555529 0.02503229]]\n",
      "Intercept: [-40.98110139]\n",
      "R squre: 0.5442563295774554\n"
     ]
    }
   ],
   "source": [
    "import pandas as pd\n",
    "import numpy as np\n",
    "from sklearn import linear_model\n",
    "insure=pd.read_csv(\"Boston.csv\")\n",
    "X=pd.DataFrame(insure[['rm','black']])\n",
    "y=pd.DataFrame(insure['medv'])\n",
    "lm=linear_model.LinearRegression()\n",
    "model=lm.fit(X,y)\n",
    "print('coefficeint:',lm.coef_)\n",
    "print('Intercept:',lm.intercept_)\n",
    "print('R squre:',lm.score(X,y))\n",
    "#test_data=[56,6,25,46,90]\n",
    "#df_test=pd.DataFrame(test_data,columns=['Promote'])\n",
    "#predict=lm.predict(df_test)\n",
    "#predict\n",
    "\n"
   ]
  },
  {
   "cell_type": "code",
   "execution_count": 5,
   "metadata": {},
   "outputs": [
    {
     "name": "stdout",
     "output_type": "stream",
     "text": [
      "       Unnamed: 0        crim          zn       indus        chas         nox  \\\n",
      "count  506.000000  506.000000  506.000000  506.000000  506.000000  506.000000   \n",
      "mean   253.500000    3.613524   11.363636   11.136779    0.069170    0.554695   \n",
      "std    146.213884    8.601545   23.322453    6.860353    0.253994    0.115878   \n",
      "min      1.000000    0.006320    0.000000    0.460000    0.000000    0.385000   \n",
      "25%    127.250000    0.082045    0.000000    5.190000    0.000000    0.449000   \n",
      "50%    253.500000    0.256510    0.000000    9.690000    0.000000    0.538000   \n",
      "75%    379.750000    3.677082   12.500000   18.100000    0.000000    0.624000   \n",
      "max    506.000000   88.976200  100.000000   27.740000    1.000000    0.871000   \n",
      "\n",
      "               rm         age         dis         rad         tax     ptratio  \\\n",
      "count  506.000000  506.000000  506.000000  506.000000  506.000000  506.000000   \n",
      "mean     6.284634   68.574901    3.795043    9.549407  408.237154   18.455534   \n",
      "std      0.702617   28.148861    2.105710    8.707259  168.537116    2.164946   \n",
      "min      3.561000    2.900000    1.129600    1.000000  187.000000   12.600000   \n",
      "25%      5.885500   45.025000    2.100175    4.000000  279.000000   17.400000   \n",
      "50%      6.208500   77.500000    3.207450    5.000000  330.000000   19.050000   \n",
      "75%      6.623500   94.075000    5.188425   24.000000  666.000000   20.200000   \n",
      "max      8.780000  100.000000   12.126500   24.000000  711.000000   22.000000   \n",
      "\n",
      "            black       lstat        medv  \n",
      "count  506.000000  506.000000  506.000000  \n",
      "mean   356.674032   12.653063   22.532806  \n",
      "std     91.294864    7.141062    9.197104  \n",
      "min      0.320000    1.730000    5.000000  \n",
      "25%    375.377500    6.950000   17.025000  \n",
      "50%    391.440000   11.360000   21.200000  \n",
      "75%    396.225000   16.955000   25.000000  \n",
      "max    396.900000   37.970000   50.000000  \n",
      "*******************************\n",
      "<bound method DataFrame.info of      Unnamed: 0     crim    zn  indus  chas    nox     rm   age     dis  rad  \\\n",
      "0             1  0.00632  18.0   2.31     0  0.538  6.575  65.2  4.0900    1   \n",
      "1             2  0.02731   0.0   7.07     0  0.469  6.421  78.9  4.9671    2   \n",
      "2             3  0.02729   0.0   7.07     0  0.469  7.185  61.1  4.9671    2   \n",
      "3             4  0.03237   0.0   2.18     0  0.458  6.998  45.8  6.0622    3   \n",
      "4             5  0.06905   0.0   2.18     0  0.458  7.147  54.2  6.0622    3   \n",
      "..          ...      ...   ...    ...   ...    ...    ...   ...     ...  ...   \n",
      "501         502  0.06263   0.0  11.93     0  0.573  6.593  69.1  2.4786    1   \n",
      "502         503  0.04527   0.0  11.93     0  0.573  6.120  76.7  2.2875    1   \n",
      "503         504  0.06076   0.0  11.93     0  0.573  6.976  91.0  2.1675    1   \n",
      "504         505  0.10959   0.0  11.93     0  0.573  6.794  89.3  2.3889    1   \n",
      "505         506  0.04741   0.0  11.93     0  0.573  6.030  80.8  2.5050    1   \n",
      "\n",
      "     tax  ptratio   black  lstat  medv  \n",
      "0    296     15.3  396.90   4.98  24.0  \n",
      "1    242     17.8  396.90   9.14  21.6  \n",
      "2    242     17.8  392.83   4.03  34.7  \n",
      "3    222     18.7  394.63   2.94  33.4  \n",
      "4    222     18.7  396.90   5.33  36.2  \n",
      "..   ...      ...     ...    ...   ...  \n",
      "501  273     21.0  391.99   9.67  22.4  \n",
      "502  273     21.0  396.90   9.08  20.6  \n",
      "503  273     21.0  396.90   5.64  23.9  \n",
      "504  273     21.0  393.45   6.48  22.0  \n",
      "505  273     21.0  396.90   7.88  11.9  \n",
      "\n",
      "[506 rows x 15 columns]>\n"
     ]
    }
   ],
   "source": [
    "#simple linear Regression\n",
    "import pandas as pd\n",
    "import numpy as np\n",
    "from  sklearn import datasets\n",
    "from sklearn import linear_model\n",
    "from sklearn.model_selection import train_test_split\n",
    "data=pd.read_csv(\"Boston.csv\")\n",
    "\n",
    "print(data.describe())\n",
    "print(\"*******************************\")\n",
    "print(data.info)\n",
    "print(\"***************\")"
   ]
  },
  {
   "cell_type": "code",
   "execution_count": 36,
   "metadata": {},
   "outputs": [
    {
     "name": "stdout",
     "output_type": "stream",
     "text": [
      "<bound method DataFrame.info of         rm\n",
      "0    6.575\n",
      "1    6.421\n",
      "2    7.185\n",
      "3    6.998\n",
      "4    7.147\n",
      "..     ...\n",
      "501  6.593\n",
      "502  6.120\n",
      "503  6.976\n",
      "504  6.794\n",
      "505  6.030\n",
      "\n",
      "[506 rows x 1 columns]>\n",
      "<bound method DataFrame.info of      medv\n",
      "0    24.0\n",
      "1    21.6\n",
      "2    34.7\n",
      "3    33.4\n",
      "4    36.2\n",
      "..    ...\n",
      "501  22.4\n",
      "502  20.6\n",
      "503  23.9\n",
      "504  22.0\n",
      "505  11.9\n",
      "\n",
      "[506 rows x 1 columns]>\n",
      "x shape\n",
      "(506, 1)\n",
      "partition\n",
      "(404, 1)\n",
      "(102, 1)\n",
      "(404, 1)\n",
      "(102, 1)\n",
      "coefficeint: [[9.37638431]]\n",
      "Intercept: [-36.47618963]\n",
      "R squre: 0.4970800097843844\n"
     ]
    }
   ],
   "source": [
    "#split the  data in 80/20 proportion\n",
    "import pandas as pd\n",
    "import numpy as np\n",
    "from  sklearn import datasets\n",
    "from sklearn import linear_model\n",
    "from sklearn.model_selection import train_test_split\n",
    "#data=pd.read_csv(\"Boston.csv\")\n",
    "#df=pd.DataFrame(data.data,columns=['medv'])\n",
    "\n",
    "x=pd.DataFrame(data[['rm']])\n",
    "y=pd.DataFrame(data[['medv']])\n",
    "print(x.info)\n",
    "print(y.info)\n",
    "x_train,x_test,y_train,y_test=train_test_split(x,y,test_size=0.2,random_state=0)#target 80-20\n",
    "print(\"x shape\")\n",
    "print(x.shape)\n",
    "print(\"partition\")\n",
    "print(x_train.shape)\n",
    "print(x_test.shape)\n",
    "print(y_train.shape)\n",
    "print(y_test.shape)\n",
    "\n",
    "#create model\n",
    "#lm=linear_model.Lasso\n",
    "lm=linear_model.LinearRegression()\n",
    "model=lm.fit(x_train,y_train)\n",
    "print('coefficeint:',lm.coef_)\n",
    "print('Intercept:',lm.intercept_)\n",
    "print('R squre:',lm.score(x_train,y_train))\n",
    "y_predict=lm.predict(x_test)\n"
   ]
  },
  {
   "cell_type": "markdown",
   "metadata": {},
   "source": [
    "coefficeint: [[9.37638431]]\n",
    "Intercept: [-36.47618963]\n",
    "R squre: 0.4970800097843844"
   ]
  },
  {
   "cell_type": "code",
   "execution_count": 29,
   "metadata": {},
   "outputs": [
    {
     "name": "stdout",
     "output_type": "stream",
     "text": [
      "Predict: [[22.90445223]\n",
      " [21.80741526]\n",
      " [23.2795076 ]\n",
      " [13.67809006]\n",
      " [21.95743741]\n",
      " [18.22563646]\n",
      " [18.89135974]\n",
      " [19.48207195]\n",
      " [10.15256956]\n",
      " [23.5795519 ]\n",
      " [19.37893173]\n",
      " [25.94240075]\n",
      " [22.9794633 ]\n",
      " [ 7.1427502 ]\n",
      " [36.67836079]\n",
      " [29.54293232]\n",
      " [22.05120126]\n",
      " [31.84952286]\n",
      " [24.90162209]\n",
      " [18.37565861]\n",
      " [23.77645597]\n",
      " [18.65695014]\n",
      " [20.97291706]\n",
      " [24.30153349]\n",
      " [16.80042604]\n",
      " [-0.25521702]\n",
      " [19.4539428 ]\n",
      " [17.05358842]\n",
      " [39.1818554 ]\n",
      " [20.64474361]\n",
      " [21.51674735]\n",
      " [20.54160338]\n",
      " [21.90117911]\n",
      " [20.67287276]\n",
      " [23.68269213]\n",
      " [17.93496854]\n",
      " [19.66022326]\n",
      " [18.61006821]\n",
      " [23.04509799]\n",
      " [21.30109051]\n",
      " [20.97291706]\n",
      " [17.77557001]\n",
      " [21.13231559]\n",
      " [14.40944804]\n",
      " [24.84536378]\n",
      " [23.72957405]\n",
      " [17.81307555]\n",
      " [20.99166983]\n",
      " [ 9.49622266]\n",
      " [26.59874765]\n",
      " [21.20732667]\n",
      " [16.68790943]\n",
      " [19.60396495]\n",
      " [40.96336842]\n",
      " [17.50365486]\n",
      " [18.74133759]\n",
      " [17.02545926]\n",
      " [18.82572505]\n",
      " [17.50365486]\n",
      " [19.40706088]\n",
      " [18.69445567]\n",
      " [20.84164768]\n",
      " [28.98972565]\n",
      " [24.95788039]\n",
      " [17.09109396]\n",
      " [24.99538593]\n",
      " [25.92364798]\n",
      " [23.31701314]\n",
      " [27.77079569]\n",
      " [18.76009036]\n",
      " [22.39812748]\n",
      " [22.46376217]\n",
      " [22.5012677 ]\n",
      " [27.97707614]\n",
      " [26.81440449]\n",
      " [10.40573194]\n",
      " [40.85085181]\n",
      " [22.83881754]\n",
      " [23.69206851]\n",
      " [17.85058108]\n",
      " [25.46420515]\n",
      " [24.03899473]\n",
      " [16.1065736 ]\n",
      " [41.02900311]\n",
      " [45.33276351]\n",
      " [22.70754816]\n",
      " [21.3104669 ]\n",
      " [18.25376561]\n",
      " [24.56407225]\n",
      " [20.26031185]\n",
      " [18.73196121]\n",
      " [25.67986199]\n",
      " [20.79476576]\n",
      " [27.94894699]\n",
      " [20.06340778]\n",
      " [20.79476576]\n",
      " [ 2.32328866]\n",
      " [23.37327145]\n",
      " [24.70471802]\n",
      " [17.35363272]\n",
      " [23.29826037]\n",
      " [24.22652242]]\n",
      "(102, 1)\n"
     ]
    }
   ],
   "source": [
    "print(\"Predict:\",y_predict)\n",
    "print(y_predict.shape)"
   ]
  },
  {
   "cell_type": "code",
   "execution_count": 31,
   "metadata": {},
   "outputs": [
    {
     "name": "stdout",
     "output_type": "stream",
     "text": [
      "Mean Absolute Error: 4.32474074001139\n",
      "Mean Square Error: 46.90735162739531\n",
      "Root Mean Square Error: 6.848894190115314\n"
     ]
    }
   ],
   "source": [
    "#Error estimation\n",
    "from sklearn import metrics\n",
    "print(\"Mean Absolute Error:\",metrics.mean_absolute_error(y_test,y_predict))\n",
    "print(\"Mean Square Error:\",metrics.mean_squared_error(y_test,y_predict))\n",
    "print(\"Root Mean Square Error:\",np.sqrt(metrics.mean_squared_error(y_test,y_predict)))"
   ]
  },
  {
   "cell_type": "markdown",
   "metadata": {},
   "source": [
    "Mean Absolute Error: 4.32474074001139\n",
    "Mean Square Error: 46.90735162739531\n",
    "Root Mean Square Error: 6.848894190115314"
   ]
  },
  {
   "cell_type": "code",
   "execution_count": 42,
   "metadata": {},
   "outputs": [
    {
     "name": "stdout",
     "output_type": "stream",
     "text": [
      "coefficeint: [[ 5.10906846 -0.65494879]]\n",
      "Intercept: [-1.26252868]\n",
      "R squre: 0.6618625964841894\n",
      "Mean Absolute Error: 4.142444656238561\n",
      "Mean Square Error: 37.38310563877995\n",
      "Root Mean Square Error: 6.114172522817781\n"
     ]
    }
   ],
   "source": [
    "#multiple Linear Regression\n",
    "x=pd.DataFrame(data[['rm','lstat']])\n",
    "y=pd.DataFrame(data[['medv']])\n",
    "\n",
    "#split 80-20 proportion\n",
    "x_train,x_test,y_train,y_test=train_test_split(x,y,test_size=0.2,random_state=0)#target 80-20\n",
    "\n",
    "#create model\n",
    "lm=linear_model.LinearRegression()\n",
    "model=lm.fit(x_train,y_train)\n",
    "print('coefficeint:',lm.coef_)\n",
    "print('Intercept:',lm.intercept_)\n",
    "print('R squre:',lm.score(x_train,y_train))\n",
    "y_predict=lm.predict(x_test)\n",
    "#print(\"Predict:\",y_predict)\n",
    "#print(y_predict.shape)\n",
    "#Error estimation\n",
    "from sklearn import metrics\n",
    "print(\"Mean Absolute Error:\",metrics.mean_absolute_error(y_test,y_predict))\n",
    "print(\"Mean Square Error:\",metrics.mean_squared_error(y_test,y_predict))\n",
    "print(\"Root Mean Square Error:\",np.sqrt(metrics.mean_squared_error(y_test,y_predict)))"
   ]
  },
  {
   "cell_type": "code",
   "execution_count": null,
   "metadata": {},
   "outputs": [],
   "source": []
  },
  {
   "cell_type": "code",
   "execution_count": null,
   "metadata": {},
   "outputs": [],
   "source": []
  },
  {
   "cell_type": "code",
   "execution_count": null,
   "metadata": {},
   "outputs": [],
   "source": []
  },
  {
   "cell_type": "code",
   "execution_count": null,
   "metadata": {},
   "outputs": [],
   "source": []
  }
 ],
 "metadata": {
  "kernelspec": {
   "display_name": "Python 3",
   "language": "python",
   "name": "python3"
  },
  "language_info": {
   "codemirror_mode": {
    "name": "ipython",
    "version": 3
   },
   "file_extension": ".py",
   "mimetype": "text/x-python",
   "name": "python",
   "nbconvert_exporter": "python",
   "pygments_lexer": "ipython3",
   "version": "3.7.4"
  }
 },
 "nbformat": 4,
 "nbformat_minor": 2
}
