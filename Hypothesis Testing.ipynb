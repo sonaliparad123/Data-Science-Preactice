{
 "cells": [
  {
   "cell_type": "code",
   "execution_count": 1,
   "metadata": {
    "scrolled": true
   },
   "outputs": [
    {
     "name": "stdout",
     "output_type": "stream",
     "text": [
      "    Sale Price\n",
      "0        12400\n",
      "1        10400\n",
      "2        12100\n",
      "3        10000\n",
      "4        11000\n",
      "5         8895\n",
      "6         7675\n",
      "7         9975\n",
      "8         6350\n",
      "9        10470\n",
      "10        9895\n",
      "11       11250\n",
      "12        8795\n",
      "13       12500\n",
      "14        9340\n",
      "15       10150\n",
      "16        9200\n",
      "17        9395\n",
      "18       11000\n",
      "19       10640\n",
      "20       10000\n",
      "21        7500\n",
      "22        8000\n",
      "23       10440\n",
      "24       10200\n",
      "25       10300\n",
      "26        9740\n",
      "27        9280\n",
      "28       10930\n",
      "29        8000\n",
      "30        9000\n",
      "31        7680\n",
      "32        9400\n",
      "33       10730\n",
      "34        7350\n",
      "35       12240\n",
      "36       11970\n",
      "37        8240\n",
      "38        9910\n",
      "39       10080\n",
      "40        9440\n",
      "41        8970\n",
      "42        9500\n",
      "43       10050\n",
      "44       10130\n",
      "45       11400\n",
      "46        8500\n",
      "47        7500\n",
      "48        9090\n",
      "49       10500\n"
     ]
    }
   ],
   "source": [
    "#hypothesis Testing: Population Mean\n",
    "#from scipy impoer stats\n",
    "import pandas as pd\n",
    "data=pd.read_csv('UsedCars.csv')\n",
    "print(data)\n",
    "\n",
    "\n",
    "#t,p=stats.tteset_lsamp(df,10192)\n"
   ]
  },
  {
   "cell_type": "markdown",
   "metadata": {},
   "source": [
    "         Sale Price\n",
    "count     50.000000\n",
    "mean    9750.000000\n",
    "std     1399.998907\n",
    "min     6350.000000\n",
    "25%     8977.500000\n",
    "50%     9942.500000\n",
    "75%    10492.500000\n",
    "max    12500.000000"
   ]
  },
  {
   "cell_type": "code",
   "execution_count": 8,
   "metadata": {},
   "outputs": [
    {
     "name": "stdout",
     "output_type": "stream",
     "text": [
      "<class 'pandas.core.frame.DataFrame'>\n",
      "RangeIndex: 50 entries, 0 to 49\n",
      "Data columns (total 1 columns):\n",
      "Sale Price    50 non-null int64\n",
      "dtypes: int64(1)\n",
      "memory usage: 464.0 bytes\n"
     ]
    },
    {
     "data": {
      "text/plain": [
       "9750.0"
      ]
     },
     "execution_count": 8,
     "metadata": {},
     "output_type": "execute_result"
    }
   ],
   "source": [
    "#EX: to test mean of one sample\n",
    "\n",
    "import numpy as np\n",
    "import pandas as pd\n",
    "data=pd.read_csv('UsedCars.csv')\n",
    "data.info()\n",
    "data['Sale Price'].mean()"
   ]
  },
  {
   "cell_type": "code",
   "execution_count": 6,
   "metadata": {},
   "outputs": [
    {
     "name": "stdout",
     "output_type": "stream",
     "text": [
      "value of t : [-2.23243887]\n",
      "value of p : [0.03018869]\n"
     ]
    }
   ],
   "source": [
    "#this two tail test\n",
    "#for one sided test take half p value\n",
    "\n",
    "from scipy import stats\n",
    "t,p=stats.ttest_1samp(data,10192)\n",
    "print('value of t :',t)\n",
    "print('value of p :',p)"
   ]
  },
  {
   "cell_type": "code",
   "execution_count": 20,
   "metadata": {},
   "outputs": [
    {
     "name": "stdout",
     "output_type": "stream",
     "text": [
      "               Company  Current  Previous\n",
      "0                 ADVO     0.38      0.26\n",
      "1           Alaska Air    -1.15     -1.66\n",
      "2                Amgen     0.66      0.53\n",
      "3                 AT&T     0.46      0.21\n",
      "4     Becton Dickinson     0.85      0.75\n",
      "5            Brunswick     0.90      0.59\n",
      "6             Conexant    -0.05     -0.26\n",
      "7            Dow Jones     0.49      0.43\n",
      "8           First Data     0.52      0.56\n",
      "9   Franklin Resources     1.21      0.92\n",
      "10              Gentex     0.19      0.18\n",
      "11           Honeywell     0.62      0.30\n",
      "12               Kirby     0.76      0.53\n",
      "13           LSI Logic     0.09     -0.51\n",
      "14     Lockheed Martin     1.29      0.83\n",
      "15           MarineMax     0.04      0.17\n",
      "16   Merchants Bncshrs     0.46      0.51\n",
      "17                 NCR     0.81      0.68\n",
      "18   Newell Rubbermaid     0.28      0.45\n",
      "19    Novellus Systems     0.17      0.27\n",
      "20         Pantry Inc.     1.45      0.59\n",
      "21            Qualcomm     0.36      0.30\n",
      "22       Suncor Energy     1.48      0.72\n",
      "23       United Parcel     0.95      0.76\n",
      "24    Washington Trust     0.45      0.40\n",
      "         Current   Previous\n",
      "count  25.000000  25.000000\n",
      "mean    0.546800   0.340400\n",
      "std     0.552394   0.526296\n",
      "min    -1.150000  -1.660000\n",
      "25%     0.280000   0.260000\n",
      "50%     0.490000   0.450000\n",
      "75%     0.850000   0.590000\n",
      "max     1.480000   0.920000\n",
      "<class 'pandas.core.frame.DataFrame'>\n",
      "RangeIndex: 25 entries, 0 to 24\n",
      "Data columns (total 3 columns):\n",
      "Company     25 non-null object\n",
      "Current     25 non-null float64\n",
      "Previous    25 non-null float64\n",
      "dtypes: float64(2), object(1)\n",
      "memory usage: 564.0+ bytes\n"
     ]
    }
   ],
   "source": [
    "#Ex. to test mean using Paired test\n",
    "\n",
    "import pandas as pd\n",
    "data=pd.read_csv('Earnings2005.csv')\n",
    "print(data)\n",
    "\n",
    "print(data.describe())\n",
    "\n",
    "data.info()"
   ]
  },
  {
   "cell_type": "code",
   "execution_count": 16,
   "metadata": {},
   "outputs": [
    {
     "name": "stdout",
     "output_type": "stream",
     "text": [
      "value of t : 3.889063637139147\n",
      "value of p : 0.0006970741390885658\n"
     ]
    }
   ],
   "source": [
    "from scipy import stats\n",
    "t,p=stats.ttest_rel(data.Current,data.Previous)\n",
    "print('value of t :',t)\n",
    "print('value of p :',p)"
   ]
  },
  {
   "cell_type": "code",
   "execution_count": 22,
   "metadata": {},
   "outputs": [
    {
     "name": "stdout",
     "output_type": "stream",
     "text": [
      "   Used_Coupon\n",
      "0           No\n",
      "1           No\n",
      "2           No\n",
      "3          Yes\n",
      "4           No\n",
      "..         ...\n",
      "95          No\n",
      "96          No\n",
      "97          No\n",
      "98          No\n",
      "99          No\n",
      "\n",
      "[100 rows x 1 columns]\n",
      "<class 'pandas.core.frame.DataFrame'>\n",
      "RangeIndex: 100 entries, 0 to 99\n",
      "Data columns (total 1 columns):\n",
      "Used_Coupon    100 non-null object\n",
      "dtypes: object(1)\n",
      "memory usage: 464.0+ bytes\n"
     ]
    }
   ],
   "source": [
    "import pandas as pd\n",
    "data=pd.read_csv('Eagle.csv')\n",
    "print(data)\n",
    "data.info()\n"
   ]
  },
  {
   "cell_type": "code",
   "execution_count": 6,
   "metadata": {},
   "outputs": [
    {
     "name": "stdout",
     "output_type": "stream",
     "text": [
      "   Used_Coupon\n",
      "0           No\n",
      "1           No\n",
      "2           No\n",
      "3          Yes\n",
      "4           No\n",
      "..         ...\n",
      "95          No\n",
      "96          No\n",
      "97          No\n",
      "98          No\n",
      "99          No\n",
      "\n",
      "[100 rows x 1 columns]\n"
     ]
    }
   ],
   "source": [
    "import pandas as pd\n",
    "data=pd.read_csv('Eagle.csv')\n",
    "print(data)\n"
   ]
  },
  {
   "cell_type": "code",
   "execution_count": null,
   "metadata": {},
   "outputs": [],
   "source": []
  },
  {
   "cell_type": "code",
   "execution_count": 37,
   "metadata": {},
   "outputs": [
    {
     "name": "stdout",
     "output_type": "stream",
     "text": [
      "upper tale P value: 0.1587\n"
     ]
    }
   ],
   "source": [
    "pbar=13/100 # sample proportion\n",
    "pzero=0.10 #hypothesised value\n",
    "n=100  #sample size\n",
    "z1=pbar-pzero\n",
    "z2=(pzero*(1-pzero)/n)**0.5\n",
    "z=z1/z2\n",
    "from scipy.stats import norm\n",
    "mu,sigma=0,1\n",
    "# the area on the left side of STD,NOR\n",
    "p=norm.cdf(z,mu,sigma)\n",
    "#Since it is upper  tale test\n",
    "print(\"upper tale P value: %2.4f\"%(1-p))\n"
   ]
  },
  {
   "cell_type": "code",
   "execution_count": 5,
   "metadata": {},
   "outputs": [
    {
     "name": "stdout",
     "output_type": "stream",
     "text": [
      "upper tail P value: 0.0912\n"
     ]
    }
   ],
   "source": [
    "pbar=14/100 # sample proportion\n",
    "pzero=0.10 #hypothesised value\n",
    "n=100  #sample size\n",
    "z1=pbar-pzero\n",
    "z2=(pzero*(1-pzero)/n)**0.5\n",
    "z=z1/z2\n",
    "from scipy.stats import norm\n",
    "mu,sigma=0,1\n",
    "# the area on the left side of STD,NOR\n",
    "p=norm.cdf(z,mu,sigma)\n",
    "#Since it is upper  tail test\n",
    "print(\"upper tail P value: %2.4f\"%(1-p))\n"
   ]
  },
  {
   "cell_type": "code",
   "execution_count": 7,
   "metadata": {},
   "outputs": [
    {
     "name": "stdout",
     "output_type": "stream",
     "text": [
      "     Load  NO_load\n",
      "0   15.51    13.24\n",
      "1   14.57    12.13\n",
      "2   17.73    12.17\n",
      "3   10.31    16.06\n",
      "4   16.23    17.61\n",
      "5   16.04    20.61\n",
      "6   18.77    13.38\n",
      "7   18.21    17.15\n",
      "8   17.27    10.38\n",
      "9   11.95    18.15\n",
      "10  13.81    15.82\n",
      "11  12.44    17.29\n",
      "12  15.39    16.42\n",
      "13  13.46    19.49\n",
      "14  23.66    11.06\n",
      "15  17.38    13.89\n",
      "16  22.45     8.43\n",
      "17  18.38    18.29\n",
      "18  18.06    17.80\n",
      "19  22.75    17.05\n",
      "20  20.35    12.80\n",
      "21  13.09    15.09\n",
      "22  18.16    19.70\n",
      "23  14.47    13.57\n",
      "24  15.78    18.58\n",
      "25   8.40    11.89\n",
      "26  16.52    19.00\n",
      "27  12.59    20.71\n",
      "28  18.24    13.56\n",
      "29  14.80    19.82\n"
     ]
    }
   ],
   "source": [
    "import pandas as pd\n",
    "data=pd.read_csv('Mutual_new.csv')\n",
    "#print(data)\n",
    " "
   ]
  },
  {
   "cell_type": "code",
   "execution_count": 10,
   "metadata": {},
   "outputs": [
    {
     "name": "stdout",
     "output_type": "stream",
     "text": [
      "Value of t : 0.590224624873644\n",
      "Value of p : 0.5573409879729341\n",
      "Mean of Load : 16.225666666666665\n",
      "Mean of No_load : 15.704666666666665\n"
     ]
    }
   ],
   "source": [
    "from scipy import stats\n",
    "#Two independent sample\n",
    "t,p=stats.ttest_ind(data.Load,data.NO_load,equal_var=False)\n",
    "print(\"Value of t :\",t)\n",
    "print(\"Value of p :\",p)\n",
    "print(\"Mean of Load :\",data[\"Load\"].mean())\n",
    "print(\"Mean of No_load :\",data[\"NO_load\"].mean())"
   ]
  },
  {
   "cell_type": "markdown",
   "metadata": {},
   "source": [
    "Value of t : 0.590224624873644\n",
    "Value of p : 0.5573409879729341\n",
    "Mean of Load : 16.225666666666665\n",
    "Mean of No_load : 15.704666666666665"
   ]
  },
  {
   "cell_type": "code",
   "execution_count": null,
   "metadata": {},
   "outputs": [],
   "source": []
  }
 ],
 "metadata": {
  "kernelspec": {
   "display_name": "Python 3",
   "language": "python",
   "name": "python3"
  },
  "language_info": {
   "codemirror_mode": {
    "name": "ipython",
    "version": 3
   },
   "file_extension": ".py",
   "mimetype": "text/x-python",
   "name": "python",
   "nbconvert_exporter": "python",
   "pygments_lexer": "ipython3",
   "version": "3.7.4"
  }
 },
 "nbformat": 4,
 "nbformat_minor": 2
}
