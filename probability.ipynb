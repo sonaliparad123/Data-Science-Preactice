{
 "cells": [
  {
   "cell_type": "code",
   "execution_count": null,
   "metadata": {},
   "outputs": [],
   "source": [
    "#how to calculate  "
   ]
  },
  {
   "cell_type": "code",
   "execution_count": 4,
   "metadata": {},
   "outputs": [
    {
     "name": "stdout",
     "output_type": "stream",
     "text": [
      "prob of exact FIVE car arriving :0.0378\n",
      "prob of  FIVE or Less arriving :0.0671\n",
      "prob of exact TEN car arriving :0.0378\n",
      "prob of  TEN or Less arriving :0.0671\n"
     ]
    }
   ],
   "source": [
    "#Poisson Distribution\n",
    "#on an average 10 cars arrive in 15b minutes\n",
    "#prob of that exactly 5 cars will arrives in 15 minutes\n",
    "\n",
    "from scipy.stats import poisson\n",
    "p0=poisson.pmf(5,10)\n",
    "print(\"prob of exact FIVE car arriving :%2.4f\"%(p0),)\n",
    "c0=poisson.cdf(5,10)\n",
    "print(\"prob of  FIVE or Less arriving :%2.4f\"%(c0),)\n",
    "\n",
    "#prob of that exactly 10 cars will arrives in 15 minutes\n",
    "\n",
    "p0=poisson.pmf(5,10)\n",
    "print(\"prob of exact TEN car arriving :%2.4f\"%(p0),)\n",
    "c0=poisson.cdf(5,10)\n",
    "print(\"prob of  TEN or Less arriving :%2.4f\"%(c0),)\n",
    "\n"
   ]
  },
  {
   "cell_type": "code",
   "execution_count": 26,
   "metadata": {},
   "outputs": [
    {
     "name": "stdout",
     "output_type": "stream",
     "text": [
      "prob of exactly 5 accident :0.0127\n",
      "prob of not more than 12 accident :0.5760\n",
      "prob of atleat 15 accident cdf:0.7720\n",
      "prob of atleat 15 accident :0.2280\n"
     ]
    },
    {
     "data": {
      "text/plain": [
       "0.6020234907796708"
      ]
     },
     "execution_count": 26,
     "metadata": {},
     "output_type": "execute_result"
    }
   ],
   "source": [
    "#probability of observing exactly 5 accident at this plant during the coming year\n",
    "p0=poisson.pmf(5,12)\n",
    "print(\"prob of exactly 5 accident :%2.4f\"%(p0),)\n",
    "\n",
    "#probabillity of observing not more than 12 accident at this plant the coming year\n",
    "p1=poisson.cdf(12,12)\n",
    "print(\"prob of not more than 12 accident :%2.4f\"%(p1),)\n",
    "\n",
    "#atleast 15 accident\n",
    "p2=poisson.cdf(14,12)\n",
    "p4=1-p2\n",
    "print(\"prob of atleat 15 accident cdf:%2.4f\"%(p2),)\n",
    "print(\"prob of atleat 15 accident :%2.4f\"%(p4),)\n",
    "\n",
    "\n",
    "#between 10 and 15\n",
    "sum1=0\n",
    "p=poisson.cdf(9,12)\n",
    "q=poisson.cdf(15,12)\n",
    "sum1=q-p\n",
    "sum1\n"
   ]
  },
  {
   "cell_type": "code",
   "execution_count": 34,
   "metadata": {},
   "outputs": [
    {
     "name": "stdout",
     "output_type": "stream",
     "text": [
      "Probability of female LESS than 58 inches: 0.0668\n",
      "57.99977758792886\n",
      "Probability of female LESS than 58 inches: 0.9332\n",
      "Probability of female LESS than 58 inches: 0.0668\n"
     ]
    }
   ],
   "source": [
    "#poisson excercise\n",
    "\n",
    "#height of American Female\n",
    "#mean 64 and std 4\n",
    "\n",
    "from scipy.stats import norm\n",
    "mu,sigma=64,4\n",
    "\n",
    "#prob of finding women less than 58 inches tall\n",
    "p58=norm.cdf(58,mu,sigma)\n",
    "print(\"Probability of female LESS than 58 inches: %2.4f\"%(p58),)\n",
    "\n",
    "\n",
    "#if u give percentage find out height\n",
    "print(\"Find out the height from given percentge:\")\n",
    "print(norm.ppf(0.0668,mu,sigma))\n",
    "\n",
    "\n",
    "#prob of what fraction of american male weight more than 225 pounds\n",
    "mu,sigma=180,30\n",
    "p22=norm.cdf(225,mu,sigma)\n",
    "print(\"Probability of female LESS than 58 inches: %2.4f\"%(p22),)\n",
    "p=1-p22\n",
    "print(\"Probability of female LESS than 58 inches: %2.4f\"%(p),)\n",
    "\n",
    "\n",
    "\n"
   ]
  },
  {
   "cell_type": "code",
   "execution_count": 4,
   "metadata": {},
   "outputs": [
    {
     "name": "stdout",
     "output_type": "stream",
     "text": [
      "Question 1:\n",
      "How many samosas must the resturent stock to the 98% sure of not running out on a given day?\n"
     ]
    },
    {
     "ename": "NameError",
     "evalue": "name 'norm' is not defined",
     "output_type": "error",
     "traceback": [
      "\u001b[1;31m---------------------------------------------------------------------------\u001b[0m",
      "\u001b[1;31mNameError\u001b[0m                                 Traceback (most recent call last)",
      "\u001b[1;32m<ipython-input-4-2cf9f4c8ef5e>\u001b[0m in \u001b[0;36m<module>\u001b[1;34m\u001b[0m\n\u001b[0;32m      1\u001b[0m \u001b[0mprint\u001b[0m\u001b[1;33m(\u001b[0m\u001b[1;34m\"Question 1:\"\u001b[0m\u001b[1;33m)\u001b[0m\u001b[1;33m\u001b[0m\u001b[1;33m\u001b[0m\u001b[0m\n\u001b[0;32m      2\u001b[0m \u001b[0mprint\u001b[0m\u001b[1;33m(\u001b[0m\u001b[1;34m\"How many samosas must the resturent stock to the 98% sure of not running out on a given day?\"\u001b[0m\u001b[1;33m)\u001b[0m\u001b[1;33m\u001b[0m\u001b[1;33m\u001b[0m\u001b[0m\n\u001b[1;32m----> 3\u001b[1;33m \u001b[0mprint\u001b[0m\u001b[1;33m(\u001b[0m\u001b[0mnorm\u001b[0m\u001b[1;33m.\u001b[0m\u001b[0mppf\u001b[0m\u001b[1;33m(\u001b[0m\u001b[1;36m0.98\u001b[0m\u001b[1;33m,\u001b[0m\u001b[1;36m313\u001b[0m\u001b[1;33m,\u001b[0m\u001b[1;36m57\u001b[0m\u001b[1;33m)\u001b[0m\u001b[1;33m)\u001b[0m\u001b[1;33m\u001b[0m\u001b[1;33m\u001b[0m\u001b[0m\n\u001b[0m\u001b[0;32m      4\u001b[0m \u001b[0mprint\u001b[0m\u001b[1;33m(\u001b[0m\u001b[1;34m\"***********************************************\"\u001b[0m\u001b[1;33m)\u001b[0m\u001b[1;33m\u001b[0m\u001b[1;33m\u001b[0m\u001b[0m\n\u001b[0;32m      5\u001b[0m \u001b[0mprint\u001b[0m\u001b[1;33m(\u001b[0m\u001b[1;34m\"Question 2:\"\u001b[0m\u001b[1;33m)\u001b[0m\u001b[1;33m\u001b[0m\u001b[1;33m\u001b[0m\u001b[0m\n",
      "\u001b[1;31mNameError\u001b[0m: name 'norm' is not defined"
     ]
    }
   ],
   "source": [
    "from scipy.stats import poisson\n",
    "print(\"Question 1:\")\n",
    "print(\"How many samosas must the resturent stock to the 98% sure of not running out on a given day?\")\n",
    "print(norm.ppf(0.98,313,57))\n",
    "print(\"***********************************************\")\n",
    "print(\"Question 2:\")\n",
    "print(\"How many samosas must the resturent stock to the 98% sure of not running out on a given day?\")\n",
    "print(norm.ppf(0.90,93,22))\n",
    "print(\"***********************************************\")\n",
    "print(\"What is the probability that it will run out of samosa or wada paavs?\")\n",
    "p11=norm.cdf(450,313,57)\n",
    "p33=norm.cdf(150,93,22)\n",
    "print(p11+p33)\n",
    "\n"
   ]
  },
  {
   "cell_type": "markdown",
   "metadata": {},
   "source": [
    "from scipy.stats import norm\n",
    "print(norm.ppf(0.975,0,1))"
   ]
  },
  {
   "cell_type": "code",
   "execution_count": 25,
   "metadata": {},
   "outputs": [
    {
     "name": "stdout",
     "output_type": "stream",
     "text": [
      "1.959963984540054\n",
      "1.6448536269514722\n",
      "1.2815515655446004\n",
      "1.0364333894937898\n"
     ]
    }
   ],
   "source": [
    "#Z value for standard normal distribution\n",
    "from scipy.stats import norm\n",
    "#95% confidence level\n",
    "print(norm.ppf(0.975,0,1)) \n",
    "#90% confidence level\n",
    "print(norm.ppf(0.95,0,1))\n",
    "#80% confidence level\n",
    "print(norm.ppf(0.90,0,1))\n",
    "print(norm.ppf(0.85,0,1))\n",
    "print(norm.ppf(0.975,0,1)) "
   ]
  },
  {
   "cell_type": "code",
   "execution_count": null,
   "metadata": {},
   "outputs": [],
   "source": []
  },
  {
   "cell_type": "code",
   "execution_count": null,
   "metadata": {},
   "outputs": [],
   "source": []
  },
  {
   "cell_type": "code",
   "execution_count": null,
   "metadata": {},
   "outputs": [],
   "source": []
  }
 ],
 "metadata": {
  "kernelspec": {
   "display_name": "Python 3",
   "language": "python",
   "name": "python3"
  },
  "language_info": {
   "codemirror_mode": {
    "name": "ipython",
    "version": 3
   },
   "file_extension": ".py",
   "mimetype": "text/x-python",
   "name": "python",
   "nbconvert_exporter": "python",
   "pygments_lexer": "ipython3",
   "version": "3.7.4"
  }
 },
 "nbformat": 4,
 "nbformat_minor": 2
}
