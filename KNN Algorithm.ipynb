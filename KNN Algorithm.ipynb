{
 "cells": [
  {
   "cell_type": "code",
   "execution_count": 4,
   "metadata": {},
   "outputs": [
    {
     "data": {
      "text/html": [
       "<div>\n",
       "<style scoped>\n",
       "    .dataframe tbody tr th:only-of-type {\n",
       "        vertical-align: middle;\n",
       "    }\n",
       "\n",
       "    .dataframe tbody tr th {\n",
       "        vertical-align: top;\n",
       "    }\n",
       "\n",
       "    .dataframe thead th {\n",
       "        text-align: right;\n",
       "    }\n",
       "</style>\n",
       "<table border=\"1\" class=\"dataframe\">\n",
       "  <thead>\n",
       "    <tr style=\"text-align: right;\">\n",
       "      <th></th>\n",
       "      <th>Income</th>\n",
       "      <th>Lot_Size</th>\n",
       "      <th>Response</th>\n",
       "      <th>Unnamed: 3</th>\n",
       "      <th>Ecludian Distance</th>\n",
       "    </tr>\n",
       "  </thead>\n",
       "  <tbody>\n",
       "    <tr>\n",
       "      <td>0</td>\n",
       "      <td>34</td>\n",
       "      <td>26</td>\n",
       "      <td>Not Bought</td>\n",
       "      <td>NaN</td>\n",
       "      <td>82.292162</td>\n",
       "    </tr>\n",
       "    <tr>\n",
       "      <td>1</td>\n",
       "      <td>34</td>\n",
       "      <td>40</td>\n",
       "      <td>Not Bought</td>\n",
       "      <td>NaN</td>\n",
       "      <td>69.971423</td>\n",
       "    </tr>\n",
       "    <tr>\n",
       "      <td>2</td>\n",
       "      <td>34</td>\n",
       "      <td>46</td>\n",
       "      <td>Not Bought</td>\n",
       "      <td>NaN</td>\n",
       "      <td>64.899923</td>\n",
       "    </tr>\n",
       "    <tr>\n",
       "      <td>3</td>\n",
       "      <td>34</td>\n",
       "      <td>48</td>\n",
       "      <td>Not Bought</td>\n",
       "      <td>NaN</td>\n",
       "      <td>63.245553</td>\n",
       "    </tr>\n",
       "    <tr>\n",
       "      <td>4</td>\n",
       "      <td>34</td>\n",
       "      <td>53</td>\n",
       "      <td>Not Bought</td>\n",
       "      <td>NaN</td>\n",
       "      <td>59.203040</td>\n",
       "    </tr>\n",
       "    <tr>\n",
       "      <td>...</td>\n",
       "      <td>...</td>\n",
       "      <td>...</td>\n",
       "      <td>...</td>\n",
       "      <td>...</td>\n",
       "      <td>...</td>\n",
       "    </tr>\n",
       "    <tr>\n",
       "      <td>175</td>\n",
       "      <td>86</td>\n",
       "      <td>121</td>\n",
       "      <td>Bought</td>\n",
       "      <td>NaN</td>\n",
       "      <td>26.400758</td>\n",
       "    </tr>\n",
       "    <tr>\n",
       "      <td>176</td>\n",
       "      <td>87</td>\n",
       "      <td>109</td>\n",
       "      <td>Bought</td>\n",
       "      <td>NaN</td>\n",
       "      <td>19.235384</td>\n",
       "    </tr>\n",
       "    <tr>\n",
       "      <td>177</td>\n",
       "      <td>88</td>\n",
       "      <td>119</td>\n",
       "      <td>Bought</td>\n",
       "      <td>NaN</td>\n",
       "      <td>26.172505</td>\n",
       "    </tr>\n",
       "    <tr>\n",
       "      <td>178</td>\n",
       "      <td>89</td>\n",
       "      <td>110</td>\n",
       "      <td>Bought</td>\n",
       "      <td>NaN</td>\n",
       "      <td>21.470911</td>\n",
       "    </tr>\n",
       "    <tr>\n",
       "      <td>179</td>\n",
       "      <td>89</td>\n",
       "      <td>124</td>\n",
       "      <td>Bought</td>\n",
       "      <td>NaN</td>\n",
       "      <td>30.610456</td>\n",
       "    </tr>\n",
       "  </tbody>\n",
       "</table>\n",
       "<p>180 rows × 5 columns</p>\n",
       "</div>"
      ],
      "text/plain": [
       "     Income  Lot_Size    Response  Unnamed: 3  Ecludian Distance\n",
       "0        34        26  Not Bought         NaN          82.292162\n",
       "1        34        40  Not Bought         NaN          69.971423\n",
       "2        34        46  Not Bought         NaN          64.899923\n",
       "3        34        48  Not Bought         NaN          63.245553\n",
       "4        34        53  Not Bought         NaN          59.203040\n",
       "..      ...       ...         ...         ...                ...\n",
       "175      86       121      Bought         NaN          26.400758\n",
       "176      87       109      Bought         NaN          19.235384\n",
       "177      88       119      Bought         NaN          26.172505\n",
       "178      89       110      Bought         NaN          21.470911\n",
       "179      89       124      Bought         NaN          30.610456\n",
       "\n",
       "[180 rows x 5 columns]"
      ]
     },
     "execution_count": 4,
     "metadata": {},
     "output_type": "execute_result"
    }
   ],
   "source": [
    "import seaborn as sns\n",
    "import matplotlib.pyplot as plt\n",
    "import pandas as pd\n",
    "df=pd.read_csv(\"RidingMowers.csv\")\n",
    "df"
   ]
  },
  {
   "cell_type": "code",
   "execution_count": 6,
   "metadata": {},
   "outputs": [
    {
     "data": {
      "text/plain": [
       "<matplotlib.axes._subplots.AxesSubplot at 0x5b45ab0>"
      ]
     },
     "execution_count": 6,
     "metadata": {},
     "output_type": "execute_result"
    },
    {
     "data": {
      "image/png": "[encoded data removed]",
      "text/plain": [
       "<Figure size 936x288 with 1 Axes>"
      ]
     },
     "metadata": {
      "needs_background": "light"
     },
     "output_type": "display_data"
    }
   ],
   "source": [
    "plt.figure(figsize=(13,4))\n",
    "sns.scatterplot(x='Income',y='Lot_Size',data=df,hue='Response')\n"
   ]
  },
  {
   "cell_type": "code",
   "execution_count": 34,
   "metadata": {},
   "outputs": [],
   "source": [
    "y=df['Response']\n",
    "X=df[['Income','Lot_Size']]"
   ]
  },
  {
   "cell_type": "code",
   "execution_count": 35,
   "metadata": {},
   "outputs": [],
   "source": [
    "from  sklearn import datasets\n",
    "from sklearn import linear_model\n",
    "from sklearn.model_selection import train_test_split\n",
    "x_train,x_test,y_train,y_test=train_test_split(X,y,test_size=0.3,random_state=0)#target 80-20"
   ]
  },
  {
   "cell_type": "code",
   "execution_count": 36,
   "metadata": {},
   "outputs": [],
   "source": [
    "#feature scaling \n",
    "from sklearn.preprocessing import StandardScaler\n",
    "scaler=StandardScaler()\n",
    "scaler.fit(x_train)\n",
    "x_train=scaler.transform(x_train)\n",
    "x_test=scaler.transform(x_test)"
   ]
  },
  {
   "cell_type": "code",
   "execution_count": 37,
   "metadata": {},
   "outputs": [
    {
     "name": "stdout",
     "output_type": "stream",
     "text": [
      "Test score:0.981481\n"
     ]
    }
   ],
   "source": [
    "#Create KNN classifier K=5 assumption\n",
    "import numpy as np\n",
    "from sklearn.neighbors import KNeighborsClassifier\n",
    "classifier=KNeighborsClassifier(n_neighbors=5)\n",
    "classifier.fit(x_train,y_train)\n",
    "y_pred=classifier.predict(x_test)\n",
    "print(\"Test score:{:.6f}\".format(np.mean(y_pred==y_test)))"
   ]
  },
  {
   "cell_type": "code",
   "execution_count": 38,
   "metadata": {},
   "outputs": [
    {
     "name": "stdout",
     "output_type": "stream",
     "text": [
      "[[24  1]\n",
      " [ 0 29]]\n"
     ]
    }
   ],
   "source": [
    "from sklearn.metrics import confusion_matrix\n",
    "confusion_matrix=confusion_matrix(y_test,y_pred)\n",
    "print(confusion_matrix)"
   ]
  },
  {
   "cell_type": "code",
   "execution_count": 39,
   "metadata": {},
   "outputs": [
    {
     "name": "stdout",
     "output_type": "stream",
     "text": [
      "0.9722222222222222\n"
     ]
    }
   ],
   "source": [
    "a=18+1+0+17\n",
    "b=(18+17)\n",
    "print(b/a)"
   ]
  },
  {
   "cell_type": "code",
   "execution_count": 40,
   "metadata": {},
   "outputs": [],
   "source": [
    "error=[]\n",
    "#calculating error for k values between 1 and 40\n",
    "for i in range(1,40):\n",
    "    knn=KNeighborsClassifier(n_neighbors=i)\n",
    "    knn.fit(x_train,y_train)\n",
    "    pred_i=knn.predict(x_test)\n",
    "    error.append(np.mean(pred_i != y_test))"
   ]
  },
  {
   "cell_type": "code",
   "execution_count": 41,
   "metadata": {},
   "outputs": [
    {
     "data": {
      "text/plain": [
       "[0.09259259259259259,\n",
       " 0.09259259259259259,\n",
       " 0.037037037037037035,\n",
       " 0.018518518518518517,\n",
       " 0.018518518518518517,\n",
       " 0.018518518518518517,\n",
       " 0.018518518518518517,\n",
       " 0.018518518518518517,\n",
       " 0.018518518518518517,\n",
       " 0.018518518518518517,\n",
       " 0.037037037037037035,\n",
       " 0.018518518518518517,\n",
       " 0.018518518518518517,\n",
       " 0.018518518518518517,\n",
       " 0.018518518518518517,\n",
       " 0.018518518518518517,\n",
       " 0.018518518518518517,\n",
       " 0.018518518518518517,\n",
       " 0.018518518518518517,\n",
       " 0.018518518518518517,\n",
       " 0.018518518518518517,\n",
       " 0.018518518518518517,\n",
       " 0.018518518518518517,\n",
       " 0.018518518518518517,\n",
       " 0.018518518518518517,\n",
       " 0.018518518518518517,\n",
       " 0.018518518518518517,\n",
       " 0.018518518518518517,\n",
       " 0.018518518518518517,\n",
       " 0.018518518518518517,\n",
       " 0.018518518518518517,\n",
       " 0.018518518518518517,\n",
       " 0.018518518518518517,\n",
       " 0.018518518518518517,\n",
       " 0.018518518518518517,\n",
       " 0.018518518518518517,\n",
       " 0.018518518518518517,\n",
       " 0.018518518518518517,\n",
       " 0.037037037037037035]"
      ]
     },
     "execution_count": 41,
     "metadata": {},
     "output_type": "execute_result"
    }
   ],
   "source": [
    "error"
   ]
  },
  {
   "cell_type": "code",
   "execution_count": 42,
   "metadata": {
    "scrolled": true
   },
   "outputs": [
    {
     "data": {
      "text/plain": [
       "Text(0, 0.5, 'Mean Error')"
      ]
     },
     "execution_count": 42,
     "metadata": {},
     "output_type": "execute_result"
    },
    {
     "data": {
      "image/png": "[encoded data removed]",
      "text/plain": [
       "<Figure size 864x432 with 1 Axes>"
      ]
     },
     "metadata": {
      "needs_background": "light"
     },
     "output_type": "display_data"
    }
   ],
   "source": [
    "#The next step is to plot the error vallues against k values\n",
    "plt.figure(figsize=(12,6))\n",
    "plt.plot(range(1,40),error,color='red',linestyle='dashed',marker='o',markerfacecolor='blue',markersize=10)\n",
    "plt.title(\"Error Rate K Value\")\n",
    "plt.xlabel(\"K value\")\n",
    "plt.ylabel('Mean Error')"
   ]
  },
  {
   "cell_type": "code",
   "execution_count": null,
   "metadata": {},
   "outputs": [],
   "source": []
  }
 ],
 "metadata": {
  "kernelspec": {
   "display_name": "Python 3",
   "language": "python",
   "name": "python3"
  },
  "language_info": {
   "codemirror_mode": {
    "name": "ipython",
    "version": 3
   },
   "file_extension": ".py",
   "mimetype": "text/x-python",
   "name": "python",
   "nbconvert_exporter": "python",
   "pygments_lexer": "ipython3",
   "version": "3.7.4"
  }
 },
 "nbformat": 4,
 "nbformat_minor": 2
}
