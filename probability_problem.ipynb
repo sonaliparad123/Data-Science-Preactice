{
 "cells": [
  {
   "cell_type": "code",
   "execution_count": 10,
   "metadata": {},
   "outputs": [
    {
     "name": "stdout",
     "output_type": "stream",
     "text": [
      "Question 1:\n",
      "How many samosas must the resturent stock to the 98% sure of not running out on a given day?\n",
      "430.0636879060139\n",
      "***********************************************\n",
      "Question 2:\n",
      "How many samosas must the resturent stock to the 98% sure of not running out on a given day?\n",
      "121.1941344419812\n",
      "***********************************************\n",
      "What is the probability that it will run out of samosa or wada paavs?\n",
      "0.012866567392664452\n"
     ]
    }
   ],
   "source": [
    "from scipy.stats import norm\n",
    "print(\"Question 1:\")\n",
    "print(\"How many samosas must the resturent stock to the 98% sure of not running out on a given day?\")\n",
    "print(norm.ppf(0.98,313,57))\n",
    "print(\"***********************************************\")\n",
    "print(\"Question 2:\")\n",
    "print(\"How many samosas must the resturent stock to the 98% sure of not running out on a given day?\")\n",
    "print(norm.ppf(0.90,93,22))\n",
    "print(\"***********************************************\")\n",
    "print(\"What is the probability that it will run out of samosa or wada paavs?\")\n",
    "p11=norm.cdf(450,313,57)\n",
    "p33=norm.cdf(150,93,22)\n",
    "ans=1-(p11*p33)\n",
    "print(float(ans))\n",
    "\n"
   ]
  },
  {
   "cell_type": "code",
   "execution_count": null,
   "metadata": {},
   "outputs": [],
   "source": []
  }
 ],
 "metadata": {
  "kernelspec": {
   "display_name": "Python 3",
   "language": "python",
   "name": "python3"
  },
  "language_info": {
   "codemirror_mode": {
    "name": "ipython",
    "version": 3
   },
   "file_extension": ".py",
   "mimetype": "text/x-python",
   "name": "python",
   "nbconvert_exporter": "python",
   "pygments_lexer": "ipython3",
   "version": "3.7.4"
  }
 },
 "nbformat": 4,
 "nbformat_minor": 2
}
