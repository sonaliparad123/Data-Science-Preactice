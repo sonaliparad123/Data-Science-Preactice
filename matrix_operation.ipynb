{
 "cells": [
  {
   "cell_type": "code",
   "execution_count": 2,
   "metadata": {},
   "outputs": [
    {
     "name": "stdout",
     "output_type": "stream",
     "text": [
      "[[4 8]\n",
      " [0 2]\n",
      " [1 6]]\n",
      "[[5 2]\n",
      " [9 4]]\n",
      "[[92 40]\n",
      " [18  8]\n",
      " [59 26]]\n"
     ]
    },
    {
     "ename": "ValueError",
     "evalue": "shapes (2,2) and (3,2) not aligned: 2 (dim 1) != 3 (dim 0)",
     "output_type": "error",
     "traceback": [
      "\u001b[1;31m---------------------------------------------------------------------------\u001b[0m",
      "\u001b[1;31mValueError\u001b[0m                                Traceback (most recent call last)",
      "\u001b[1;32m<ipython-input-2-53002c6b7e21>\u001b[0m in \u001b[0;36m<module>\u001b[1;34m\u001b[0m\n\u001b[0;32m      7\u001b[0m \u001b[0mprint\u001b[0m\u001b[1;33m(\u001b[0m\u001b[0mb\u001b[0m\u001b[1;33m)\u001b[0m\u001b[1;33m\u001b[0m\u001b[1;33m\u001b[0m\u001b[0m\n\u001b[0;32m      8\u001b[0m \u001b[0mprint\u001b[0m\u001b[1;33m(\u001b[0m\u001b[0ma\u001b[0m\u001b[1;33m.\u001b[0m\u001b[0mdot\u001b[0m\u001b[1;33m(\u001b[0m\u001b[0mb\u001b[0m\u001b[1;33m)\u001b[0m\u001b[1;33m)\u001b[0m\u001b[1;33m\u001b[0m\u001b[1;33m\u001b[0m\u001b[0m\n\u001b[1;32m----> 9\u001b[1;33m \u001b[0mprint\u001b[0m\u001b[1;33m(\u001b[0m\u001b[0mb\u001b[0m\u001b[1;33m.\u001b[0m\u001b[0mdot\u001b[0m\u001b[1;33m(\u001b[0m\u001b[0ma\u001b[0m\u001b[1;33m)\u001b[0m\u001b[1;33m)\u001b[0m\u001b[1;33m\u001b[0m\u001b[1;33m\u001b[0m\u001b[0m\n\u001b[0m",
      "\u001b[1;31mValueError\u001b[0m: shapes (2,2) and (3,2) not aligned: 2 (dim 1) != 3 (dim 0)"
     ]
    }
   ],
   "source": [
    "import numpy as np\n",
    "a=np.array([4,8,0,2,1,6])\n",
    "b=np.array([5,2,9,4])\n",
    "a=a.reshape(3,2)\n",
    "b=b.reshape(2,2)\n",
    "print(a)\n",
    "print(b)\n",
    "print(a.dot(b))\n",
    "#print(b.dot(a))"
   ]
  },
  {
   "cell_type": "code",
   "execution_count": 5,
   "metadata": {},
   "outputs": [
    {
     "name": "stdout",
     "output_type": "stream",
     "text": [
      "Matrix A\n",
      "[[2 5 1]\n",
      " [7 3 6]]\n",
      "Matrix B\n",
      "[[1 8]\n",
      " [9 4]\n",
      " [3 5]]\n",
      "Multiplication: A*B\n",
      "[[50 41]\n",
      " [52 98]]\n",
      "Multiplication: B*A\n",
      "[[58 29 49]\n",
      " [46 57 33]\n",
      " [41 30 33]]\n"
     ]
    }
   ],
   "source": [
    "import numpy as np\n",
    "a=np.array([2,5,1,7,3,6])\n",
    "b=np.array([1,8,9,4,3,5])\n",
    "a=a.reshape(2,3)\n",
    "b=b.reshape(3,2)\n",
    "print(\"Matrix A\")\n",
    "print(a)\n",
    "print(\"Matrix B\")\n",
    "print(b)\n",
    "print(\"Multiplication: A*B\")\n",
    "print(a.dot(b))\n",
    "print(\"Multiplication: B*A\")\n",
    "print(b.dot(a))\n"
   ]
  },
  {
   "cell_type": "code",
   "execution_count": 1,
   "metadata": {},
   "outputs": [
    {
     "name": "stdout",
     "output_type": "stream",
     "text": [
      "[[1 2]\n",
      " [3 4]]\n",
      "[[  0.66  -5.  ]\n",
      " [  0.2  100.  ]]\n",
      "[[  1.66  -3.  ]\n",
      " [  3.2  104.  ]]\n",
      "[[  0.34   7.  ]\n",
      " [  2.8  -96.  ]]\n",
      "[[ 5 10]\n",
      " [15 20]]\n"
     ]
    }
   ],
   "source": [
    "import numpy as np\n",
    "import pandas as pd\n",
    "a=np.array([1,2,3,4])\n",
    "b=np.array([0.66,-5,0.2,100])\n",
    "a=a.reshape(2,2)\n",
    "b=b.reshape(2,2)\n",
    "print(a)\n",
    "print(b)\n",
    "print(a+b)\n",
    "print(a-b)\n",
    "print(5*a)"
   ]
  },
  {
   "cell_type": "code",
   "execution_count": 3,
   "metadata": {},
   "outputs": [
    {
     "name": "stdout",
     "output_type": "stream",
     "text": [
      "[[1. 2.]\n",
      " [3. 4.]]\n",
      "[[-2.   1. ]\n",
      " [ 1.5 -0.5]]\n"
     ]
    }
   ],
   "source": [
    "#Inverse of a matrix\n",
    "from numpy.linalg import inv\n",
    "a=np.array([[1.,2.],[3.,4.]])\n",
    "print(a)\n",
    "ainv=inv(np.matrix(a))\n",
    "print(ainv)"
   ]
  },
  {
   "cell_type": "code",
   "execution_count": 4,
   "metadata": {},
   "outputs": [
    {
     "name": "stdout",
     "output_type": "stream",
     "text": [
      "[[1.00000000e+00 1.11022302e-16]\n",
      " [0.00000000e+00 1.00000000e+00]]\n"
     ]
    }
   ],
   "source": [
    "print(a.dot(ainv))"
   ]
  },
  {
   "cell_type": "markdown",
   "metadata": {},
   "source": [
    "#Inverse of a matrix\n",
    "from numpy.linalg import inv\n",
    "a=np.array([[1,2],[3,4]])\n",
    "print(a)\n",
    "ainv=inv(np.matrix(a))\n",
    "print(ainv)"
   ]
  },
  {
   "cell_type": "markdown",
   "metadata": {},
   "source": [
    "print(a.dot(ainv))"
   ]
  },
  {
   "cell_type": "code",
   "execution_count": 8,
   "metadata": {},
   "outputs": [
    {
     "name": "stdout",
     "output_type": "stream",
     "text": [
      "[[ -2.   8.  -5.]\n",
      " [  3. -11.   7.]\n",
      " [  9. -34.  21.]]\n"
     ]
    },
    {
     "data": {
      "text/plain": [
       "matrix([[ 3.,  1., -2.]])"
      ]
     },
     "execution_count": 8,
     "metadata": {},
     "output_type": "execute_result"
    }
   ],
   "source": [
    "#Solving a set of simultaneous equation\n",
    "#7x+2y+z=21\n",
    "#3y-z=5\n",
    "#-3x+4y-2z=-1\n",
    "import numpy as np\n",
    "a=np.array([7,2,1,0,3,-1,-3,4,-2])\n",
    "b=np.array([21,5,-1])\n",
    "a=a.reshape(3,3)\n",
    "#AX=B\n",
    "#X=A inverse * B\n",
    "ainv=inv(np.matrix(a))\n",
    "print(ainv)\n",
    "x=ainv.dot(b)\n",
    "x\n"
   ]
  },
  {
   "cell_type": "code",
   "execution_count": 9,
   "metadata": {},
   "outputs": [
    {
     "name": "stdout",
     "output_type": "stream",
     "text": [
      "[[-3.  2.  3.]\n",
      " [ 0.  1.  2.]\n",
      " [-4.  3.  5.]]\n"
     ]
    },
    {
     "data": {
      "text/plain": [
       "matrix([[2., 3., 4.]])"
      ]
     },
     "execution_count": 9,
     "metadata": {},
     "output_type": "execute_result"
    }
   ],
   "source": [
    "import numpy as np\n",
    "a=np.array([1,1,-1,8,3,-6,-4,-1,3])\n",
    "b=np.array([1,1,1])\n",
    "a=a.reshape(3,3)\n",
    "#AX=B\n",
    "#X=A inverse * B\n",
    "ainv=inv(np.matrix(a))\n",
    "print(ainv)\n",
    "x=ainv.dot(b)\n",
    "x\n"
   ]
  },
  {
   "cell_type": "code",
   "execution_count": 11,
   "metadata": {},
   "outputs": [
    {
     "name": "stdout",
     "output_type": "stream",
     "text": [
      "[[ 1  1 -1]\n",
      " [ 1 -2  3]\n",
      " [ 2  3  1]]\n",
      "[[ 0.84615385  0.30769231 -0.07692308]\n",
      " [-0.38461538 -0.23076923  0.30769231]\n",
      " [-0.53846154  0.07692308  0.23076923]]\n"
     ]
    },
    {
     "data": {
      "text/plain": [
       "matrix([[ 1.,  2., -1.]])"
      ]
     },
     "execution_count": 11,
     "metadata": {},
     "output_type": "execute_result"
    }
   ],
   "source": [
    "import numpy as np\n",
    "a=np.array([1,1,-1,1,-2,3,2,3,1])\n",
    "b=np.array([4,-6,7])\n",
    "a=a.reshape(3,3)\n",
    "print(a)\n",
    "#AX=B\n",
    "#X=A inverse * B\n",
    "ainv=inv(np.matrix(a))\n",
    "print(ainv)\n",
    "x=ainv.dot(b)\n",
    "x\n"
   ]
  },
  {
   "cell_type": "code",
   "execution_count": null,
   "metadata": {},
   "outputs": [],
   "source": []
  }
 ],
 "metadata": {
  "kernelspec": {
   "display_name": "Python 3",
   "language": "python",
   "name": "python3"
  },
  "language_info": {
   "codemirror_mode": {
    "name": "ipython",
    "version": 3
   },
   "file_extension": ".py",
   "mimetype": "text/x-python",
   "name": "python",
   "nbconvert_exporter": "python",
   "pygments_lexer": "ipython3",
   "version": "3.7.4"
  }
 },
 "nbformat": 4,
 "nbformat_minor": 2
}
