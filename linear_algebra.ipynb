{
 "cells": [
  {
   "cell_type": "code",
   "execution_count": 2,
   "metadata": {},
   "outputs": [
    {
     "data": {
      "text/plain": [
       "array([[2250, 2316, 2382],\n",
       "       [2556, 2631, 2706],\n",
       "       [2862, 2946, 3030]])"
      ]
     },
     "execution_count": 2,
     "metadata": {},
     "output_type": "execute_result"
    }
   ],
   "source": [
    "#Matrix multiplication\n",
    "import numpy as np\n",
    "\n",
    "A=np.arange(21,30).reshape(3,3)\n",
    "B=np.arange(31,40).reshape(3,3)\n",
    "\n",
    "A.dot(B)"
   ]
  },
  {
   "cell_type": "code",
   "execution_count": 6,
   "metadata": {},
   "outputs": [
    {
     "name": "stdout",
     "output_type": "stream",
     "text": [
      "Temp1:\n",
      "[[306108 313056 320004]\n",
      " [347742 355635 363528]\n",
      " [389376 398214 407052]]\n",
      "Temp2:\n",
      "[[306108 313056 320004]\n",
      " [347742 355635 363528]\n",
      " [389376 398214 407052]]\n"
     ]
    }
   ],
   "source": [
    "#Properties of matrix multiplication\n",
    "#ABC =  (AB)C = A(BC)\n",
    "import numpy as np\n",
    "A=np.arange(21,30).reshape(3,3)\n",
    "B=np.arange(31,40).reshape(3,3)\n",
    "C=np.arange(41,50).reshape(3,3)\n",
    "\n",
    "temp1=(A.dot(B)).dot(C)\n",
    "print(\"Temp1:\")\n",
    "print(temp1)\n",
    "temp2=A.dot((B.dot(C)))\n",
    "print(\"Temp2:\")\n",
    "print(temp2)"
   ]
  },
  {
   "cell_type": "code",
   "execution_count": 8,
   "metadata": {},
   "outputs": [
    {
     "name": "stdout",
     "output_type": "stream",
     "text": [
      "Array is:\n",
      "[[100 101 102 103]\n",
      " [104 105 106 107]\n",
      " [108 109 110 111]\n",
      " [112 113 114 115]]\n"
     ]
    },
    {
     "data": {
      "text/plain": [
       "-2.958228394578808e-31"
      ]
     },
     "execution_count": 8,
     "metadata": {},
     "output_type": "execute_result"
    }
   ],
   "source": [
    "import numpy as np\n",
    "#create a 4*4 matrix\n",
    "arr = np.arange(100,116).reshape(4,4)\n",
    "print(\"Array is:\")\n",
    "print(arr)\n",
    "#find the determinant\n",
    "np.linalg.det(arr)"
   ]
  },
  {
   "cell_type": "code",
   "execution_count": 10,
   "metadata": {},
   "outputs": [
    {
     "name": "stdout",
     "output_type": "stream",
     "text": [
      "[[ 5  6  7  8]\n",
      " [ 9 10 11 12]\n",
      " [13 14 15 16]\n",
      " [17 18 19 20]]\n"
     ]
    },
    {
     "data": {
      "text/plain": [
       "array([[-6.77233027e+13,  6.09509724e+14, -1.01584954e+15,\n",
       "         4.74063119e+14],\n",
       "       [-3.26200575e+15,  3.83765382e+15,  2.11070960e+15,\n",
       "        -2.68635767e+15],\n",
       "       [ 6.72718140e+15, -9.50383681e+15, -1.17387058e+15,\n",
       "         3.95052599e+15],\n",
       "       [-3.39745235e+15,  5.05667327e+15,  7.90105198e+13,\n",
       "        -1.73823144e+15]])"
      ]
     },
     "execution_count": 10,
     "metadata": {},
     "output_type": "execute_result"
    }
   ],
   "source": [
    "#Code for inverse in python\n",
    "\n",
    "import numpy as np\n",
    "#create an array arr1\n",
    "arr1 = np.arange(5,21).reshape(4,4)\n",
    "print(arr1)\n",
    "#find the inverse\n",
    "np.linalg.inv(arr1)\n",
    "\n",
    " "
   ]
  },
  {
   "cell_type": "code",
   "execution_count": 2,
   "metadata": {},
   "outputs": [
    {
     "ename": "SyntaxError",
     "evalue": "EOL while scanning string literal (<ipython-input-2-8c07e3ef5a8d>, line 6)",
     "output_type": "error",
     "traceback": [
      "\u001b[1;36m  File \u001b[1;32m\"<ipython-input-2-8c07e3ef5a8d>\"\u001b[1;36m, line \u001b[1;32m6\u001b[0m\n\u001b[1;33m    Df = pd.read_csv(\"baseball.csv”)\u001b[0m\n\u001b[1;37m                                    ^\u001b[0m\n\u001b[1;31mSyntaxError\u001b[0m\u001b[1;31m:\u001b[0m EOL while scanning string literal\n"
     ]
    }
   ],
   "source": [
    "import pandas as pd\n",
    "import numpy as np\n",
    "\n",
    "#you don’t need to bother about the following. It just #transforms the data from original source into matrix\n",
    "\n",
    "Df = pd.read_csv(\"baseball.csv”)\n",
    "Df1 = df.head(14)\n",
    "\n",
    "# We are just taking 6 features to calculate θ.\n",
    "X = Df1[[‘RS’, ‘RA’, ‘W’, ‘OBP’,'SLG','BA']]\n",
    "Y=Df1['OOBP']\n",
    "\n",
    "#Converting X to matrix\n",
    "X = np.asmatrix(X)\n",
    "\n",
    "#taking transpose of X and assigning it to x\n",
    "x= np.transpose(X)\n",
    "\n",
    "#finding multiplication\n",
    "T= x.dot(X)\n",
    "\n",
    "#inverse of T - provided it is invertible otherwise we use pseudoinverse\n",
    "inv=np.linalg.inv(T)\n",
    "\n",
    "#calculating θ\n",
    "theta=(inv.dot(X.T)).dot(Y)"
   ]
  },
  {
   "cell_type": "code",
   "execution_count": null,
   "metadata": {},
   "outputs": [],
   "source": []
  },
  {
   "cell_type": "code",
   "execution_count": null,
   "metadata": {},
   "outputs": [],
   "source": []
  }
 ],
 "metadata": {
  "kernelspec": {
   "display_name": "Python 3",
   "language": "python",
   "name": "python3"
  },
  "language_info": {
   "codemirror_mode": {
    "name": "ipython",
    "version": 3
   },
   "file_extension": ".py",
   "mimetype": "text/x-python",
   "name": "python",
   "nbconvert_exporter": "python",
   "pygments_lexer": "ipython3",
   "version": "3.7.4"
  }
 },
 "nbformat": 4,
 "nbformat_minor": 2
}
