{
 "cells": [
  {
   "cell_type": "code",
   "execution_count": 2,
   "metadata": {},
   "outputs": [],
   "source": [
    "import numpy as np"
   ]
  },
  {
   "cell_type": "markdown",
   "metadata": {},
   "source": [
    "You are given 5 cylindrical containers with different radius and heights ranging between 5 and 25 cm. Find out\n",
    "a) the volume of water that each container can contain,\n",
    "b) the total volume of water that all containers can contain,\n",
    "c) which container can hold the highest volume and how much,\n",
    "d) which container can hold the least volume and how much,\n",
    "e) what is the mean, median and standard deviation of the volumes of water that can be contained in the containers?\n"
   ]
  },
  {
   "cell_type": "code",
   "execution_count": 10,
   "metadata": {},
   "outputs": [
    {
     "name": "stdout",
     "output_type": "stream",
     "text": [
      "Vslues:  [17 20  5  8  8 12 14 24 23  9]\n",
      "Reshape Values:\n",
      " [[17 20]\n",
      " [ 5  8]\n",
      " [ 8 12]\n",
      " [14 24]\n",
      " [23  9]]\n",
      "Radius:  [17  5  8 14 23]\n",
      "Height:  [20  8 12 24  9]\n",
      "Volume:  [18158.40553775   628.31853072  2412.74315796 14778.05184249\n",
      " 14957.12262374]\n",
      "Total Volume:  50934.64169265132\n"
     ]
    }
   ],
   "source": [
    "no_of_items = 10\n",
    "lower_limit = 5\n",
    "upper_limit = 25\n",
    "np.random.seed(0)\n",
    "values = np.random.randint(lower_limit, upper_limit, no_of_items)\n",
    "print(\"Vslues: \",values)\n",
    "no_of_rows = 5\n",
    "no_of_columns = 2\n",
    "containers = values.reshape(no_of_rows, no_of_columns)\n",
    "print(\"Reshape Values:\\n\",containers)\n",
    "radius = containers[:,0]\n",
    "print(\"Radius: \",radius)\n",
    "height = containers[:,1]\n",
    "print(\"Height: \",height)\n",
    "volume = np.pi*(radius**2)*height\n",
    "print(\"Volume: \",volume)\n",
    "total_volume = volume.sum()\n",
    "print(\"Total Volume: \",total_volume)"
   ]
  },
  {
   "cell_type": "code",
   "execution_count": null,
   "metadata": {},
   "outputs": [],
   "source": []
  }
 ],
 "metadata": {
  "kernelspec": {
   "display_name": "Python 3",
   "language": "python",
   "name": "python3"
  },
  "language_info": {
   "codemirror_mode": {
    "name": "ipython",
    "version": 3
   },
   "file_extension": ".py",
   "mimetype": "text/x-python",
   "name": "python",
   "nbconvert_exporter": "python",
   "pygments_lexer": "ipython3",
   "version": "3.7.4"
  }
 },
 "nbformat": 4,
 "nbformat_minor": 2
}
